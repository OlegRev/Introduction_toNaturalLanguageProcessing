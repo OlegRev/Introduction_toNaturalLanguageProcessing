{
  "nbformat": 4,
  "nbformat_minor": 0,
  "metadata": {
    "accelerator": "GPU",
    "colab": {
      "name": "nmt.ipynb",
      "provenance": [],
      "collapsed_sections": []
    },
    "kernelspec": {
      "display_name": "Python 3",
      "name": "python3"
    }
  },
  "cells": [
    {
      "cell_type": "markdown",
      "metadata": {
        "id": "J0Qjg6vuaHNt"
      },
      "source": [
        "# Neural machine translation"
      ]
    },
    {
      "cell_type": "code",
      "metadata": {
        "id": "tnxXKDjq3jEL"
      },
      "source": [
        "import tensorflow as tf\n",
        "\n",
        "import matplotlib.pyplot as plt\n",
        "import matplotlib.ticker as ticker\n",
        "from sklearn.model_selection import train_test_split\n",
        "\n",
        "import unicodedata\n",
        "import re\n",
        "import numpy as np\n",
        "import os\n",
        "import io\n",
        "import time"
      ],
      "execution_count": 1,
      "outputs": []
    },
    {
      "cell_type": "markdown",
      "metadata": {
        "id": "wfodePkj3jEa"
      },
      "source": [
        "## Download and prepare the dataset\n",
        "\n",
        "We'll use a language dataset provided by http://www.manythings.org/anki/"
      ]
    },
    {
      "cell_type": "code",
      "metadata": {
        "id": "CNvjhDyAKk3U",
        "colab": {
          "base_uri": "https://localhost:8080/"
        },
        "outputId": "1b496a6d-fa07-4d38-a883-6fbba8966344"
      },
      "source": [
        "!wget http://www.manythings.org/anki/rus-eng.zip"
      ],
      "execution_count": 2,
      "outputs": [
        {
          "output_type": "stream",
          "name": "stdout",
          "text": [
            "--2021-10-07 10:38:49--  http://www.manythings.org/anki/rus-eng.zip\n",
            "Resolving www.manythings.org (www.manythings.org)... 104.21.92.44, 172.67.186.54, 2606:4700:3033::ac43:ba36, ...\n",
            "Connecting to www.manythings.org (www.manythings.org)|104.21.92.44|:80... connected.\n",
            "HTTP request sent, awaiting response... 200 OK\n",
            "Length: 14385451 (14M) [application/zip]\n",
            "Saving to: ‘rus-eng.zip’\n",
            "\n",
            "rus-eng.zip         100%[===================>]  13.72M  37.6MB/s    in 0.4s    \n",
            "\n",
            "2021-10-07 10:38:49 (37.6 MB/s) - ‘rus-eng.zip’ saved [14385451/14385451]\n",
            "\n"
          ]
        }
      ]
    },
    {
      "cell_type": "code",
      "metadata": {
        "id": "83bg17Lr-7XK",
        "colab": {
          "base_uri": "https://localhost:8080/"
        },
        "outputId": "d6a0a2d1-6aac-4520-86f5-cb8afe9d3f96"
      },
      "source": [
        "!mkdir rus-eng\n",
        "!unzip rus-eng.zip -d rus-eng/"
      ],
      "execution_count": 3,
      "outputs": [
        {
          "output_type": "stream",
          "name": "stdout",
          "text": [
            "Archive:  rus-eng.zip\n",
            "  inflating: rus-eng/rus.txt         \n",
            "  inflating: rus-eng/_about.txt      \n"
          ]
        }
      ]
    },
    {
      "cell_type": "code",
      "metadata": {
        "id": "7o5L92efMMhf",
        "colab": {
          "base_uri": "https://localhost:8080/"
        },
        "outputId": "4ec07db4-560e-4a50-bfdd-10d8753a2ff6"
      },
      "source": [
        "!ls /content/rus-eng/ -lah"
      ],
      "execution_count": 4,
      "outputs": [
        {
          "output_type": "stream",
          "name": "stdout",
          "text": [
            "total 69M\n",
            "drwxr-xr-x 2 root root 4.0K Oct  7 10:38 .\n",
            "drwxr-xr-x 1 root root 4.0K Oct  7 10:38 ..\n",
            "-rw-r--r-- 1 root root 1.5K Jul 14 10:16 _about.txt\n",
            "-rw-r--r-- 1 root root  69M Jul 14 10:16 rus.txt\n"
          ]
        }
      ]
    },
    {
      "cell_type": "code",
      "metadata": {
        "id": "kRVATYOgJs1b"
      },
      "source": [
        "# Download the file\n",
        "path_to_file = \"/content/rus-eng/rus.txt\""
      ],
      "execution_count": 5,
      "outputs": []
    },
    {
      "cell_type": "code",
      "metadata": {
        "id": "rd0jw-eC3jEh"
      },
      "source": [
        "def preprocess_sentence(w):\n",
        "  w = w.lower().strip()\n",
        "\n",
        "  # creating a space between a word and the punctuation following it\n",
        "  # eg: \"he is a boy.\" => \"he is a boy .\"\n",
        "  # Reference:- https://stackoverflow.com/questions/3645931/python-padding-punctuation-with-white-spaces-keeping-punctuation\n",
        "  w = re.sub(r\"([?.!,])\", r\" \\1 \", w)\n",
        "  w = re.sub(r'[\" \"]+', \" \", w)\n",
        "\n",
        "  # replacing everything with space except (a-z, A-Z, \".\", \"?\", \"!\", \",\")\n",
        "  w = re.sub(r\"[^a-zA-Zа-яА-Я?.!,']+\", \" \", w)\n",
        "\n",
        "  w = w.strip()\n",
        "\n",
        "  # adding a start and an end token to the sentence\n",
        "  # so that the model know when to start and stop predicting.\n",
        "  w = '<start> ' + w + ' <end>'\n",
        "  return w"
      ],
      "execution_count": 6,
      "outputs": []
    },
    {
      "cell_type": "code",
      "metadata": {
        "id": "yV9lZXQXNbnH",
        "colab": {
          "base_uri": "https://localhost:8080/",
          "height": 36
        },
        "outputId": "ba0c78a3-7d4f-49d4-bf34-eb05535d1df8"
      },
      "source": [
        "preprocess_sentence(\"I can't go.\")"
      ],
      "execution_count": 7,
      "outputs": [
        {
          "output_type": "execute_result",
          "data": {
            "application/vnd.google.colaboratory.intrinsic+json": {
              "type": "string"
            },
            "text/plain": [
              "\"<start> i can't go . <end>\""
            ]
          },
          "metadata": {},
          "execution_count": 7
        }
      ]
    },
    {
      "cell_type": "code",
      "metadata": {
        "id": "OHn4Dct23jEm"
      },
      "source": [
        "# 1. Remove the accents\n",
        "# 2. Clean the sentences\n",
        "# 3. Return word pairs in the format: [ENG, RUS]\n",
        "def create_dataset(path, num_examples):\n",
        "  lines = io.open(path, encoding='UTF-8').read().strip().split('\\n')\n",
        "\n",
        "  word_pairs = [[preprocess_sentence(w) for w in l.split('\\t')[:2]]  for l in lines[:num_examples]]\n",
        "\n",
        "  return zip(*word_pairs)"
      ],
      "execution_count": 8,
      "outputs": []
    },
    {
      "cell_type": "code",
      "metadata": {
        "id": "cTbSbBz55QtF",
        "colab": {
          "base_uri": "https://localhost:8080/"
        },
        "outputId": "53747532-adff-44f3-e92f-c7aeb578aca0"
      },
      "source": [
        "en, ru = create_dataset(path_to_file, None)\n",
        "print(en[0])\n",
        "print(ru[0])"
      ],
      "execution_count": 9,
      "outputs": [
        {
          "output_type": "stream",
          "name": "stdout",
          "text": [
            "<start> go . <end>\n",
            "<start> марш ! <end>\n"
          ]
        }
      ]
    },
    {
      "cell_type": "code",
      "metadata": {
        "id": "bIOn8RCNDJXG"
      },
      "source": [
        "def tokenize(lang):\n",
        "  lang_tokenizer = tf.keras.preprocessing.text.Tokenizer(\n",
        "      filters='')\n",
        "  lang_tokenizer.fit_on_texts(lang)\n",
        "\n",
        "  tensor = lang_tokenizer.texts_to_sequences(lang)\n",
        "\n",
        "  tensor = tf.keras.preprocessing.sequence.pad_sequences(tensor,\n",
        "                                                         padding='post')\n",
        "\n",
        "  return tensor, lang_tokenizer"
      ],
      "execution_count": 10,
      "outputs": []
    },
    {
      "cell_type": "code",
      "metadata": {
        "id": "eAY9k49G3jE_"
      },
      "source": [
        "def load_dataset(path, num_examples=None):\n",
        "  # creating cleaned input, output pairs\n",
        "  targ_lang, inp_lang = create_dataset(path, num_examples)\n",
        "\n",
        "  input_tensor, inp_lang_tokenizer = tokenize(inp_lang)\n",
        "  target_tensor, targ_lang_tokenizer = tokenize(targ_lang)\n",
        "\n",
        "  return input_tensor, target_tensor, inp_lang_tokenizer, targ_lang_tokenizer"
      ],
      "execution_count": 11,
      "outputs": []
    },
    {
      "cell_type": "markdown",
      "metadata": {
        "id": "GOi42V79Ydlr"
      },
      "source": [
        "### Limit the size of the dataset to experiment faster (optional)\n"
      ]
    },
    {
      "cell_type": "code",
      "metadata": {
        "id": "C8j9g9AnIeZV",
        "colab": {
          "base_uri": "https://localhost:8080/"
        },
        "outputId": "acb3062b-289f-4538-f154-14953f5c76ac"
      },
      "source": [
        "len(en), len(ru)"
      ],
      "execution_count": 12,
      "outputs": [
        {
          "output_type": "execute_result",
          "data": {
            "text/plain": [
              "(431097, 431097)"
            ]
          },
          "metadata": {},
          "execution_count": 12
        }
      ]
    },
    {
      "cell_type": "code",
      "metadata": {
        "id": "cnxC7q-j3jFD"
      },
      "source": [
        "# Try experimenting with the size of that dataset\n",
        "num_examples = 100000\n",
        "input_tensor, target_tensor, inp_lang, targ_lang = load_dataset(path_to_file, num_examples)\n",
        "\n",
        "# Calculate max_length of the target tensors\n",
        "max_length_targ, max_length_inp = target_tensor.shape[1], input_tensor.shape[1]"
      ],
      "execution_count": 13,
      "outputs": []
    },
    {
      "cell_type": "code",
      "metadata": {
        "id": "4QILQkOs3jFG",
        "colab": {
          "base_uri": "https://localhost:8080/"
        },
        "outputId": "a9c4b04f-e4dd-4be0-ddcc-5f342302c77a"
      },
      "source": [
        "# Creating training and validation sets using an 80-20 split\n",
        "input_tensor_train, input_tensor_val, target_tensor_train, target_tensor_val = train_test_split(input_tensor, target_tensor, test_size=0.2)\n",
        "\n",
        "# Show length\n",
        "print(len(input_tensor_train), len(target_tensor_train), len(input_tensor_val), len(target_tensor_val))"
      ],
      "execution_count": 14,
      "outputs": [
        {
          "output_type": "stream",
          "name": "stdout",
          "text": [
            "80000 80000 20000 20000\n"
          ]
        }
      ]
    },
    {
      "cell_type": "code",
      "metadata": {
        "id": "lJPmLZGMeD5q"
      },
      "source": [
        "def convert(lang, tensor):\n",
        "  for t in tensor:\n",
        "    if t!=0:\n",
        "      print (\"%d ----> %s\" % (t, lang.index_word[t]))"
      ],
      "execution_count": 15,
      "outputs": []
    },
    {
      "cell_type": "code",
      "metadata": {
        "id": "VXukARTDd7MT",
        "colab": {
          "base_uri": "https://localhost:8080/"
        },
        "outputId": "c058db97-2f2d-4cde-9c15-8fd41a6466e2"
      },
      "source": [
        "print (\"Input Language; index to word mapping\")\n",
        "convert(inp_lang, input_tensor_train[0])\n",
        "print ()\n",
        "print (\"Target Language; index to word mapping\")\n",
        "convert(targ_lang, target_tensor_train[0])"
      ],
      "execution_count": 16,
      "outputs": [
        {
          "output_type": "stream",
          "name": "stdout",
          "text": [
            "Input Language; index to word mapping\n",
            "1 ----> <start>\n",
            "4 ----> я\n",
            "223 ----> потерял\n",
            "254 ----> свои\n",
            "172 ----> деньги\n",
            "3 ----> .\n",
            "2 ----> <end>\n",
            "\n",
            "Target Language; index to word mapping\n",
            "1 ----> <start>\n",
            "4 ----> i\n",
            "145 ----> lost\n",
            "21 ----> my\n",
            "175 ----> money\n",
            "3 ----> .\n",
            "2 ----> <end>\n"
          ]
        }
      ]
    },
    {
      "cell_type": "markdown",
      "metadata": {
        "id": "rgCLkfv5uO3d"
      },
      "source": [
        "### Create a tf.data dataset"
      ]
    },
    {
      "cell_type": "code",
      "metadata": {
        "id": "TqHsArVZ3jFS"
      },
      "source": [
        "BUFFER_SIZE = len(input_tensor_train)\n",
        "BATCH_SIZE = 64\n",
        "steps_per_epoch = len(input_tensor_train)//BATCH_SIZE\n",
        "embedding_dim = 300\n",
        "units = 1024\n",
        "vocab_inp_size = len(inp_lang.word_index)+1\n",
        "vocab_tar_size = len(targ_lang.word_index)+1\n",
        "\n",
        "dataset = tf.data.Dataset.from_tensor_slices((input_tensor_train, target_tensor_train)).shuffle(BUFFER_SIZE)\n",
        "dataset = dataset.batch(BATCH_SIZE, drop_remainder=True)"
      ],
      "execution_count": 17,
      "outputs": []
    },
    {
      "cell_type": "code",
      "metadata": {
        "id": "qc6-NK1GtWQt",
        "colab": {
          "base_uri": "https://localhost:8080/"
        },
        "outputId": "2d2eb964-8f28-4e6a-cc78-26c6b989e1dd"
      },
      "source": [
        "example_input_batch, example_target_batch = next(iter(dataset))\n",
        "example_input_batch.shape, example_target_batch.shape"
      ],
      "execution_count": 18,
      "outputs": [
        {
          "output_type": "execute_result",
          "data": {
            "text/plain": [
              "(TensorShape([64, 15]), TensorShape([64, 11]))"
            ]
          },
          "metadata": {},
          "execution_count": 18
        }
      ]
    },
    {
      "cell_type": "code",
      "metadata": {
        "id": "nZ2rI24i3jFg"
      },
      "source": [
        "class Encoder(tf.keras.Model):\n",
        "  def __init__(self, vocab_size, embedding_dim, enc_units, batch_sz):\n",
        "    super(Encoder, self).__init__()\n",
        "    self.batch_sz = batch_sz\n",
        "    self.enc_units = enc_units\n",
        "    self.embedding = tf.keras.layers.Embedding(vocab_size, embedding_dim)\n",
        "    self.gru = tf.keras.layers.GRU(self.enc_units,\n",
        "                                   return_sequences=False,\n",
        "                                   return_state=True,\n",
        "                                   recurrent_initializer='glorot_uniform')\n",
        "    \n",
        "\n",
        "  def call(self, x, hidden):\n",
        "    x = self.embedding(x)\n",
        "    output, state = self.gru(x, initial_state = hidden)\n",
        "    return state\n",
        "\n",
        "  def initialize_hidden_state(self):\n",
        "    return tf.zeros((self.batch_sz, self.enc_units))"
      ],
      "execution_count": 19,
      "outputs": []
    },
    {
      "cell_type": "code",
      "metadata": {
        "id": "60gSVh05Jl6l",
        "colab": {
          "base_uri": "https://localhost:8080/"
        },
        "outputId": "e3f82a59-5c24-4b75-845f-945140eb7a84"
      },
      "source": [
        "encoder = Encoder(vocab_inp_size, embedding_dim, units, BATCH_SIZE)\n",
        "\n",
        "# sample input\n",
        "sample_hidden = encoder.initialize_hidden_state()\n",
        "sample_hidden = encoder(example_input_batch, sample_hidden)\n",
        "# print ('Encoder output shape: (batch size, sequence length, units) {}'.format(sample_output.shape))\n",
        "print ('Encoder Hidden state shape: (batch size, units) {}'.format(sample_hidden.shape))"
      ],
      "execution_count": 20,
      "outputs": [
        {
          "output_type": "stream",
          "name": "stdout",
          "text": [
            "Encoder Hidden state shape: (batch size, units) (64, 1024)\n"
          ]
        }
      ]
    },
    {
      "cell_type": "code",
      "metadata": {
        "id": "yJ_B3mhW3jFk"
      },
      "source": [
        "class Decoder(tf.keras.Model):\n",
        "  def __init__(self, vocab_size, embedding_dim, dec_units, batch_sz):\n",
        "    super(Decoder, self).__init__()\n",
        "    self.batch_sz = batch_sz\n",
        "    self.dec_units = dec_units\n",
        "    self.embedding = tf.keras.layers.Embedding(vocab_size, embedding_dim)\n",
        "    self.gru = tf.keras.layers.GRU(self.dec_units,\n",
        "                                   return_sequences=True,\n",
        "                                   return_state=True,\n",
        "                                   recurrent_initializer='glorot_uniform')\n",
        "    self.fc = tf.keras.layers.Dense(vocab_size)\n",
        "\n",
        "  def call(self, x, hidden):\n",
        "    # enc_output shape == (batch_size, max_length, hidden_size)\n",
        "\n",
        "    # x shape after passing through embedding == (batch_size, 1, embedding_dim)\n",
        "    x = self.embedding(x)\n",
        "\n",
        "    # x shape after concatenation == (batch_size, 1, embedding_dim + hidden_size)\n",
        "\n",
        "    # passing the concatenated vector to the GRU\n",
        "    output, state = self.gru(x, initial_state=hidden)\n",
        "\n",
        "    # output shape == (batch_size * 1, hidden_size)\n",
        "    output = tf.reshape(output, (-1, output.shape[2]))\n",
        "\n",
        "    # output shape == (batch_size, vocab)\n",
        "    x = self.fc(output)\n",
        "\n",
        "    return x, state"
      ],
      "execution_count": 21,
      "outputs": []
    },
    {
      "cell_type": "code",
      "metadata": {
        "id": "P5UY8wko3jFp"
      },
      "source": [
        "decoder = Decoder(vocab_tar_size, embedding_dim, units, BATCH_SIZE)\n",
        "\n",
        "decoder_sample_x, decoder_sample_h = decoder(tf.random.uniform((BATCH_SIZE, 1)),\n",
        "                                      sample_hidden)\n",
        "\n"
      ],
      "execution_count": 22,
      "outputs": []
    },
    {
      "cell_type": "code",
      "metadata": {
        "colab": {
          "base_uri": "https://localhost:8080/"
        },
        "id": "XKcypC0AGeLR",
        "outputId": "2785ec2c-8cbd-4309-bb2d-bc6170128589"
      },
      "source": [
        "decoder_sample_x.shape"
      ],
      "execution_count": 23,
      "outputs": [
        {
          "output_type": "execute_result",
          "data": {
            "text/plain": [
              "TensorShape([64, 7260])"
            ]
          },
          "metadata": {},
          "execution_count": 23
        }
      ]
    },
    {
      "cell_type": "code",
      "metadata": {
        "id": "6y0HF-zMF_vp",
        "colab": {
          "base_uri": "https://localhost:8080/"
        },
        "outputId": "3910b8e1-8c5d-4e39-f64c-a689a51b9f91"
      },
      "source": [
        "decoder_sample_h.shape"
      ],
      "execution_count": 24,
      "outputs": [
        {
          "output_type": "execute_result",
          "data": {
            "text/plain": [
              "TensorShape([64, 1024])"
            ]
          },
          "metadata": {},
          "execution_count": 24
        }
      ]
    },
    {
      "cell_type": "markdown",
      "metadata": {
        "id": "_ch_71VbIRfK"
      },
      "source": [
        "## Define the optimizer and the loss function"
      ]
    },
    {
      "cell_type": "code",
      "metadata": {
        "id": "WmTHr5iV3jFr"
      },
      "source": [
        "optimizer = tf.keras.optimizers.Adam()\n",
        "\n",
        "loss_object = tf.keras.losses.SparseCategoricalCrossentropy(\n",
        "    from_logits=True, reduction='none')\n",
        "\n",
        "def loss_function(real, pred):\n",
        "  mask = tf.math.logical_not(tf.math.equal(real, 0))\n",
        "  loss_ = loss_object(real, pred)\n",
        "\n",
        "  mask = tf.cast(mask, dtype=loss_.dtype)\n",
        "  loss_ *= mask\n",
        "\n",
        "  return tf.reduce_mean(loss_)"
      ],
      "execution_count": 25,
      "outputs": []
    },
    {
      "cell_type": "markdown",
      "metadata": {
        "id": "DMVWzzsfNl4e"
      },
      "source": [
        "## Checkpoints (Object-based saving)"
      ]
    },
    {
      "cell_type": "code",
      "metadata": {
        "id": "Zj8bXQTgNwrF"
      },
      "source": [
        "checkpoint_dir = './training_nmt_checkpoints'\n",
        "\n",
        "checkpoint_prefix = os.path.join(checkpoint_dir, \"ckpt\")\n",
        "\n",
        "checkpoint = tf.train.Checkpoint(optimizer=optimizer,\n",
        "                                 encoder=encoder,\n",
        "                                 decoder=decoder)"
      ],
      "execution_count": 26,
      "outputs": []
    },
    {
      "cell_type": "code",
      "metadata": {
        "id": "sC9ArXSsVfqn"
      },
      "source": [
        "@tf.function\n",
        "def train_step(inp, targ, enc_hidden):\n",
        "  loss = 0\n",
        "\n",
        "  with tf.GradientTape() as tape:\n",
        "    enc_hidden = encoder(inp, enc_hidden)\n",
        "\n",
        "    dec_hidden = enc_hidden\n",
        "\n",
        "    dec_input = tf.expand_dims([targ_lang.word_index['<start>']] * BATCH_SIZE, 1)\n",
        "\n",
        "    # Teacher forcing - feeding the target as the next input\n",
        "    for t in range(1, targ.shape[1]):\n",
        "      # passing enc_output to the decoder\n",
        "      predictions, dec_hidden = decoder(dec_input, dec_hidden)\n",
        "\n",
        "      loss += loss_function(targ[:, t], predictions)\n",
        "\n",
        "      # using teacher forcing\n",
        "      dec_input = tf.expand_dims(targ[:, t], 1)\n",
        "\n",
        "  batch_loss = (loss / int(targ.shape[1]))\n",
        "\n",
        "  variables = encoder.trainable_variables + decoder.trainable_variables\n",
        "\n",
        "  gradients = tape.gradient(loss, variables)\n",
        "\n",
        "  optimizer.apply_gradients(zip(gradients, variables))\n",
        "\n",
        "  return batch_loss"
      ],
      "execution_count": 27,
      "outputs": []
    },
    {
      "cell_type": "code",
      "metadata": {
        "id": "ddefjBMa3jF0",
        "colab": {
          "base_uri": "https://localhost:8080/"
        },
        "outputId": "b2a3a469-7e7c-49e4-ed66-c5155a7e12a6"
      },
      "source": [
        "EPOCHS = 50\n",
        "\n",
        "for epoch in range(EPOCHS):\n",
        "  start = time.time()\n",
        "\n",
        "  enc_hidden = encoder.initialize_hidden_state()\n",
        "  total_loss = 0\n",
        "\n",
        "  for (batch, (inp, targ)) in enumerate(dataset.take(steps_per_epoch)):\n",
        "    batch_loss = train_step(inp, targ, enc_hidden)\n",
        "    total_loss += batch_loss\n",
        "\n",
        "    if batch % 100 == 0:\n",
        "      print('Epoch {} Batch {} Loss {:.4f}'.format(epoch + 1,\n",
        "                                                   batch,\n",
        "                                                   batch_loss.numpy()))\n",
        "  # saving (checkpoint) the model every 2 epochs\n",
        "  if (epoch + 1) % 2 == 0:\n",
        "    checkpoint.save(file_prefix = checkpoint_prefix)\n",
        "\n",
        "  print('Epoch {} Loss {:.4f}'.format(epoch + 1,\n",
        "                                      total_loss / steps_per_epoch))\n",
        "  print('Time taken for 1 epoch {} sec\\n'.format(time.time() - start))"
      ],
      "execution_count": 28,
      "outputs": [
        {
          "output_type": "stream",
          "name": "stdout",
          "text": [
            "Epoch 1 Batch 0 Loss 4.7229\n",
            "Epoch 1 Batch 100 Loss 2.1589\n",
            "Epoch 1 Batch 200 Loss 1.7661\n",
            "Epoch 1 Batch 300 Loss 1.6643\n",
            "Epoch 1 Batch 400 Loss 1.6238\n",
            "Epoch 1 Batch 500 Loss 1.4826\n",
            "Epoch 1 Batch 600 Loss 1.3670\n",
            "Epoch 1 Batch 700 Loss 1.1615\n",
            "Epoch 1 Batch 800 Loss 1.1894\n",
            "Epoch 1 Batch 900 Loss 1.1197\n",
            "Epoch 1 Batch 1000 Loss 1.0301\n",
            "Epoch 1 Batch 1100 Loss 0.9671\n",
            "Epoch 1 Batch 1200 Loss 0.9251\n",
            "Epoch 1 Loss 1.4173\n",
            "Time taken for 1 epoch 150.99754548072815 sec\n",
            "\n",
            "Epoch 2 Batch 0 Loss 0.8319\n",
            "Epoch 2 Batch 100 Loss 0.8071\n",
            "Epoch 2 Batch 200 Loss 0.8099\n",
            "Epoch 2 Batch 300 Loss 0.7665\n",
            "Epoch 2 Batch 400 Loss 0.8301\n",
            "Epoch 2 Batch 500 Loss 0.7838\n",
            "Epoch 2 Batch 600 Loss 0.6731\n",
            "Epoch 2 Batch 700 Loss 0.6854\n",
            "Epoch 2 Batch 800 Loss 0.6756\n",
            "Epoch 2 Batch 900 Loss 0.7097\n",
            "Epoch 2 Batch 1000 Loss 0.6598\n",
            "Epoch 2 Batch 1100 Loss 0.5919\n",
            "Epoch 2 Batch 1200 Loss 0.5439\n",
            "Epoch 2 Loss 0.7070\n",
            "Time taken for 1 epoch 137.43790888786316 sec\n",
            "\n",
            "Epoch 3 Batch 0 Loss 0.4841\n",
            "Epoch 3 Batch 100 Loss 0.4645\n",
            "Epoch 3 Batch 200 Loss 0.3950\n",
            "Epoch 3 Batch 300 Loss 0.3711\n",
            "Epoch 3 Batch 400 Loss 0.4471\n",
            "Epoch 3 Batch 500 Loss 0.3745\n",
            "Epoch 3 Batch 600 Loss 0.4323\n",
            "Epoch 3 Batch 700 Loss 0.4047\n",
            "Epoch 3 Batch 800 Loss 0.4243\n",
            "Epoch 3 Batch 900 Loss 0.4243\n",
            "Epoch 3 Batch 1000 Loss 0.4673\n",
            "Epoch 3 Batch 1100 Loss 0.3364\n",
            "Epoch 3 Batch 1200 Loss 0.3970\n",
            "Epoch 3 Loss 0.3952\n",
            "Time taken for 1 epoch 136.77255773544312 sec\n",
            "\n",
            "Epoch 4 Batch 0 Loss 0.2179\n",
            "Epoch 4 Batch 100 Loss 0.2439\n",
            "Epoch 4 Batch 200 Loss 0.2194\n",
            "Epoch 4 Batch 300 Loss 0.2355\n",
            "Epoch 4 Batch 400 Loss 0.2726\n",
            "Epoch 4 Batch 500 Loss 0.2950\n",
            "Epoch 4 Batch 600 Loss 0.2335\n",
            "Epoch 4 Batch 700 Loss 0.2078\n",
            "Epoch 4 Batch 800 Loss 0.2291\n",
            "Epoch 4 Batch 900 Loss 0.2284\n",
            "Epoch 4 Batch 1000 Loss 0.2289\n",
            "Epoch 4 Batch 1100 Loss 0.2234\n",
            "Epoch 4 Batch 1200 Loss 0.2309\n",
            "Epoch 4 Loss 0.2391\n",
            "Time taken for 1 epoch 137.47782015800476 sec\n",
            "\n",
            "Epoch 5 Batch 0 Loss 0.1599\n",
            "Epoch 5 Batch 100 Loss 0.0909\n",
            "Epoch 5 Batch 200 Loss 0.1115\n",
            "Epoch 5 Batch 300 Loss 0.1392\n",
            "Epoch 5 Batch 400 Loss 0.1388\n",
            "Epoch 5 Batch 500 Loss 0.1636\n",
            "Epoch 5 Batch 600 Loss 0.1637\n",
            "Epoch 5 Batch 700 Loss 0.1533\n",
            "Epoch 5 Batch 800 Loss 0.1954\n",
            "Epoch 5 Batch 900 Loss 0.1109\n",
            "Epoch 5 Batch 1000 Loss 0.1565\n",
            "Epoch 5 Batch 1100 Loss 0.1890\n",
            "Epoch 5 Batch 1200 Loss 0.1694\n",
            "Epoch 5 Loss 0.1624\n",
            "Time taken for 1 epoch 137.0075249671936 sec\n",
            "\n",
            "Epoch 6 Batch 0 Loss 0.1027\n",
            "Epoch 6 Batch 100 Loss 0.1196\n",
            "Epoch 6 Batch 200 Loss 0.1057\n",
            "Epoch 6 Batch 300 Loss 0.1205\n",
            "Epoch 6 Batch 400 Loss 0.1339\n",
            "Epoch 6 Batch 500 Loss 0.1024\n",
            "Epoch 6 Batch 600 Loss 0.1178\n",
            "Epoch 6 Batch 700 Loss 0.1299\n",
            "Epoch 6 Batch 800 Loss 0.1360\n",
            "Epoch 6 Batch 900 Loss 0.1637\n",
            "Epoch 6 Batch 1000 Loss 0.1141\n",
            "Epoch 6 Batch 1100 Loss 0.1535\n",
            "Epoch 6 Batch 1200 Loss 0.1924\n",
            "Epoch 6 Loss 0.1241\n",
            "Time taken for 1 epoch 137.7558572292328 sec\n",
            "\n",
            "Epoch 7 Batch 0 Loss 0.1288\n",
            "Epoch 7 Batch 100 Loss 0.0985\n",
            "Epoch 7 Batch 200 Loss 0.0912\n",
            "Epoch 7 Batch 300 Loss 0.1106\n",
            "Epoch 7 Batch 400 Loss 0.0822\n",
            "Epoch 7 Batch 500 Loss 0.0750\n",
            "Epoch 7 Batch 600 Loss 0.0751\n",
            "Epoch 7 Batch 700 Loss 0.1129\n",
            "Epoch 7 Batch 800 Loss 0.1182\n",
            "Epoch 7 Batch 900 Loss 0.1274\n",
            "Epoch 7 Batch 1000 Loss 0.1087\n",
            "Epoch 7 Batch 1100 Loss 0.1196\n",
            "Epoch 7 Batch 1200 Loss 0.1065\n",
            "Epoch 7 Loss 0.1042\n",
            "Time taken for 1 epoch 137.1174397468567 sec\n",
            "\n",
            "Epoch 8 Batch 0 Loss 0.0610\n",
            "Epoch 8 Batch 100 Loss 0.0542\n",
            "Epoch 8 Batch 200 Loss 0.1202\n",
            "Epoch 8 Batch 300 Loss 0.0753\n",
            "Epoch 8 Batch 400 Loss 0.0976\n",
            "Epoch 8 Batch 500 Loss 0.0664\n",
            "Epoch 8 Batch 600 Loss 0.1202\n",
            "Epoch 8 Batch 700 Loss 0.1022\n",
            "Epoch 8 Batch 800 Loss 0.0901\n",
            "Epoch 8 Batch 900 Loss 0.0881\n",
            "Epoch 8 Batch 1000 Loss 0.1109\n",
            "Epoch 8 Batch 1100 Loss 0.1200\n",
            "Epoch 8 Batch 1200 Loss 0.1406\n",
            "Epoch 8 Loss 0.0924\n",
            "Time taken for 1 epoch 137.6520459651947 sec\n",
            "\n",
            "Epoch 9 Batch 0 Loss 0.0609\n",
            "Epoch 9 Batch 100 Loss 0.1007\n",
            "Epoch 9 Batch 200 Loss 0.1196\n",
            "Epoch 9 Batch 300 Loss 0.1065\n",
            "Epoch 9 Batch 400 Loss 0.0875\n",
            "Epoch 9 Batch 500 Loss 0.0695\n",
            "Epoch 9 Batch 600 Loss 0.0681\n",
            "Epoch 9 Batch 700 Loss 0.0879\n",
            "Epoch 9 Batch 800 Loss 0.1217\n",
            "Epoch 9 Batch 900 Loss 0.0799\n",
            "Epoch 9 Batch 1000 Loss 0.0790\n",
            "Epoch 9 Batch 1100 Loss 0.0729\n",
            "Epoch 9 Batch 1200 Loss 0.1203\n",
            "Epoch 9 Loss 0.0844\n",
            "Time taken for 1 epoch 136.99771881103516 sec\n",
            "\n",
            "Epoch 10 Batch 0 Loss 0.0873\n",
            "Epoch 10 Batch 100 Loss 0.0823\n",
            "Epoch 10 Batch 200 Loss 0.0524\n",
            "Epoch 10 Batch 300 Loss 0.0609\n",
            "Epoch 10 Batch 400 Loss 0.0553\n",
            "Epoch 10 Batch 500 Loss 0.0695\n",
            "Epoch 10 Batch 600 Loss 0.0608\n",
            "Epoch 10 Batch 700 Loss 0.0766\n",
            "Epoch 10 Batch 800 Loss 0.0702\n",
            "Epoch 10 Batch 900 Loss 0.0725\n",
            "Epoch 10 Batch 1000 Loss 0.1101\n",
            "Epoch 10 Batch 1100 Loss 0.0989\n",
            "Epoch 10 Batch 1200 Loss 0.0978\n",
            "Epoch 10 Loss 0.0791\n",
            "Time taken for 1 epoch 137.37542009353638 sec\n",
            "\n",
            "Epoch 11 Batch 0 Loss 0.0649\n",
            "Epoch 11 Batch 100 Loss 0.0421\n",
            "Epoch 11 Batch 200 Loss 0.0839\n",
            "Epoch 11 Batch 300 Loss 0.0778\n",
            "Epoch 11 Batch 400 Loss 0.0834\n",
            "Epoch 11 Batch 500 Loss 0.1075\n",
            "Epoch 11 Batch 600 Loss 0.0496\n",
            "Epoch 11 Batch 700 Loss 0.0919\n",
            "Epoch 11 Batch 800 Loss 0.0494\n",
            "Epoch 11 Batch 900 Loss 0.0781\n",
            "Epoch 11 Batch 1000 Loss 0.0811\n",
            "Epoch 11 Batch 1100 Loss 0.0718\n",
            "Epoch 11 Batch 1200 Loss 0.0797\n",
            "Epoch 11 Loss 0.0750\n",
            "Time taken for 1 epoch 136.62118911743164 sec\n",
            "\n",
            "Epoch 12 Batch 0 Loss 0.0483\n",
            "Epoch 12 Batch 100 Loss 0.0746\n",
            "Epoch 12 Batch 200 Loss 0.0584\n",
            "Epoch 12 Batch 300 Loss 0.0353\n",
            "Epoch 12 Batch 400 Loss 0.0480\n",
            "Epoch 12 Batch 500 Loss 0.0798\n",
            "Epoch 12 Batch 600 Loss 0.0608\n",
            "Epoch 12 Batch 700 Loss 0.0762\n",
            "Epoch 12 Batch 800 Loss 0.1085\n",
            "Epoch 12 Batch 900 Loss 0.0804\n",
            "Epoch 12 Batch 1000 Loss 0.0996\n",
            "Epoch 12 Batch 1100 Loss 0.0768\n",
            "Epoch 12 Batch 1200 Loss 0.1021\n",
            "Epoch 12 Loss 0.0720\n",
            "Time taken for 1 epoch 137.19660449028015 sec\n",
            "\n",
            "Epoch 13 Batch 0 Loss 0.0488\n",
            "Epoch 13 Batch 100 Loss 0.0406\n",
            "Epoch 13 Batch 200 Loss 0.0795\n",
            "Epoch 13 Batch 300 Loss 0.0844\n",
            "Epoch 13 Batch 400 Loss 0.0598\n",
            "Epoch 13 Batch 500 Loss 0.0545\n",
            "Epoch 13 Batch 600 Loss 0.0726\n",
            "Epoch 13 Batch 700 Loss 0.0432\n",
            "Epoch 13 Batch 800 Loss 0.0688\n",
            "Epoch 13 Batch 900 Loss 0.0736\n",
            "Epoch 13 Batch 1000 Loss 0.0625\n",
            "Epoch 13 Batch 1100 Loss 0.0713\n",
            "Epoch 13 Batch 1200 Loss 0.0719\n",
            "Epoch 13 Loss 0.0690\n",
            "Time taken for 1 epoch 136.4656846523285 sec\n",
            "\n",
            "Epoch 14 Batch 0 Loss 0.0690\n",
            "Epoch 14 Batch 100 Loss 0.0754\n",
            "Epoch 14 Batch 200 Loss 0.0963\n",
            "Epoch 14 Batch 300 Loss 0.0782\n",
            "Epoch 14 Batch 400 Loss 0.1231\n",
            "Epoch 14 Batch 500 Loss 0.0746\n",
            "Epoch 14 Batch 600 Loss 0.0354\n",
            "Epoch 14 Batch 700 Loss 0.1088\n",
            "Epoch 14 Batch 800 Loss 0.0700\n",
            "Epoch 14 Batch 900 Loss 0.0565\n",
            "Epoch 14 Batch 1000 Loss 0.1276\n",
            "Epoch 14 Batch 1100 Loss 0.0652\n",
            "Epoch 14 Batch 1200 Loss 0.0698\n",
            "Epoch 14 Loss 0.0670\n",
            "Time taken for 1 epoch 137.14109539985657 sec\n",
            "\n",
            "Epoch 15 Batch 0 Loss 0.0813\n",
            "Epoch 15 Batch 100 Loss 0.0557\n",
            "Epoch 15 Batch 200 Loss 0.0389\n",
            "Epoch 15 Batch 300 Loss 0.0587\n",
            "Epoch 15 Batch 400 Loss 0.0799\n",
            "Epoch 15 Batch 500 Loss 0.0677\n",
            "Epoch 15 Batch 600 Loss 0.0609\n",
            "Epoch 15 Batch 700 Loss 0.0969\n",
            "Epoch 15 Batch 800 Loss 0.0511\n",
            "Epoch 15 Batch 900 Loss 0.1042\n",
            "Epoch 15 Batch 1000 Loss 0.0364\n",
            "Epoch 15 Batch 1100 Loss 0.0871\n",
            "Epoch 15 Batch 1200 Loss 0.0674\n",
            "Epoch 15 Loss 0.0648\n",
            "Time taken for 1 epoch 136.55529117584229 sec\n",
            "\n",
            "Epoch 16 Batch 0 Loss 0.0314\n",
            "Epoch 16 Batch 100 Loss 0.0700\n",
            "Epoch 16 Batch 200 Loss 0.0491\n",
            "Epoch 16 Batch 300 Loss 0.0783\n",
            "Epoch 16 Batch 400 Loss 0.0875\n",
            "Epoch 16 Batch 500 Loss 0.0624\n",
            "Epoch 16 Batch 600 Loss 0.0596\n",
            "Epoch 16 Batch 700 Loss 0.0741\n",
            "Epoch 16 Batch 800 Loss 0.0823\n",
            "Epoch 16 Batch 900 Loss 0.0606\n",
            "Epoch 16 Batch 1000 Loss 0.0569\n",
            "Epoch 16 Batch 1100 Loss 0.0605\n",
            "Epoch 16 Batch 1200 Loss 0.0775\n",
            "Epoch 16 Loss 0.0633\n",
            "Time taken for 1 epoch 137.0910210609436 sec\n",
            "\n",
            "Epoch 17 Batch 0 Loss 0.0633\n",
            "Epoch 17 Batch 100 Loss 0.0487\n",
            "Epoch 17 Batch 200 Loss 0.0439\n",
            "Epoch 17 Batch 300 Loss 0.0603\n",
            "Epoch 17 Batch 400 Loss 0.0418\n",
            "Epoch 17 Batch 500 Loss 0.0632\n",
            "Epoch 17 Batch 600 Loss 0.0490\n",
            "Epoch 17 Batch 700 Loss 0.0580\n",
            "Epoch 17 Batch 800 Loss 0.0493\n",
            "Epoch 17 Batch 900 Loss 0.0701\n",
            "Epoch 17 Batch 1000 Loss 0.0611\n",
            "Epoch 17 Batch 1100 Loss 0.0874\n",
            "Epoch 17 Batch 1200 Loss 0.1159\n",
            "Epoch 17 Loss 0.0617\n",
            "Time taken for 1 epoch 136.52434706687927 sec\n",
            "\n",
            "Epoch 18 Batch 0 Loss 0.0378\n",
            "Epoch 18 Batch 100 Loss 0.0549\n",
            "Epoch 18 Batch 200 Loss 0.0507\n",
            "Epoch 18 Batch 300 Loss 0.0403\n",
            "Epoch 18 Batch 400 Loss 0.0632\n",
            "Epoch 18 Batch 500 Loss 0.0570\n",
            "Epoch 18 Batch 600 Loss 0.0487\n",
            "Epoch 18 Batch 700 Loss 0.0775\n",
            "Epoch 18 Batch 800 Loss 0.0442\n",
            "Epoch 18 Batch 900 Loss 0.0614\n",
            "Epoch 18 Batch 1000 Loss 0.0857\n",
            "Epoch 18 Batch 1100 Loss 0.0618\n",
            "Epoch 18 Batch 1200 Loss 0.0817\n",
            "Epoch 18 Loss 0.0602\n",
            "Time taken for 1 epoch 136.9967691898346 sec\n",
            "\n",
            "Epoch 19 Batch 0 Loss 0.0556\n",
            "Epoch 19 Batch 100 Loss 0.0235\n",
            "Epoch 19 Batch 200 Loss 0.0472\n",
            "Epoch 19 Batch 300 Loss 0.0849\n",
            "Epoch 19 Batch 400 Loss 0.0861\n",
            "Epoch 19 Batch 500 Loss 0.0654\n",
            "Epoch 19 Batch 600 Loss 0.0726\n",
            "Epoch 19 Batch 700 Loss 0.0548\n",
            "Epoch 19 Batch 800 Loss 0.0636\n",
            "Epoch 19 Batch 900 Loss 0.0616\n",
            "Epoch 19 Batch 1000 Loss 0.0814\n",
            "Epoch 19 Batch 1100 Loss 0.1069\n",
            "Epoch 19 Batch 1200 Loss 0.0509\n",
            "Epoch 19 Loss 0.0584\n",
            "Time taken for 1 epoch 136.3863070011139 sec\n",
            "\n",
            "Epoch 20 Batch 0 Loss 0.0342\n",
            "Epoch 20 Batch 100 Loss 0.0506\n",
            "Epoch 20 Batch 200 Loss 0.0472\n",
            "Epoch 20 Batch 300 Loss 0.0525\n",
            "Epoch 20 Batch 400 Loss 0.0353\n",
            "Epoch 20 Batch 500 Loss 0.0353\n",
            "Epoch 20 Batch 600 Loss 0.0698\n",
            "Epoch 20 Batch 700 Loss 0.0747\n",
            "Epoch 20 Batch 800 Loss 0.0471\n",
            "Epoch 20 Batch 900 Loss 0.0789\n",
            "Epoch 20 Batch 1000 Loss 0.0576\n",
            "Epoch 20 Batch 1100 Loss 0.0549\n",
            "Epoch 20 Batch 1200 Loss 0.0783\n",
            "Epoch 20 Loss 0.0583\n",
            "Time taken for 1 epoch 137.1281726360321 sec\n",
            "\n",
            "Epoch 21 Batch 0 Loss 0.0271\n",
            "Epoch 21 Batch 100 Loss 0.0348\n",
            "Epoch 21 Batch 200 Loss 0.0516\n",
            "Epoch 21 Batch 300 Loss 0.0582\n",
            "Epoch 21 Batch 400 Loss 0.0651\n",
            "Epoch 21 Batch 500 Loss 0.0382\n",
            "Epoch 21 Batch 600 Loss 0.0704\n",
            "Epoch 21 Batch 700 Loss 0.0886\n",
            "Epoch 21 Batch 800 Loss 0.0727\n",
            "Epoch 21 Batch 900 Loss 0.0927\n",
            "Epoch 21 Batch 1000 Loss 0.0535\n",
            "Epoch 21 Batch 1100 Loss 0.0751\n",
            "Epoch 21 Batch 1200 Loss 0.0598\n",
            "Epoch 21 Loss 0.0565\n",
            "Time taken for 1 epoch 136.3422520160675 sec\n",
            "\n",
            "Epoch 22 Batch 0 Loss 0.0516\n",
            "Epoch 22 Batch 100 Loss 0.0515\n",
            "Epoch 22 Batch 200 Loss 0.0524\n",
            "Epoch 22 Batch 300 Loss 0.0523\n",
            "Epoch 22 Batch 400 Loss 0.0627\n",
            "Epoch 22 Batch 500 Loss 0.0382\n",
            "Epoch 22 Batch 600 Loss 0.0619\n",
            "Epoch 22 Batch 700 Loss 0.0935\n",
            "Epoch 22 Batch 800 Loss 0.0732\n",
            "Epoch 22 Batch 900 Loss 0.0241\n",
            "Epoch 22 Batch 1000 Loss 0.0709\n",
            "Epoch 22 Batch 1100 Loss 0.0620\n",
            "Epoch 22 Batch 1200 Loss 0.1054\n",
            "Epoch 22 Loss 0.0553\n",
            "Time taken for 1 epoch 136.98806643486023 sec\n",
            "\n",
            "Epoch 23 Batch 0 Loss 0.0507\n",
            "Epoch 23 Batch 100 Loss 0.0449\n",
            "Epoch 23 Batch 200 Loss 0.0692\n",
            "Epoch 23 Batch 300 Loss 0.0256\n",
            "Epoch 23 Batch 400 Loss 0.0640\n",
            "Epoch 23 Batch 500 Loss 0.0528\n",
            "Epoch 23 Batch 600 Loss 0.0611\n",
            "Epoch 23 Batch 700 Loss 0.0491\n",
            "Epoch 23 Batch 800 Loss 0.0783\n",
            "Epoch 23 Batch 900 Loss 0.0559\n",
            "Epoch 23 Batch 1000 Loss 0.0898\n",
            "Epoch 23 Batch 1100 Loss 0.0649\n",
            "Epoch 23 Batch 1200 Loss 0.0634\n",
            "Epoch 23 Loss 0.0550\n",
            "Time taken for 1 epoch 136.53782987594604 sec\n",
            "\n",
            "Epoch 24 Batch 0 Loss 0.0543\n",
            "Epoch 24 Batch 100 Loss 0.0289\n",
            "Epoch 24 Batch 200 Loss 0.0415\n",
            "Epoch 24 Batch 300 Loss 0.0582\n",
            "Epoch 24 Batch 400 Loss 0.0647\n",
            "Epoch 24 Batch 500 Loss 0.0530\n",
            "Epoch 24 Batch 600 Loss 0.0321\n",
            "Epoch 24 Batch 700 Loss 0.0397\n",
            "Epoch 24 Batch 800 Loss 0.0610\n",
            "Epoch 24 Batch 900 Loss 0.0718\n",
            "Epoch 24 Batch 1000 Loss 0.0486\n",
            "Epoch 24 Batch 1100 Loss 0.0524\n",
            "Epoch 24 Batch 1200 Loss 0.0638\n",
            "Epoch 24 Loss 0.0536\n",
            "Time taken for 1 epoch 136.90353393554688 sec\n",
            "\n",
            "Epoch 25 Batch 0 Loss 0.0357\n",
            "Epoch 25 Batch 100 Loss 0.0269\n",
            "Epoch 25 Batch 200 Loss 0.0419\n",
            "Epoch 25 Batch 300 Loss 0.0600\n",
            "Epoch 25 Batch 400 Loss 0.0328\n",
            "Epoch 25 Batch 500 Loss 0.0156\n",
            "Epoch 25 Batch 600 Loss 0.0395\n",
            "Epoch 25 Batch 700 Loss 0.0375\n",
            "Epoch 25 Batch 800 Loss 0.0420\n",
            "Epoch 25 Batch 900 Loss 0.0619\n",
            "Epoch 25 Batch 1000 Loss 0.0525\n",
            "Epoch 25 Batch 1100 Loss 0.0313\n",
            "Epoch 25 Batch 1200 Loss 0.0858\n",
            "Epoch 25 Loss 0.0528\n",
            "Time taken for 1 epoch 136.7157280445099 sec\n",
            "\n",
            "Epoch 26 Batch 0 Loss 0.0477\n",
            "Epoch 26 Batch 100 Loss 0.0165\n",
            "Epoch 26 Batch 200 Loss 0.0350\n",
            "Epoch 26 Batch 300 Loss 0.0318\n",
            "Epoch 26 Batch 400 Loss 0.0731\n",
            "Epoch 26 Batch 500 Loss 0.0449\n",
            "Epoch 26 Batch 600 Loss 0.0380\n",
            "Epoch 26 Batch 700 Loss 0.0347\n",
            "Epoch 26 Batch 800 Loss 0.0854\n",
            "Epoch 26 Batch 900 Loss 0.0745\n",
            "Epoch 26 Batch 1000 Loss 0.0545\n",
            "Epoch 26 Batch 1100 Loss 0.0682\n",
            "Epoch 26 Batch 1200 Loss 0.0496\n",
            "Epoch 26 Loss 0.0515\n",
            "Time taken for 1 epoch 137.96407079696655 sec\n",
            "\n",
            "Epoch 27 Batch 0 Loss 0.0401\n",
            "Epoch 27 Batch 100 Loss 0.0532\n",
            "Epoch 27 Batch 200 Loss 0.0520\n",
            "Epoch 27 Batch 300 Loss 0.0281\n",
            "Epoch 27 Batch 400 Loss 0.0279\n",
            "Epoch 27 Batch 500 Loss 0.0169\n",
            "Epoch 27 Batch 600 Loss 0.0332\n",
            "Epoch 27 Batch 700 Loss 0.0492\n",
            "Epoch 27 Batch 800 Loss 0.0344\n",
            "Epoch 27 Batch 900 Loss 0.0457\n",
            "Epoch 27 Batch 1000 Loss 0.0550\n",
            "Epoch 27 Batch 1100 Loss 0.0297\n",
            "Epoch 27 Batch 1200 Loss 0.0701\n",
            "Epoch 27 Loss 0.0507\n",
            "Time taken for 1 epoch 137.2545461654663 sec\n",
            "\n",
            "Epoch 28 Batch 0 Loss 0.0392\n",
            "Epoch 28 Batch 100 Loss 0.0235\n",
            "Epoch 28 Batch 200 Loss 0.0175\n",
            "Epoch 28 Batch 300 Loss 0.0388\n",
            "Epoch 28 Batch 400 Loss 0.0349\n",
            "Epoch 28 Batch 500 Loss 0.0501\n",
            "Epoch 28 Batch 600 Loss 0.0780\n",
            "Epoch 28 Batch 700 Loss 0.0673\n",
            "Epoch 28 Batch 800 Loss 0.0872\n",
            "Epoch 28 Batch 900 Loss 0.0512\n",
            "Epoch 28 Batch 1000 Loss 0.0460\n",
            "Epoch 28 Batch 1100 Loss 0.0645\n",
            "Epoch 28 Batch 1200 Loss 0.0374\n",
            "Epoch 28 Loss 0.0505\n",
            "Time taken for 1 epoch 137.88118982315063 sec\n",
            "\n",
            "Epoch 29 Batch 0 Loss 0.0355\n",
            "Epoch 29 Batch 100 Loss 0.0390\n",
            "Epoch 29 Batch 200 Loss 0.0430\n",
            "Epoch 29 Batch 300 Loss 0.0680\n",
            "Epoch 29 Batch 400 Loss 0.0740\n",
            "Epoch 29 Batch 500 Loss 0.0611\n",
            "Epoch 29 Batch 600 Loss 0.0418\n",
            "Epoch 29 Batch 700 Loss 0.0492\n",
            "Epoch 29 Batch 800 Loss 0.0217\n",
            "Epoch 29 Batch 900 Loss 0.1032\n",
            "Epoch 29 Batch 1000 Loss 0.0715\n",
            "Epoch 29 Batch 1100 Loss 0.0636\n",
            "Epoch 29 Batch 1200 Loss 0.0342\n",
            "Epoch 29 Loss 0.0496\n",
            "Time taken for 1 epoch 137.20238709449768 sec\n",
            "\n",
            "Epoch 30 Batch 0 Loss 0.0262\n",
            "Epoch 30 Batch 100 Loss 0.0193\n",
            "Epoch 30 Batch 200 Loss 0.0552\n",
            "Epoch 30 Batch 300 Loss 0.0562\n",
            "Epoch 30 Batch 400 Loss 0.0295\n",
            "Epoch 30 Batch 500 Loss 0.0223\n",
            "Epoch 30 Batch 600 Loss 0.0522\n",
            "Epoch 30 Batch 700 Loss 0.0364\n",
            "Epoch 30 Batch 800 Loss 0.0625\n",
            "Epoch 30 Batch 900 Loss 0.0461\n",
            "Epoch 30 Batch 1000 Loss 0.0632\n",
            "Epoch 30 Batch 1100 Loss 0.0607\n",
            "Epoch 30 Batch 1200 Loss 0.0834\n",
            "Epoch 30 Loss 0.0490\n",
            "Time taken for 1 epoch 138.0015516281128 sec\n",
            "\n",
            "Epoch 31 Batch 0 Loss 0.0283\n",
            "Epoch 31 Batch 100 Loss 0.0317\n",
            "Epoch 31 Batch 200 Loss 0.0298\n",
            "Epoch 31 Batch 300 Loss 0.0500\n",
            "Epoch 31 Batch 400 Loss 0.0245\n",
            "Epoch 31 Batch 500 Loss 0.0617\n",
            "Epoch 31 Batch 600 Loss 0.0287\n",
            "Epoch 31 Batch 700 Loss 0.0331\n",
            "Epoch 31 Batch 800 Loss 0.0478\n",
            "Epoch 31 Batch 900 Loss 0.0641\n",
            "Epoch 31 Batch 1000 Loss 0.0426\n",
            "Epoch 31 Batch 1100 Loss 0.0446\n",
            "Epoch 31 Batch 1200 Loss 0.0368\n",
            "Epoch 31 Loss 0.0481\n",
            "Time taken for 1 epoch 137.0381257534027 sec\n",
            "\n",
            "Epoch 32 Batch 0 Loss 0.0354\n",
            "Epoch 32 Batch 100 Loss 0.0336\n",
            "Epoch 32 Batch 200 Loss 0.0376\n",
            "Epoch 32 Batch 300 Loss 0.0305\n",
            "Epoch 32 Batch 400 Loss 0.0259\n",
            "Epoch 32 Batch 500 Loss 0.0538\n",
            "Epoch 32 Batch 600 Loss 0.0609\n",
            "Epoch 32 Batch 700 Loss 0.0201\n",
            "Epoch 32 Batch 800 Loss 0.0260\n",
            "Epoch 32 Batch 900 Loss 0.0553\n",
            "Epoch 32 Batch 1000 Loss 0.0698\n",
            "Epoch 32 Batch 1100 Loss 0.0581\n",
            "Epoch 32 Batch 1200 Loss 0.0628\n",
            "Epoch 32 Loss 0.0474\n",
            "Time taken for 1 epoch 137.3500759601593 sec\n",
            "\n",
            "Epoch 33 Batch 0 Loss 0.0390\n",
            "Epoch 33 Batch 100 Loss 0.0227\n",
            "Epoch 33 Batch 200 Loss 0.0675\n",
            "Epoch 33 Batch 300 Loss 0.0460\n",
            "Epoch 33 Batch 400 Loss 0.0825\n",
            "Epoch 33 Batch 500 Loss 0.0458\n",
            "Epoch 33 Batch 600 Loss 0.0521\n",
            "Epoch 33 Batch 700 Loss 0.0546\n",
            "Epoch 33 Batch 800 Loss 0.0535\n",
            "Epoch 33 Batch 900 Loss 0.0788\n",
            "Epoch 33 Batch 1000 Loss 0.0386\n",
            "Epoch 33 Batch 1100 Loss 0.0658\n",
            "Epoch 33 Batch 1200 Loss 0.0713\n",
            "Epoch 33 Loss 0.0471\n",
            "Time taken for 1 epoch 136.67920351028442 sec\n",
            "\n",
            "Epoch 34 Batch 0 Loss 0.0463\n",
            "Epoch 34 Batch 100 Loss 0.0427\n",
            "Epoch 34 Batch 200 Loss 0.0191\n",
            "Epoch 34 Batch 300 Loss 0.0559\n",
            "Epoch 34 Batch 400 Loss 0.0292\n",
            "Epoch 34 Batch 500 Loss 0.0496\n",
            "Epoch 34 Batch 600 Loss 0.1127\n",
            "Epoch 34 Batch 700 Loss 0.0516\n",
            "Epoch 34 Batch 800 Loss 0.0437\n",
            "Epoch 34 Batch 900 Loss 0.0734\n",
            "Epoch 34 Batch 1000 Loss 0.0567\n",
            "Epoch 34 Batch 1100 Loss 0.0538\n",
            "Epoch 34 Batch 1200 Loss 0.0559\n",
            "Epoch 34 Loss 0.0467\n",
            "Time taken for 1 epoch 137.18401432037354 sec\n",
            "\n",
            "Epoch 35 Batch 0 Loss 0.0191\n",
            "Epoch 35 Batch 100 Loss 0.0227\n",
            "Epoch 35 Batch 200 Loss 0.0283\n",
            "Epoch 35 Batch 300 Loss 0.0145\n",
            "Epoch 35 Batch 400 Loss 0.0338\n",
            "Epoch 35 Batch 500 Loss 0.0375\n",
            "Epoch 35 Batch 600 Loss 0.0493\n",
            "Epoch 35 Batch 700 Loss 0.0482\n",
            "Epoch 35 Batch 800 Loss 0.0401\n",
            "Epoch 35 Batch 900 Loss 0.0354\n",
            "Epoch 35 Batch 1000 Loss 0.0404\n",
            "Epoch 35 Batch 1100 Loss 0.0320\n",
            "Epoch 35 Batch 1200 Loss 0.0711\n",
            "Epoch 35 Loss 0.0456\n",
            "Time taken for 1 epoch 136.67918801307678 sec\n",
            "\n",
            "Epoch 36 Batch 0 Loss 0.0134\n",
            "Epoch 36 Batch 100 Loss 0.0316\n",
            "Epoch 36 Batch 200 Loss 0.0386\n",
            "Epoch 36 Batch 300 Loss 0.0326\n",
            "Epoch 36 Batch 400 Loss 0.0453\n",
            "Epoch 36 Batch 500 Loss 0.0610\n",
            "Epoch 36 Batch 600 Loss 0.0464\n",
            "Epoch 36 Batch 700 Loss 0.0251\n",
            "Epoch 36 Batch 800 Loss 0.0442\n",
            "Epoch 36 Batch 900 Loss 0.0373\n",
            "Epoch 36 Batch 1000 Loss 0.0401\n",
            "Epoch 36 Batch 1100 Loss 0.0447\n",
            "Epoch 36 Batch 1200 Loss 0.0302\n",
            "Epoch 36 Loss 0.0458\n",
            "Time taken for 1 epoch 137.76104617118835 sec\n",
            "\n",
            "Epoch 37 Batch 0 Loss 0.0530\n",
            "Epoch 37 Batch 100 Loss 0.0608\n",
            "Epoch 37 Batch 200 Loss 0.0322\n",
            "Epoch 37 Batch 300 Loss 0.0385\n",
            "Epoch 37 Batch 400 Loss 0.0317\n",
            "Epoch 37 Batch 500 Loss 0.0628\n",
            "Epoch 37 Batch 600 Loss 0.0600\n",
            "Epoch 37 Batch 700 Loss 0.0402\n",
            "Epoch 37 Batch 800 Loss 0.0301\n",
            "Epoch 37 Batch 900 Loss 0.0208\n",
            "Epoch 37 Batch 1000 Loss 0.0570\n",
            "Epoch 37 Batch 1100 Loss 0.0432\n",
            "Epoch 37 Batch 1200 Loss 0.0379\n",
            "Epoch 37 Loss 0.0445\n",
            "Time taken for 1 epoch 137.1268446445465 sec\n",
            "\n",
            "Epoch 38 Batch 0 Loss 0.0385\n",
            "Epoch 38 Batch 100 Loss 0.0130\n",
            "Epoch 38 Batch 200 Loss 0.0363\n",
            "Epoch 38 Batch 300 Loss 0.0367\n",
            "Epoch 38 Batch 400 Loss 0.0459\n",
            "Epoch 38 Batch 500 Loss 0.0319\n",
            "Epoch 38 Batch 600 Loss 0.0568\n",
            "Epoch 38 Batch 700 Loss 0.0274\n",
            "Epoch 38 Batch 800 Loss 0.0500\n",
            "Epoch 38 Batch 900 Loss 0.0439\n",
            "Epoch 38 Batch 1000 Loss 0.0494\n",
            "Epoch 38 Batch 1100 Loss 0.0596\n",
            "Epoch 38 Batch 1200 Loss 0.0521\n",
            "Epoch 38 Loss 0.0444\n",
            "Time taken for 1 epoch 137.477148771286 sec\n",
            "\n",
            "Epoch 39 Batch 0 Loss 0.0272\n",
            "Epoch 39 Batch 100 Loss 0.0530\n",
            "Epoch 39 Batch 200 Loss 0.0241\n",
            "Epoch 39 Batch 300 Loss 0.0290\n",
            "Epoch 39 Batch 400 Loss 0.0271\n",
            "Epoch 39 Batch 500 Loss 0.0337\n",
            "Epoch 39 Batch 600 Loss 0.0564\n",
            "Epoch 39 Batch 700 Loss 0.0467\n",
            "Epoch 39 Batch 800 Loss 0.0429\n",
            "Epoch 39 Batch 900 Loss 0.0359\n",
            "Epoch 39 Batch 1000 Loss 0.0523\n",
            "Epoch 39 Batch 1100 Loss 0.0366\n",
            "Epoch 39 Batch 1200 Loss 0.0641\n",
            "Epoch 39 Loss 0.0436\n",
            "Time taken for 1 epoch 136.19696164131165 sec\n",
            "\n",
            "Epoch 40 Batch 0 Loss 0.0298\n",
            "Epoch 40 Batch 100 Loss 0.0338\n",
            "Epoch 40 Batch 200 Loss 0.0176\n",
            "Epoch 40 Batch 300 Loss 0.0451\n",
            "Epoch 40 Batch 400 Loss 0.0427\n",
            "Epoch 40 Batch 500 Loss 0.0414\n",
            "Epoch 40 Batch 600 Loss 0.0321\n",
            "Epoch 40 Batch 700 Loss 0.0420\n",
            "Epoch 40 Batch 800 Loss 0.0419\n",
            "Epoch 40 Batch 900 Loss 0.0467\n",
            "Epoch 40 Batch 1000 Loss 0.0581\n",
            "Epoch 40 Batch 1100 Loss 0.0704\n",
            "Epoch 40 Batch 1200 Loss 0.0389\n",
            "Epoch 40 Loss 0.0440\n",
            "Time taken for 1 epoch 136.46863532066345 sec\n",
            "\n",
            "Epoch 41 Batch 0 Loss 0.0418\n",
            "Epoch 41 Batch 100 Loss 0.0255\n",
            "Epoch 41 Batch 200 Loss 0.0283\n",
            "Epoch 41 Batch 300 Loss 0.0287\n",
            "Epoch 41 Batch 400 Loss 0.0198\n",
            "Epoch 41 Batch 500 Loss 0.0424\n",
            "Epoch 41 Batch 600 Loss 0.0442\n",
            "Epoch 41 Batch 700 Loss 0.0254\n",
            "Epoch 41 Batch 800 Loss 0.0562\n",
            "Epoch 41 Batch 900 Loss 0.0585\n",
            "Epoch 41 Batch 1000 Loss 0.0370\n",
            "Epoch 41 Batch 1100 Loss 0.0605\n",
            "Epoch 41 Batch 1200 Loss 0.0397\n",
            "Epoch 41 Loss 0.0433\n",
            "Time taken for 1 epoch 135.85532879829407 sec\n",
            "\n",
            "Epoch 42 Batch 0 Loss 0.0211\n",
            "Epoch 42 Batch 100 Loss 0.0287\n",
            "Epoch 42 Batch 200 Loss 0.0200\n",
            "Epoch 42 Batch 300 Loss 0.0386\n",
            "Epoch 42 Batch 400 Loss 0.0434\n",
            "Epoch 42 Batch 500 Loss 0.0330\n",
            "Epoch 42 Batch 600 Loss 0.0227\n",
            "Epoch 42 Batch 700 Loss 0.0367\n",
            "Epoch 42 Batch 800 Loss 0.0563\n",
            "Epoch 42 Batch 900 Loss 0.0333\n",
            "Epoch 42 Batch 1000 Loss 0.0763\n",
            "Epoch 42 Batch 1100 Loss 0.0814\n",
            "Epoch 42 Batch 1200 Loss 0.0696\n",
            "Epoch 42 Loss 0.0423\n",
            "Time taken for 1 epoch 136.60942840576172 sec\n",
            "\n",
            "Epoch 43 Batch 0 Loss 0.0495\n",
            "Epoch 43 Batch 100 Loss 0.0271\n",
            "Epoch 43 Batch 200 Loss 0.0330\n",
            "Epoch 43 Batch 300 Loss 0.0240\n",
            "Epoch 43 Batch 400 Loss 0.0520\n",
            "Epoch 43 Batch 500 Loss 0.0457\n",
            "Epoch 43 Batch 600 Loss 0.0193\n",
            "Epoch 43 Batch 700 Loss 0.0306\n",
            "Epoch 43 Batch 800 Loss 0.0458\n",
            "Epoch 43 Batch 900 Loss 0.0430\n",
            "Epoch 43 Batch 1000 Loss 0.0647\n",
            "Epoch 43 Batch 1100 Loss 0.0381\n",
            "Epoch 43 Batch 1200 Loss 0.0455\n",
            "Epoch 43 Loss 0.0421\n",
            "Time taken for 1 epoch 135.85886669158936 sec\n",
            "\n",
            "Epoch 44 Batch 0 Loss 0.0285\n",
            "Epoch 44 Batch 100 Loss 0.0296\n",
            "Epoch 44 Batch 200 Loss 0.0516\n",
            "Epoch 44 Batch 300 Loss 0.0383\n",
            "Epoch 44 Batch 400 Loss 0.0295\n",
            "Epoch 44 Batch 500 Loss 0.0508\n",
            "Epoch 44 Batch 600 Loss 0.0554\n",
            "Epoch 44 Batch 700 Loss 0.0391\n",
            "Epoch 44 Batch 800 Loss 0.0456\n",
            "Epoch 44 Batch 900 Loss 0.0341\n",
            "Epoch 44 Batch 1000 Loss 0.0397\n",
            "Epoch 44 Batch 1100 Loss 0.0432\n",
            "Epoch 44 Batch 1200 Loss 0.0697\n",
            "Epoch 44 Loss 0.0419\n",
            "Time taken for 1 epoch 136.4906711578369 sec\n",
            "\n",
            "Epoch 45 Batch 0 Loss 0.0159\n",
            "Epoch 45 Batch 100 Loss 0.0348\n",
            "Epoch 45 Batch 200 Loss 0.0299\n",
            "Epoch 45 Batch 300 Loss 0.0264\n",
            "Epoch 45 Batch 400 Loss 0.0313\n",
            "Epoch 45 Batch 500 Loss 0.0315\n",
            "Epoch 45 Batch 600 Loss 0.0381\n",
            "Epoch 45 Batch 700 Loss 0.0541\n",
            "Epoch 45 Batch 800 Loss 0.0560\n",
            "Epoch 45 Batch 900 Loss 0.0296\n",
            "Epoch 45 Batch 1000 Loss 0.0618\n",
            "Epoch 45 Batch 1100 Loss 0.0654\n",
            "Epoch 45 Batch 1200 Loss 0.0444\n",
            "Epoch 45 Loss 0.0416\n",
            "Time taken for 1 epoch 136.124116897583 sec\n",
            "\n",
            "Epoch 46 Batch 0 Loss 0.0258\n",
            "Epoch 46 Batch 100 Loss 0.0290\n",
            "Epoch 46 Batch 200 Loss 0.0312\n",
            "Epoch 46 Batch 300 Loss 0.0509\n",
            "Epoch 46 Batch 400 Loss 0.0432\n",
            "Epoch 46 Batch 500 Loss 0.0371\n",
            "Epoch 46 Batch 600 Loss 0.0304\n",
            "Epoch 46 Batch 700 Loss 0.0406\n",
            "Epoch 46 Batch 800 Loss 0.0324\n",
            "Epoch 46 Batch 900 Loss 0.0540\n",
            "Epoch 46 Batch 1000 Loss 0.0502\n",
            "Epoch 46 Batch 1100 Loss 0.0657\n",
            "Epoch 46 Batch 1200 Loss 0.0510\n",
            "Epoch 46 Loss 0.0414\n",
            "Time taken for 1 epoch 136.7650501728058 sec\n",
            "\n",
            "Epoch 47 Batch 0 Loss 0.0709\n",
            "Epoch 47 Batch 100 Loss 0.0363\n",
            "Epoch 47 Batch 200 Loss 0.0368\n",
            "Epoch 47 Batch 300 Loss 0.0587\n",
            "Epoch 47 Batch 400 Loss 0.0260\n",
            "Epoch 47 Batch 500 Loss 0.0307\n",
            "Epoch 47 Batch 600 Loss 0.0403\n",
            "Epoch 47 Batch 700 Loss 0.0395\n",
            "Epoch 47 Batch 800 Loss 0.0255\n",
            "Epoch 47 Batch 900 Loss 0.0635\n",
            "Epoch 47 Batch 1000 Loss 0.0472\n",
            "Epoch 47 Batch 1100 Loss 0.0227\n",
            "Epoch 47 Batch 1200 Loss 0.0332\n",
            "Epoch 47 Loss 0.0407\n",
            "Time taken for 1 epoch 136.20057725906372 sec\n",
            "\n",
            "Epoch 48 Batch 0 Loss 0.0494\n",
            "Epoch 48 Batch 100 Loss 0.0222\n",
            "Epoch 48 Batch 200 Loss 0.0702\n",
            "Epoch 48 Batch 300 Loss 0.0264\n",
            "Epoch 48 Batch 400 Loss 0.0436\n",
            "Epoch 48 Batch 500 Loss 0.0450\n",
            "Epoch 48 Batch 600 Loss 0.0119\n",
            "Epoch 48 Batch 700 Loss 0.0758\n",
            "Epoch 48 Batch 800 Loss 0.0250\n",
            "Epoch 48 Batch 900 Loss 0.0355\n",
            "Epoch 48 Batch 1000 Loss 0.0720\n",
            "Epoch 48 Batch 1100 Loss 0.0537\n",
            "Epoch 48 Batch 1200 Loss 0.0684\n",
            "Epoch 48 Loss 0.0403\n",
            "Time taken for 1 epoch 136.90038347244263 sec\n",
            "\n",
            "Epoch 49 Batch 0 Loss 0.0370\n",
            "Epoch 49 Batch 100 Loss 0.0353\n",
            "Epoch 49 Batch 200 Loss 0.0248\n",
            "Epoch 49 Batch 300 Loss 0.0364\n",
            "Epoch 49 Batch 400 Loss 0.0574\n",
            "Epoch 49 Batch 500 Loss 0.0320\n",
            "Epoch 49 Batch 600 Loss 0.0433\n",
            "Epoch 49 Batch 700 Loss 0.0463\n",
            "Epoch 49 Batch 800 Loss 0.0488\n",
            "Epoch 49 Batch 900 Loss 0.0714\n",
            "Epoch 49 Batch 1000 Loss 0.0603\n",
            "Epoch 49 Batch 1100 Loss 0.0434\n",
            "Epoch 49 Batch 1200 Loss 0.0830\n",
            "Epoch 49 Loss 0.0406\n",
            "Time taken for 1 epoch 136.3972191810608 sec\n",
            "\n",
            "Epoch 50 Batch 0 Loss 0.0576\n",
            "Epoch 50 Batch 100 Loss 0.0248\n",
            "Epoch 50 Batch 200 Loss 0.0194\n",
            "Epoch 50 Batch 300 Loss 0.0394\n",
            "Epoch 50 Batch 400 Loss 0.0447\n",
            "Epoch 50 Batch 500 Loss 0.0481\n",
            "Epoch 50 Batch 600 Loss 0.0234\n",
            "Epoch 50 Batch 700 Loss 0.0391\n",
            "Epoch 50 Batch 800 Loss 0.0347\n",
            "Epoch 50 Batch 900 Loss 0.0323\n",
            "Epoch 50 Batch 1000 Loss 0.0519\n",
            "Epoch 50 Batch 1100 Loss 0.0708\n",
            "Epoch 50 Batch 1200 Loss 0.0215\n",
            "Epoch 50 Loss 0.0402\n",
            "Time taken for 1 epoch 136.93892216682434 sec\n",
            "\n"
          ]
        }
      ]
    },
    {
      "cell_type": "markdown",
      "metadata": {
        "id": "mU3Ce8M6I3rz"
      },
      "source": [
        "## Translate\n",
        "\n",
        "* The evaluate function is similar to the training loop, except we don't use *teacher forcing* here. The input to the decoder at each time step is its previous predictions along with the hidden state and the encoder output.\n",
        "* Stop predicting when the model predicts the *end token*.\n",
        "* And store the *attention weights for every time step*.\n",
        "\n",
        "Note: The encoder output is calculated only once for one input."
      ]
    },
    {
      "cell_type": "code",
      "metadata": {
        "id": "EbQpyYs13jF_"
      },
      "source": [
        "def evaluate(sentence):\n",
        "  attention_plot = np.zeros((max_length_targ, max_length_inp))\n",
        "\n",
        "  sentence = preprocess_sentence(sentence)\n",
        "\n",
        "  inputs = [inp_lang.word_index[i] for i in sentence.split(' ')]\n",
        "  inputs = tf.keras.preprocessing.sequence.pad_sequences([inputs],\n",
        "                                                         maxlen=max_length_inp,\n",
        "                                                         padding='post')\n",
        "  inputs = tf.convert_to_tensor(inputs)\n",
        "\n",
        "  result = ''\n",
        "\n",
        "  hidden = [tf.zeros((1, units))]\n",
        "  enc_hidden = encoder(inputs, hidden)\n",
        "\n",
        "  dec_hidden = enc_hidden\n",
        "  dec_input = tf.expand_dims([targ_lang.word_index['<start>']], 0)\n",
        "\n",
        "  for t in range(max_length_targ):\n",
        "    predictions, dec_hidden = decoder(dec_input, dec_hidden)\n",
        "\n",
        "    # storing the attention weights to plot later on\n",
        "    predicted_id = tf.argmax(predictions[0]).numpy()\n",
        "    result += targ_lang.index_word[predicted_id] + ' '\n",
        "\n",
        "    if targ_lang.index_word[predicted_id] == '<end>':\n",
        "      return result, sentence\n",
        "\n",
        "    # the predicted ID is fed back into the model\n",
        "    dec_input = tf.expand_dims([predicted_id], 0)\n",
        "\n",
        "  return result, sentence"
      ],
      "execution_count": 29,
      "outputs": []
    },
    {
      "cell_type": "code",
      "metadata": {
        "id": "sl9zUHzg3jGI"
      },
      "source": [
        "def translate(sentence):\n",
        "  result, sentence = evaluate(sentence)\n",
        "\n",
        "  print('Input: %s' % (sentence))\n",
        "  print('Predicted translation: {}'.format(result))"
      ],
      "execution_count": 30,
      "outputs": []
    },
    {
      "cell_type": "markdown",
      "metadata": {
        "id": "n250XbnjOaqP"
      },
      "source": [
        "## Restore the latest checkpoint and test"
      ]
    },
    {
      "cell_type": "code",
      "metadata": {
        "id": "UJpT9D5_OgP6",
        "colab": {
          "base_uri": "https://localhost:8080/"
        },
        "outputId": "98ab56de-ff87-49bf-b656-50bc208f190f"
      },
      "source": [
        "# restoring the latest checkpoint in checkpoint_dir\n",
        "checkpoint.restore(tf.train.latest_checkpoint(checkpoint_dir))"
      ],
      "execution_count": 31,
      "outputs": [
        {
          "output_type": "execute_result",
          "data": {
            "text/plain": [
              "<tensorflow.python.training.tracking.util.CheckpointLoadStatus at 0x7fb09f154150>"
            ]
          },
          "metadata": {},
          "execution_count": 31
        }
      ]
    },
    {
      "cell_type": "code",
      "metadata": {
        "id": "WrAM0FDomq3E",
        "colab": {
          "base_uri": "https://localhost:8080/"
        },
        "outputId": "ac42b867-d071-44d0-b44d-7237b97250cb"
      },
      "source": [
        "translate('Здесь хорошо.')"
      ],
      "execution_count": 32,
      "outputs": [
        {
          "output_type": "stream",
          "name": "stdout",
          "text": [
            "Input: <start> здесь хорошо . <end>\n",
            "Predicted translation: it's good here . <end> \n"
          ]
        }
      ]
    },
    {
      "cell_type": "code",
      "metadata": {
        "id": "5bhFfwcIMX5i",
        "colab": {
          "base_uri": "https://localhost:8080/"
        },
        "outputId": "3e1e7a34-d2f4-41eb-82f9-845332e372ed"
      },
      "source": [
        "translate('Я не смогу поехать.')"
      ],
      "execution_count": 33,
      "outputs": [
        {
          "output_type": "stream",
          "name": "stdout",
          "text": [
            "Input: <start> я не смогу поехать . <end>\n",
            "Predicted translation: i can't go . <end> \n"
          ]
        }
      ]
    },
    {
      "cell_type": "code",
      "metadata": {
        "id": "zSx2iM36EZQZ",
        "colab": {
          "base_uri": "https://localhost:8080/"
        },
        "outputId": "c2264dac-d7be-4f1e-f86c-fa544e0ad1c8"
      },
      "source": [
        "translate(u'Вы еще дома?')"
      ],
      "execution_count": 34,
      "outputs": [
        {
          "output_type": "stream",
          "name": "stdout",
          "text": [
            "Input: <start> вы еще дома ? <end>\n",
            "Predicted translation: are you still home ? <end> \n"
          ]
        }
      ]
    },
    {
      "cell_type": "code",
      "metadata": {
        "id": "A3LLCx3ZE0Ls",
        "colab": {
          "base_uri": "https://localhost:8080/"
        },
        "outputId": "862f6d81-a4bf-40af-d42d-c890f0bfec91"
      },
      "source": [
        "translate(u'Вы все еще дома?')"
      ],
      "execution_count": 35,
      "outputs": [
        {
          "output_type": "stream",
          "name": "stdout",
          "text": [
            "Input: <start> вы все еще дома ? <end>\n",
            "Predicted translation: are you still home ? <end> \n"
          ]
        }
      ]
    },
    {
      "cell_type": "code",
      "metadata": {
        "id": "DUQVLVqUE1YW",
        "colab": {
          "base_uri": "https://localhost:8080/"
        },
        "outputId": "2ad15641-f941-4c45-b46b-7d6eb14836be"
      },
      "source": [
        "translate(u'Попробуй сделать это.')"
      ],
      "execution_count": 36,
      "outputs": [
        {
          "output_type": "stream",
          "name": "stdout",
          "text": [
            "Input: <start> попробуй сделать это . <end>\n",
            "Predicted translation: try to do it . <end> \n"
          ]
        }
      ]
    },
    {
      "cell_type": "code",
      "metadata": {
        "id": "f09_hUFx9EJh",
        "colab": {
          "base_uri": "https://localhost:8080/"
        },
        "outputId": "16d5c8b0-95cc-470a-a235-3a8aa0eb4db8"
      },
      "source": [
        "translate(u'Я люблю, когда идет снег.')"
      ],
      "execution_count": 37,
      "outputs": [
        {
          "output_type": "stream",
          "name": "stdout",
          "text": [
            "Input: <start> я люблю , когда идет снег . <end>\n",
            "Predicted translation: i like snow to snow . <end> \n"
          ]
        }
      ]
    },
    {
      "cell_type": "code",
      "metadata": {
        "id": "e7c5p8rmkHQG",
        "colab": {
          "base_uri": "https://localhost:8080/"
        },
        "outputId": "cd6f3adb-45ab-4589-f5a8-8bb89a31cd52"
      },
      "source": [
        "translate(u'Я никогда такого не делаю.')"
      ],
      "execution_count": 38,
      "outputs": [
        {
          "output_type": "stream",
          "name": "stdout",
          "text": [
            "Input: <start> я никогда такого не делаю . <end>\n",
            "Predicted translation: i never do that . <end> \n"
          ]
        }
      ]
    },
    {
      "cell_type": "code",
      "metadata": {
        "id": "jdXES85KkTVS",
        "colab": {
          "base_uri": "https://localhost:8080/"
        },
        "outputId": "92292cca-763f-47d9-cfb9-5fe14dea2146"
      },
      "source": [
        "translate(u'Попить чашечку чаю')"
      ],
      "execution_count": 39,
      "outputs": [
        {
          "output_type": "stream",
          "name": "stdout",
          "text": [
            "Input: <start> попить чашечку чаю <end>\n",
            "Predicted translation: drink a lot of water . <end> \n"
          ]
        }
      ]
    },
    {
      "cell_type": "code",
      "metadata": {
        "id": "Q3GqB2rUwzoX"
      },
      "source": [
        ""
      ],
      "execution_count": null,
      "outputs": []
    }
  ]
}