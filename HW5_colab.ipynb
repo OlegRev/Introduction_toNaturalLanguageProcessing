{
  "nbformat": 4,
  "nbformat_minor": 0,
  "metadata": {
    "colab": {
      "name": "HW5_colab.ipynb",
      "provenance": [],
      "collapsed_sections": [],
      "toc_visible": true
    },
    "kernelspec": {
      "display_name": "Python 3",
      "language": "python",
      "name": "python3"
    },
    "language_info": {
      "codemirror_mode": {
        "name": "ipython",
        "version": 3
      },
      "file_extension": ".py",
      "mimetype": "text/x-python",
      "name": "python",
      "nbconvert_exporter": "python",
      "pygments_lexer": "ipython3",
      "version": "3.9.6"
    }
  },
  "cells": [
    {
      "cell_type": "markdown",
      "metadata": {
        "id": "IkpcHsV8RWHA"
      },
      "source": [
        "# Задание 1"
      ]
    },
    {
      "cell_type": "markdown",
      "metadata": {
        "id": "aAQBOJRARev7"
      },
      "source": [
        "**Написать теггер на данных с руским языком**\n",
        "1. проверить UnigramTagger, BigramTagger, TrigramTagger и их комбмнации\n",
        "2. написать свой теггер как на занятии, попробовать разные векторайзеры, добавить знание не только букв но и слов\n",
        "3. сравнить все реализованные методы сделать выводы\n"
      ]
    },
    {
      "cell_type": "code",
      "metadata": {
        "colab": {
          "base_uri": "https://localhost:8080/"
        },
        "id": "yPRx8Cu_RDY1",
        "outputId": "dfb499e4-c935-431d-8367-228207af9dab"
      },
      "source": [
        "!pip install pyconll"
      ],
      "execution_count": null,
      "outputs": [
        {
          "name": "stdout",
          "output_type": "stream",
          "text": [
            "Collecting pyconll\n",
            "  Downloading pyconll-3.1.0-py3-none-any.whl (26 kB)\n",
            "Installing collected packages: pyconll\n",
            "Successfully installed pyconll-3.1.0\n"
          ]
        }
      ]
    },
    {
      "cell_type": "code",
      "metadata": {
        "id": "9wgL-33mWUyZ"
      },
      "source": [
        "import numpy as np\n",
        "import pandas as pd\n",
        "import pyconll\n",
        "import nltk\n",
        "\n",
        "from nltk.corpus import brown\n",
        "from nltk.tag import DefaultTagger, UnigramTagger, BigramTagger, TrigramTagger"
      ],
      "execution_count": null,
      "outputs": []
    },
    {
      "cell_type": "markdown",
      "metadata": {
        "id": "x8htlG52iCa1"
      },
      "source": [
        "## загрузка данных"
      ]
    },
    {
      "cell_type": "code",
      "metadata": {
        "id": "vXxwW9NzW570"
      },
      "source": [
        "!mkdir datasets"
      ],
      "execution_count": null,
      "outputs": []
    },
    {
      "cell_type": "code",
      "metadata": {
        "colab": {
          "base_uri": "https://localhost:8080/"
        },
        "id": "tpwgA3svWiRw",
        "outputId": "7a8f7248-fb77-49ec-8896-0c9b804be224"
      },
      "source": [
        "!wget -O ./datasets/ru_syntagrus-ud-train.conllu https://raw.githubusercontent.com/UniversalDependencies/UD_Russian-SynTagRus/master/ru_syntagrus-ud-train.conllu\n",
        "!wget -O ./datasets/ru_syntagrus-ud-dev.conllu https://raw.githubusercontent.com/UniversalDependencies/UD_Russian-SynTagRus/master/ru_syntagrus-ud-dev.conllu"
      ],
      "execution_count": null,
      "outputs": [
        {
          "name": "stdout",
          "output_type": "stream",
          "text": [
            "--2021-09-21 19:11:53--  https://raw.githubusercontent.com/UniversalDependencies/UD_Russian-SynTagRus/master/ru_syntagrus-ud-train.conllu\n",
            "Resolving raw.githubusercontent.com (raw.githubusercontent.com)... 185.199.108.133, 185.199.109.133, 185.199.110.133, ...\n",
            "Connecting to raw.githubusercontent.com (raw.githubusercontent.com)|185.199.108.133|:443... connected.\n",
            "HTTP request sent, awaiting response... 200 OK\n",
            "Length: 81039282 (77M) [text/plain]\n",
            "Saving to: ‘./datasets/ru_syntagrus-ud-train.conllu’\n",
            "\n",
            "./datasets/ru_synta 100%[===================>]  77.28M   182MB/s    in 0.4s    \n",
            "\n",
            "2021-09-21 19:11:54 (182 MB/s) - ‘./datasets/ru_syntagrus-ud-train.conllu’ saved [81039282/81039282]\n",
            "\n",
            "--2021-09-21 19:11:54--  https://raw.githubusercontent.com/UniversalDependencies/UD_Russian-SynTagRus/master/ru_syntagrus-ud-dev.conllu\n",
            "Resolving raw.githubusercontent.com (raw.githubusercontent.com)... 185.199.108.133, 185.199.110.133, 185.199.109.133, ...\n",
            "Connecting to raw.githubusercontent.com (raw.githubusercontent.com)|185.199.108.133|:443... connected.\n",
            "HTTP request sent, awaiting response... 200 OK\n",
            "Length: 10902738 (10M) [text/plain]\n",
            "Saving to: ‘./datasets/ru_syntagrus-ud-dev.conllu’\n",
            "\n",
            "./datasets/ru_synta 100%[===================>]  10.40M  --.-KB/s    in 0.1s    \n",
            "\n",
            "2021-09-21 19:11:55 (87.3 MB/s) - ‘./datasets/ru_syntagrus-ud-dev.conllu’ saved [10902738/10902738]\n",
            "\n"
          ]
        }
      ]
    },
    {
      "cell_type": "code",
      "metadata": {
        "id": "Oymo30RBWjjl"
      },
      "source": [
        "full_train = pyconll.load_from_file('datasets/ru_syntagrus-ud-train.conllu')\n",
        "full_test = pyconll.load_from_file('datasets/ru_syntagrus-ud-dev.conllu')\n",
        "df_accuracy  = pd.DataFrame(columns=['accuracy'])"
      ],
      "execution_count": null,
      "outputs": []
    },
    {
      "cell_type": "code",
      "metadata": {
        "id": "N4Q4J9y0xzsQ"
      },
      "source": [
        "train_data = [[(token.form, token.upos) for token in sent] for sent in full_train]\n",
        "test_data = [[(token.form, token.upos) for token in sent] for sent in full_test]\n",
        "\n",
        "test_sent = [[form for form, _ in row] for row in test_data]\n"
      ],
      "execution_count": null,
      "outputs": []
    },
    {
      "cell_type": "code",
      "metadata": {
        "colab": {
          "base_uri": "https://localhost:8080/"
        },
        "id": "1qGVBft8I1gr",
        "outputId": "e9918053-ee25-445a-d546-0ad736bb06d0"
      },
      "source": [
        "test_sent_choice = np.random.choice(test_sent)\n",
        "test_sent_choice"
      ],
      "execution_count": null,
      "outputs": [
        {
          "name": "stderr",
          "output_type": "stream",
          "text": [
            "/usr/local/lib/python3.7/dist-packages/ipykernel_launcher.py:1: VisibleDeprecationWarning: Creating an ndarray from ragged nested sequences (which is a list-or-tuple of lists-or-tuples-or ndarrays with different lengths or shapes) is deprecated. If you meant to do this, you must specify 'dtype=object' when creating the ndarray\n",
            "  \"\"\"Entry point for launching an IPython kernel.\n"
          ]
        },
        {
          "data": {
            "text/plain": [
              "['Ему', 'обрисовывают', 'человека', ',', 'с', 'ног', 'до', 'головы', '.']"
            ]
          },
          "execution_count": 7,
          "metadata": {},
          "output_type": "execute_result"
        }
      ]
    },
    {
      "cell_type": "code",
      "metadata": {
        "colab": {
          "base_uri": "https://localhost:8080/"
        },
        "id": "qiJDzY_wH80M",
        "outputId": "68eab38a-ef7e-4965-b0fe-a1e77dc0a7c1"
      },
      "source": [
        "print(f'train_data: \\n{train_data[:2]}\\ntest_data:\\n{test_data[:2]}')"
      ],
      "execution_count": null,
      "outputs": [
        {
          "name": "stdout",
          "output_type": "stream",
          "text": [
            "train_data: \n",
            "[[('Анкета', 'NOUN'), ('.', 'PUNCT')], [('Начальник', 'NOUN'), ('областного', 'ADJ'), ('управления', 'NOUN'), ('связи', 'NOUN'), ('Семен', 'PROPN'), ('Еремеевич', 'PROPN'), ('был', 'AUX'), ('человек', 'NOUN'), ('простой', 'ADJ'), (',', 'PUNCT'), ('приходил', 'VERB'), ('на', 'ADP'), ('работу', 'NOUN'), ('всегда', 'ADV'), ('вовремя', 'ADV'), (',', 'PUNCT'), ('здоровался', 'VERB'), ('с', 'ADP'), ('секретаршей', 'NOUN'), ('за', 'ADP'), ('руку', 'NOUN'), ('и', 'CCONJ'), ('иногда', 'ADV'), ('даже', 'PART'), ('писал', 'VERB'), ('в', 'ADP'), ('стенгазету', 'NOUN'), ('заметки', 'NOUN'), ('под', 'ADP'), ('псевдонимом', 'NOUN'), ('\"', 'PUNCT'), ('Муха', 'NOUN'), ('\"', 'PUNCT'), ('.', 'PUNCT')]]\n",
            "test_data:\n",
            "[[('Алгоритм', 'NOUN'), (',', 'PUNCT'), ('от', 'ADP'), ('имени', 'NOUN'), ('учёного', 'NOUN'), ('аль', 'PART'), ('-', 'PUNCT'), ('Хорезми', 'PROPN'), (',', 'PUNCT'), ('-', 'PUNCT'), ('точный', 'ADJ'), ('набор', 'NOUN'), ('инструкций', 'NOUN'), (',', 'PUNCT'), ('описывающих', 'VERB'), ('порядок', 'NOUN'), ('действий', 'NOUN'), ('исполнителя', 'NOUN'), ('для', 'ADP'), ('достижения', 'NOUN'), ('результата', 'NOUN'), ('решения', 'NOUN'), ('задачи', 'NOUN'), ('за', 'ADP'), ('конечное', 'ADJ'), ('время', 'NOUN'), ('.', 'PUNCT')], [('В', 'ADP'), ('старой', 'ADJ'), ('трактовке', 'NOUN'), ('вместо', 'ADP'), ('слова', 'NOUN'), ('\"', 'PUNCT'), ('порядок', 'NOUN'), ('\"', 'PUNCT'), ('использовалось', 'VERB'), ('слово', 'NOUN'), ('\"', 'PUNCT'), ('последовательность', 'NOUN'), ('\"', 'PUNCT'), (',', 'PUNCT'), ('но', 'CCONJ'), ('по', 'ADP'), ('мере', 'NOUN'), ('развития', 'NOUN'), ('параллельности', 'NOUN'), ('в', 'ADP'), ('работе', 'NOUN'), ('компьютеров', 'NOUN'), ('слово', 'NOUN'), ('\"', 'PUNCT'), ('последовательность', 'NOUN'), ('\"', 'PUNCT'), ('стали', 'VERB'), ('заменять', 'VERB'), ('более', 'ADV'), ('общим', 'ADJ'), ('словом', 'NOUN'), ('\"', 'PUNCT'), ('порядок', 'NOUN'), ('\"', 'PUNCT'), ('.', 'PUNCT')]]\n"
          ]
        }
      ]
    },
    {
      "cell_type": "markdown",
      "metadata": {
        "id": "kk-SAMuMiHTf"
      },
      "source": [
        "## 1.1"
      ]
    },
    {
      "cell_type": "code",
      "metadata": {
        "colab": {
          "base_uri": "https://localhost:8080/",
          "height": 607
        },
        "id": "E67kyZO-bFFE",
        "outputId": "5904862b-ba05-4d89-ff98-a3d20a2652cf"
      },
      "source": [
        "taggers = [UnigramTagger, BigramTagger, TrigramTagger]\n",
        "\n",
        "for tag_c in taggers:\n",
        "  tagger = tag_c(train_data)\n",
        "  print(tag_c.__name__)\n",
        "  display(tagger.tag(test_sent_choice), tagger.evaluate(test_data))\n",
        "  df_accuracy.loc[tag_c.__name__, 'accuracy'] = tagger.evaluate(train_data)"
      ],
      "execution_count": null,
      "outputs": [
        {
          "name": "stdout",
          "output_type": "stream",
          "text": [
            "UnigramTagger\n"
          ]
        },
        {
          "data": {
            "text/plain": [
              "[('Ему', 'PRON'),\n",
              " ('обрисовывают', 'VERB'),\n",
              " ('человека', 'NOUN'),\n",
              " (',', 'PUNCT'),\n",
              " ('с', 'ADP'),\n",
              " ('ног', 'NOUN'),\n",
              " ('до', 'ADP'),\n",
              " ('головы', 'NOUN'),\n",
              " ('.', 'PUNCT')]"
            ]
          },
          "metadata": {},
          "output_type": "display_data"
        },
        {
          "data": {
            "text/plain": [
              "0.8772537323492737"
            ]
          },
          "metadata": {},
          "output_type": "display_data"
        },
        {
          "name": "stdout",
          "output_type": "stream",
          "text": [
            "BigramTagger\n"
          ]
        },
        {
          "data": {
            "text/plain": [
              "[('Ему', 'PRON'),\n",
              " ('обрисовывают', None),\n",
              " ('человека', None),\n",
              " (',', 'PUNCT'),\n",
              " ('с', 'ADP'),\n",
              " ('ног', 'NOUN'),\n",
              " ('до', 'ADP'),\n",
              " ('головы', 'NOUN'),\n",
              " ('.', 'PUNCT')]"
            ]
          },
          "metadata": {},
          "output_type": "display_data"
        },
        {
          "data": {
            "text/plain": [
              "0.6963064064974893"
            ]
          },
          "metadata": {},
          "output_type": "display_data"
        },
        {
          "name": "stdout",
          "output_type": "stream",
          "text": [
            "TrigramTagger\n"
          ]
        },
        {
          "data": {
            "text/plain": [
              "[('Ему', 'PRON'),\n",
              " ('обрисовывают', None),\n",
              " ('человека', None),\n",
              " (',', None),\n",
              " ('с', 'ADP'),\n",
              " ('ног', None),\n",
              " ('до', None),\n",
              " ('головы', None),\n",
              " ('.', None)]"
            ]
          },
          "metadata": {},
          "output_type": "display_data"
        },
        {
          "data": {
            "text/plain": [
              "0.24808748694099012"
            ]
          },
          "metadata": {},
          "output_type": "display_data"
        }
      ]
    },
    {
      "cell_type": "code",
      "metadata": {
        "colab": {
          "base_uri": "https://localhost:8080/"
        },
        "id": "gC6KKJQHQOxo",
        "outputId": "da00a7b3-07c5-4265-8c8b-b28216d0db52"
      },
      "source": [
        "def backoff_tagger(train_sents, tagger_classes, backoff=None):\n",
        "    for cls in tagger_classes:\n",
        "        backoff = cls(train_sents, backoff=backoff)\n",
        "    return backoff\n",
        "\n",
        "\n",
        "backoff = DefaultTagger('NOUN') \n",
        "tag = backoff_tagger(train_data,  \n",
        "                     taggers,  \n",
        "                     backoff = backoff) \n",
        "\n",
        "df_accuracy.loc['BackoffTagger', 'accuracy'] = tag.evaluate(test_data)\n",
        "tag.evaluate(test_data) "
      ],
      "execution_count": null,
      "outputs": [
        {
          "data": {
            "text/plain": [
              "0.9119991237825633"
            ]
          },
          "execution_count": 10,
          "metadata": {},
          "output_type": "execute_result"
        }
      ]
    },
    {
      "cell_type": "markdown",
      "metadata": {
        "id": "u0XsZwbfiODw"
      },
      "source": [
        "## 1.2"
      ]
    },
    {
      "cell_type": "code",
      "metadata": {
        "colab": {
          "base_uri": "https://localhost:8080/"
        },
        "id": "FAIZCE9PCQNG",
        "outputId": "150dc460-30ba-4058-b6ed-45e5f4799cf4"
      },
      "source": [
        "%%time\n",
        "train_tok = [form for row in train_data  for form, _ in row]\n",
        "train_label = ['NO_TAG' if upos is None else upos for row in train_data for _, upos in row]\n",
        "\n",
        "test_tok = [form for row in test_data for form, _ in row ]\n",
        "test_label = ['NO_TAG' if upos is None else upos for row in test_data for _, upos in row]"
      ],
      "execution_count": null,
      "outputs": [
        {
          "name": "stdout",
          "output_type": "stream",
          "text": [
            "CPU times: user 351 ms, sys: 4.02 ms, total: 355 ms\n",
            "Wall time: 353 ms\n"
          ]
        }
      ]
    },
    {
      "cell_type": "code",
      "metadata": {
        "id": "yZG-7sYfiQbi"
      },
      "source": [
        "from sklearn.feature_extraction.text import CountVectorizer, HashingVectorizer, TfidfVectorizer\n",
        "from sklearn.linear_model import LogisticRegression\n",
        "from sklearn.metrics import accuracy_score\n",
        "import xgboost as xgb\n",
        "from sklearn.preprocessing import LabelEncoder"
      ],
      "execution_count": null,
      "outputs": []
    },
    {
      "cell_type": "code",
      "metadata": {
        "colab": {
          "background_save": true
        },
        "id": "pDyo-qj2KZfP"
      },
      "source": [
        "def get_accuracy_vec(vectorizer, train_t, test_t, train_l, test_l):\n",
        "  \n",
        "  le = LabelEncoder()\n",
        "  train_enc_l = le.fit_transform(train_l)\n",
        "  test_enc_l = le.transform(test_l)\n",
        "\n",
        "  X_train = vectorizer.fit_transform(train_t)\n",
        "  X_test = vectorizer.transform(test_t)\n",
        "  print(vectorizer.get_params())\n",
        "  print(f'{X_train.shape}\\n')\n",
        "\n",
        "  lr = LogisticRegression(random_state=0)\n",
        "  lr.fit(X_train, train_enc_l)\n",
        "  pred = lr.predict(X_test)\n",
        "  vec_name = f\"{vectorizer.__name__}:[analyzer:{vectorizer.get_params()['analyzer']},n_features:{vectorizer.get_params()['n_features']}\"\n",
        "  df_accuracy.loc[vec_name, 'accuracy'] = accuracy_score(test_enc_l, pred)\n",
        "  return f'Accuracy: {accuracy_score(test_enc_l, pred)}'\n"
      ],
      "execution_count": null,
      "outputs": []
    },
    {
      "cell_type": "code",
      "metadata": {
        "id": "C8FtaQnve3rK"
      },
      "source": [
        "vectorizers = [HashingVectorizer(ngram_range=(1, 5), analyzer='char', n_features=100),\n",
        "               HashingVectorizer(ngram_range=(1, 5), analyzer='char', n_features=1000),\n",
        "               HashingVectorizer(ngram_range=(1, 5), analyzer='word', n_features=1000),\n",
        "               CountVectorizer(ngram_range=(1, 5), analyzer='char'),  #, binary=False, tokenizer=str.split),\n",
        "               TfidfVectorizer(ngram_range=(1, 5), analyzer='char'),  #, binary=False, tokenizer=str.split),\n",
        "               ]"
      ],
      "execution_count": null,
      "outputs": []
    },
    {
      "cell_type": "code",
      "metadata": {
        "colab": {
          "base_uri": "https://localhost:8080/"
        },
        "id": "irMdJnL-xGA7",
        "outputId": "24059c13-78ec-4c55-c2d5-c0a2d7e96e57"
      },
      "source": [
        "print(get_accuracy_vec(vectorizer=TfidfVectorizer(ngram_range=(1, 5), analyzer='char'),\n",
        "                         train_t=train_tok,\n",
        "                         test_t=test_tok,\n",
        "                         train_l=train_label,\n",
        "                         test_l=test_label))"
      ],
      "execution_count": null,
      "outputs": [
        {
          "name": "stdout",
          "output_type": "stream",
          "text": [
            "{'analyzer': 'char', 'binary': False, 'decode_error': 'strict', 'dtype': <class 'numpy.float64'>, 'encoding': 'utf-8', 'input': 'content', 'lowercase': True, 'max_df': 1.0, 'max_features': None, 'min_df': 1, 'ngram_range': (1, 5), 'norm': 'l2', 'preprocessor': None, 'smooth_idf': True, 'stop_words': None, 'strip_accents': None, 'sublinear_tf': False, 'token_pattern': '(?u)\\\\b\\\\w\\\\w+\\\\b', 'tokenizer': None, 'use_idf': True, 'vocabulary': None}\n",
            "(871526, 149809)\n",
            "\n"
          ]
        }
      ]
    },
    {
      "cell_type": "code",
      "metadata": {
        "colab": {
          "background_save": true,
          "base_uri": "https://localhost:8080/"
        },
        "id": "9VPZ8PlPE4n7",
        "outputId": "3397a45e-70d9-4892-9bb2-9e72dd19ce1f"
      },
      "source": [
        "for vectorizer in vectorizers:\n",
        "  print(get_accuracy_vec(vectorizer=vectorizer,\n",
        "                         train_t=train_tok,\n",
        "                         test_t=test_tok,\n",
        "                         train_l=train_label,\n",
        "                         test_l=test_label))"
      ],
      "execution_count": null,
      "outputs": [
        {
          "name": "stdout",
          "output_type": "stream",
          "text": [
            "(871526, 100)\n",
            "\n"
          ]
        },
        {
          "name": "stderr",
          "output_type": "stream",
          "text": [
            "/usr/local/lib/python3.7/dist-packages/sklearn/linear_model/_logistic.py:940: ConvergenceWarning: lbfgs failed to converge (status=1):\n",
            "STOP: TOTAL NO. of ITERATIONS REACHED LIMIT.\n",
            "\n",
            "Increase the number of iterations (max_iter) or scale the data as shown in:\n",
            "    https://scikit-learn.org/stable/modules/preprocessing.html\n",
            "Please also refer to the documentation for alternative solver options:\n",
            "    https://scikit-learn.org/stable/modules/linear_model.html#logistic-regression\n",
            "  extra_warning_msg=_LOGISTIC_SOLVER_CONVERGENCE_MSG)\n"
          ]
        },
        {
          "name": "stdout",
          "output_type": "stream",
          "text": [
            "{'alternate_sign': True, 'analyzer': 'char', 'binary': False, 'decode_error': 'strict', 'dtype': <class 'numpy.float64'>, 'encoding': 'utf-8', 'input': 'content', 'lowercase': True, 'n_features': 100, 'ngram_range': (1, 5), 'norm': 'l2', 'preprocessor': None, 'stop_words': None, 'strip_accents': None, 'token_pattern': '(?u)\\\\b\\\\w\\\\w+\\\\b', 'tokenizer': None}\n",
            "Accuracy: 0.686221480807468\n",
            "(871526, 1000)\n",
            "\n"
          ]
        },
        {
          "name": "stderr",
          "output_type": "stream",
          "text": [
            "/usr/local/lib/python3.7/dist-packages/sklearn/linear_model/_logistic.py:940: ConvergenceWarning: lbfgs failed to converge (status=1):\n",
            "STOP: TOTAL NO. of ITERATIONS REACHED LIMIT.\n",
            "\n",
            "Increase the number of iterations (max_iter) or scale the data as shown in:\n",
            "    https://scikit-learn.org/stable/modules/preprocessing.html\n",
            "Please also refer to the documentation for alternative solver options:\n",
            "    https://scikit-learn.org/stable/modules/linear_model.html#logistic-regression\n",
            "  extra_warning_msg=_LOGISTIC_SOLVER_CONVERGENCE_MSG)\n"
          ]
        },
        {
          "name": "stdout",
          "output_type": "stream",
          "text": [
            "{'alternate_sign': True, 'analyzer': 'char', 'binary': False, 'decode_error': 'strict', 'dtype': <class 'numpy.float64'>, 'encoding': 'utf-8', 'input': 'content', 'lowercase': True, 'n_features': 1000, 'ngram_range': (1, 5), 'norm': 'l2', 'preprocessor': None, 'stop_words': None, 'strip_accents': None, 'token_pattern': '(?u)\\\\b\\\\w\\\\w+\\\\b', 'tokenizer': None}\n",
            "Accuracy: 0.8805058470663566\n",
            "(871526, 1000)\n",
            "\n"
          ]
        },
        {
          "name": "stderr",
          "output_type": "stream",
          "text": [
            "/usr/local/lib/python3.7/dist-packages/sklearn/linear_model/_logistic.py:940: ConvergenceWarning: lbfgs failed to converge (status=1):\n",
            "STOP: TOTAL NO. of ITERATIONS REACHED LIMIT.\n",
            "\n",
            "Increase the number of iterations (max_iter) or scale the data as shown in:\n",
            "    https://scikit-learn.org/stable/modules/preprocessing.html\n",
            "Please also refer to the documentation for alternative solver options:\n",
            "    https://scikit-learn.org/stable/modules/linear_model.html#logistic-regression\n",
            "  extra_warning_msg=_LOGISTIC_SOLVER_CONVERGENCE_MSG)\n"
          ]
        },
        {
          "name": "stdout",
          "output_type": "stream",
          "text": [
            "{'alternate_sign': True, 'analyzer': 'word', 'binary': False, 'decode_error': 'strict', 'dtype': <class 'numpy.float64'>, 'encoding': 'utf-8', 'input': 'content', 'lowercase': True, 'n_features': 1000, 'ngram_range': (1, 5), 'norm': 'l2', 'preprocessor': None, 'stop_words': None, 'strip_accents': None, 'token_pattern': '(?u)\\\\b\\\\w\\\\w+\\\\b', 'tokenizer': None}\n",
            "Accuracy: 0.3789303407137802\n",
            "(871526, 149809)\n",
            "\n"
          ]
        },
        {
          "name": "stderr",
          "output_type": "stream",
          "text": [
            "/usr/local/lib/python3.7/dist-packages/sklearn/linear_model/_logistic.py:940: ConvergenceWarning: lbfgs failed to converge (status=1):\n",
            "STOP: TOTAL NO. of ITERATIONS REACHED LIMIT.\n",
            "\n",
            "Increase the number of iterations (max_iter) or scale the data as shown in:\n",
            "    https://scikit-learn.org/stable/modules/preprocessing.html\n",
            "Please also refer to the documentation for alternative solver options:\n",
            "    https://scikit-learn.org/stable/modules/linear_model.html#logistic-regression\n",
            "  extra_warning_msg=_LOGISTIC_SOLVER_CONVERGENCE_MSG)\n"
          ]
        },
        {
          "name": "stdout",
          "output_type": "stream",
          "text": [
            "{'analyzer': 'char', 'binary': False, 'decode_error': 'strict', 'dtype': <class 'numpy.int64'>, 'encoding': 'utf-8', 'input': 'content', 'lowercase': True, 'max_df': 1.0, 'max_features': None, 'min_df': 1, 'ngram_range': (1, 5), 'preprocessor': None, 'stop_words': None, 'strip_accents': None, 'token_pattern': '(?u)\\\\b\\\\w\\\\w+\\\\b', 'tokenizer': None, 'vocabulary': None}\n"
          ]
        },
        {
          "ename": "KeyError",
          "evalue": "ignored",
          "output_type": "error",
          "traceback": [
            "\u001b[0;31m---------------------------------------------------------------------------\u001b[0m",
            "\u001b[0;31mKeyError\u001b[0m                                  Traceback (most recent call last)",
            "\u001b[0;32m<ipython-input-16-f311c8f7f747>\u001b[0m in \u001b[0;36m<module>\u001b[0;34m()\u001b[0m\n\u001b[1;32m      4\u001b[0m                          \u001b[0mtest_t\u001b[0m\u001b[0;34m=\u001b[0m\u001b[0mtest_tok\u001b[0m\u001b[0;34m,\u001b[0m\u001b[0;34m\u001b[0m\u001b[0;34m\u001b[0m\u001b[0m\n\u001b[1;32m      5\u001b[0m                          \u001b[0mtrain_l\u001b[0m\u001b[0;34m=\u001b[0m\u001b[0mtrain_label\u001b[0m\u001b[0;34m,\u001b[0m\u001b[0;34m\u001b[0m\u001b[0;34m\u001b[0m\u001b[0m\n\u001b[0;32m----> 6\u001b[0;31m                          test_l=test_label))\n\u001b[0m",
            "\u001b[0;32m<ipython-input-14-677059a9b5fc>\u001b[0m in \u001b[0;36mget_accuracy_vec\u001b[0;34m(vectorizer, train_t, test_t, train_l, test_l)\u001b[0m\n\u001b[1;32m     15\u001b[0m   \u001b[0;31m# print(vectorizer.__name__)\u001b[0m\u001b[0;34m\u001b[0m\u001b[0;34m\u001b[0m\u001b[0;34m\u001b[0m\u001b[0m\n\u001b[1;32m     16\u001b[0m   \u001b[0mprint\u001b[0m\u001b[0;34m(\u001b[0m\u001b[0mvectorizer\u001b[0m\u001b[0;34m.\u001b[0m\u001b[0mget_params\u001b[0m\u001b[0;34m(\u001b[0m\u001b[0;34m)\u001b[0m\u001b[0;34m)\u001b[0m\u001b[0;34m\u001b[0m\u001b[0;34m\u001b[0m\u001b[0m\n\u001b[0;32m---> 17\u001b[0;31m   \u001b[0mvec_name\u001b[0m \u001b[0;34m=\u001b[0m \u001b[0;34mf\"{str(vectorizer).split('(')[0]}: [analyzer:{vectorizer.get_params()['analyzer']}, n_features:{vectorizer.get_params()['n_features']}]\"\u001b[0m\u001b[0;34m\u001b[0m\u001b[0;34m\u001b[0m\u001b[0m\n\u001b[0m\u001b[1;32m     18\u001b[0m   \u001b[0mdf_accuracy\u001b[0m\u001b[0;34m.\u001b[0m\u001b[0mloc\u001b[0m\u001b[0;34m[\u001b[0m\u001b[0mvec_name\u001b[0m\u001b[0;34m,\u001b[0m \u001b[0;34m'accuracy'\u001b[0m\u001b[0;34m]\u001b[0m \u001b[0;34m=\u001b[0m \u001b[0maccuracy_score\u001b[0m\u001b[0;34m(\u001b[0m\u001b[0mtest_enc_l\u001b[0m\u001b[0;34m,\u001b[0m \u001b[0mpred\u001b[0m\u001b[0;34m)\u001b[0m\u001b[0;34m\u001b[0m\u001b[0;34m\u001b[0m\u001b[0m\n\u001b[1;32m     19\u001b[0m   \u001b[0;32mreturn\u001b[0m \u001b[0;34mf'Accuracy: {accuracy_score(test_enc_l, pred)}'\u001b[0m\u001b[0;34m\u001b[0m\u001b[0;34m\u001b[0m\u001b[0m\n",
            "\u001b[0;31mKeyError\u001b[0m: 'n_features'"
          ]
        }
      ]
    },
    {
      "cell_type": "markdown",
      "metadata": {
        "id": "sCMyGcARiRW8"
      },
      "source": [
        "## 1.3"
      ]
    },
    {
      "cell_type": "code",
      "metadata": {
        "colab": {
          "background_save": true
        },
        "id": "rcdF-oBfhHl2"
      },
      "source": [
        "df_accuracy"
      ],
      "execution_count": null,
      "outputs": []
    },
    {
      "cell_type": "markdown",
      "metadata": {
        "id": "ehmbYXMgBA9P"
      },
      "source": [
        "Прирос при равных параметрах у HashingVect при увеличении количеста фичей.\n",
        "При внесении тех же данных при смене анализатора падение точности.\n",
        "\n",
        "Небольшой выигрыш CountVectorizer у TfidfVectorizer"
      ]
    },
    {
      "cell_type": "markdown",
      "metadata": {
        "id": "cINqgGpKXURp"
      },
      "source": [
        "# Задание 2"
      ]
    },
    {
      "cell_type": "markdown",
      "metadata": {
        "id": "VCM0drjKXYet"
      },
      "source": [
        "много дополнительных датасетов на русском языке\n",
        "\n",
        "https://natasha.github.io/corus/  \n",
        "https://github.com/natasha/corus"
      ]
    },
    {
      "cell_type": "markdown",
      "metadata": {
        "id": "sUOg4C8sZNpw"
      },
      "source": [
        "мы будем использовать данные http://www.labinform.ru/pub/named_entities/"
      ]
    },
    {
      "cell_type": "markdown",
      "metadata": {
        "id": "qzi6ApNLZg6X"
      },
      "source": [
        "**Проверить насколько хорошо работает NER**\n",
        "\n",
        "1. взять нер из nltk\n",
        "2. проверить deeppavlov\n",
        "3. написать свой нер попробовать разные подходы:\n",
        "* передаём в сетку токен и его соседей\n",
        "* передаём в сетку только токен\n",
        "\n",
        "4. сделать выводы по вашим экспериментам какой из подходов успешнее справляется"
      ]
    },
    {
      "cell_type": "markdown",
      "metadata": {
        "id": "aP1LgaNUtaOz"
      },
      "source": [
        "при обучении своего нера незабудьте разделить выборку"
      ]
    },
    {
      "cell_type": "markdown",
      "metadata": {
        "id": "J2Ux_dxXCebN"
      },
      "source": [
        "## 2.1"
      ]
    },
    {
      "cell_type": "code",
      "metadata": {
        "colab": {
          "base_uri": "https://localhost:8080/"
        },
        "id": "Qg6tcss2Zhp9",
        "outputId": "b5a6caea-787a-4e05-814e-fbcc1a9cea55"
      },
      "source": [
        "!pip install corus"
      ],
      "execution_count": 1,
      "outputs": [
        {
          "output_type": "stream",
          "name": "stdout",
          "text": [
            "Collecting corus\n",
            "  Downloading corus-0.9.0-py3-none-any.whl (83 kB)\n",
            "\u001b[?25l\r\u001b[K     |████                            | 10 kB 24.6 MB/s eta 0:00:01\r\u001b[K     |███████▉                        | 20 kB 29.5 MB/s eta 0:00:01\r\u001b[K     |███████████▊                    | 30 kB 23.7 MB/s eta 0:00:01\r\u001b[K     |███████████████▊                | 40 kB 18.3 MB/s eta 0:00:01\r\u001b[K     |███████████████████▋            | 51 kB 7.5 MB/s eta 0:00:01\r\u001b[K     |███████████████████████▌        | 61 kB 7.9 MB/s eta 0:00:01\r\u001b[K     |███████████████████████████▌    | 71 kB 6.8 MB/s eta 0:00:01\r\u001b[K     |███████████████████████████████▍| 81 kB 7.6 MB/s eta 0:00:01\r\u001b[K     |████████████████████████████████| 83 kB 1.8 MB/s \n",
            "\u001b[?25hInstalling collected packages: corus\n",
            "Successfully installed corus-0.9.0\n"
          ]
        }
      ]
    },
    {
      "cell_type": "code",
      "metadata": {
        "id": "hrc5ocDkaS1e"
      },
      "source": [
        "import corus"
      ],
      "execution_count": 2,
      "outputs": []
    },
    {
      "cell_type": "code",
      "metadata": {
        "colab": {
          "base_uri": "https://localhost:8080/"
        },
        "id": "vPVv6lhT3ftA",
        "outputId": "5172f6db-5eea-4175-dd6c-7829ec47fe10"
      },
      "source": [
        "!wget http://www.labinform.ru/pub/named_entities/collection5.zip"
      ],
      "execution_count": 3,
      "outputs": [
        {
          "output_type": "stream",
          "name": "stdout",
          "text": [
            "--2021-09-22 09:43:11--  http://www.labinform.ru/pub/named_entities/collection5.zip\n",
            "Resolving www.labinform.ru (www.labinform.ru)... 80.240.100.4\n",
            "Connecting to www.labinform.ru (www.labinform.ru)|80.240.100.4|:80... connected.\n",
            "HTTP request sent, awaiting response... 200 OK\n",
            "Length: 1899530 (1.8M) [application/zip]\n",
            "Saving to: ‘collection5.zip’\n",
            "\n",
            "collection5.zip     100%[===================>]   1.81M   372KB/s    in 5.7s    \n",
            "\n",
            "2021-09-22 09:43:17 (324 KB/s) - ‘collection5.zip’ saved [1899530/1899530]\n",
            "\n"
          ]
        }
      ]
    },
    {
      "cell_type": "code",
      "metadata": {
        "id": "XtLK4z9CH2Ph"
      },
      "source": [
        "!unzip collection5.zip"
      ],
      "execution_count": null,
      "outputs": []
    },
    {
      "cell_type": "code",
      "metadata": {
        "id": "JPxCa2LyH8gW"
      },
      "source": [
        "!rm collection5.zip"
      ],
      "execution_count": 5,
      "outputs": []
    },
    {
      "cell_type": "code",
      "metadata": {
        "colab": {
          "base_uri": "https://localhost:8080/"
        },
        "id": "7burz-bD3t4l",
        "outputId": "1c172c72-f25e-45da-f9f1-c0bb784ad556"
      },
      "source": [
        "!ls"
      ],
      "execution_count": 6,
      "outputs": [
        {
          "output_type": "stream",
          "name": "stdout",
          "text": [
            "Collection5  sample_data\n"
          ]
        }
      ]
    },
    {
      "cell_type": "code",
      "metadata": {
        "colab": {
          "base_uri": "https://localhost:8080/"
        },
        "id": "UEdS2pAS3fod",
        "outputId": "cd542deb-8b01-4e57-921b-ddcd2a8f322e"
      },
      "source": [
        "from corus import load_ne5\n",
        "\n",
        "dir = 'Collection5/'\n",
        "records = load_ne5(dir)\n",
        "next(records)\n"
      ],
      "execution_count": 7,
      "outputs": [
        {
          "output_type": "execute_result",
          "data": {
            "text/plain": [
              "Ne5Markup(\n",
              "    id='last_70',\n",
              "    text='В.Путин оставил Р.Копина во главе Чукотки\\r\\n\\r\\n\\r\\nПрезидент России Владимир Путин своим указом назначил временно исполняющим обязанности губернатора Чукотского автономного округа Романа Копина. Указ подписан в связи с истечением срока его полномочий на посту губернатора, сообщила пресс-служба Кремля.\\r\\n\\r\\nР.Копин назначен временным главой региона до вступления в должность лица, избранного губернатором Чукотки. Президентский указ вступает в силу со дня его подписания.\\r\\n\\r\\nР.Копин официально вступил в должность губернатора Чукотки в июле 2008г. после отставки Романа Абрамовича. Его кандидатуру в качестве главы региона предложил тогда еще президент России Дмитрий Медведев.\\r\\n\\r\\nДо назначения Р.Копин занимал посты заместителя губернатора и заместителя председателя правительства округа по вопросам промышленной и сельскохозяйственной политики.\\r\\n',\n",
              "    spans=[Ne5Span(\n",
              "         index='T1',\n",
              "         type='PER',\n",
              "         start=0,\n",
              "         stop=7,\n",
              "         text='В.Путин'\n",
              "     ), Ne5Span(\n",
              "         index='T2',\n",
              "         type='PER',\n",
              "         start=16,\n",
              "         stop=24,\n",
              "         text='Р.Копина'\n",
              "     ), Ne5Span(\n",
              "         index='T3',\n",
              "         type='LOC',\n",
              "         start=34,\n",
              "         stop=41,\n",
              "         text='Чукотки'\n",
              "     ), Ne5Span(\n",
              "         index='T4',\n",
              "         type='GEOPOLIT',\n",
              "         start=57,\n",
              "         stop=63,\n",
              "         text='России'\n",
              "     ), Ne5Span(\n",
              "         index='T5',\n",
              "         type='PER',\n",
              "         start=64,\n",
              "         stop=78,\n",
              "         text='Владимир Путин'\n",
              "     ), Ne5Span(\n",
              "         index='T6',\n",
              "         type='LOC',\n",
              "         start=146,\n",
              "         stop=175,\n",
              "         text='Чукотского автономного округа'\n",
              "     ), Ne5Span(\n",
              "         index='T7',\n",
              "         type='PER',\n",
              "         start=176,\n",
              "         stop=189,\n",
              "         text='Романа Копина'\n",
              "     ), Ne5Span(\n",
              "         index='T8',\n",
              "         type='ORG',\n",
              "         start=291,\n",
              "         stop=297,\n",
              "         text='Кремля'\n",
              "     ), Ne5Span(\n",
              "         index='T9',\n",
              "         type='PER',\n",
              "         start=302,\n",
              "         stop=309,\n",
              "         text='Р.Копин'\n",
              "     ), Ne5Span(\n",
              "         index='T10',\n",
              "         type='LOC',\n",
              "         start=400,\n",
              "         stop=407,\n",
              "         text='Чукотки'\n",
              "     ), Ne5Span(\n",
              "         index='T11',\n",
              "         type='PER',\n",
              "         start=470,\n",
              "         stop=477,\n",
              "         text='Р.Копин'\n",
              "     ), Ne5Span(\n",
              "         index='T12',\n",
              "         type='LOC',\n",
              "         start=521,\n",
              "         stop=528,\n",
              "         text='Чукотки'\n",
              "     ), Ne5Span(\n",
              "         index='T13',\n",
              "         type='PER',\n",
              "         start=558,\n",
              "         stop=575,\n",
              "         text='Романа Абрамовича'\n",
              "     ), Ne5Span(\n",
              "         index='T14',\n",
              "         type='GEOPOLIT',\n",
              "         start=648,\n",
              "         stop=654,\n",
              "         text='России'\n",
              "     ), Ne5Span(\n",
              "         index='T15',\n",
              "         type='PER',\n",
              "         start=655,\n",
              "         stop=671,\n",
              "         text='Дмитрий Медведев'\n",
              "     ), Ne5Span(\n",
              "         index='T16',\n",
              "         type='PER',\n",
              "         start=690,\n",
              "         stop=697,\n",
              "         text='Р.Копин'\n",
              "     )]\n",
              ")"
            ]
          },
          "metadata": {},
          "execution_count": 7
        }
      ]
    },
    {
      "cell_type": "markdown",
      "metadata": {
        "id": "GrhLNgNwQP2P"
      },
      "source": [
        "процедуры обработки взять из вебинарного ноутбука"
      ]
    },
    {
      "cell_type": "code",
      "metadata": {
        "colab": {
          "base_uri": "https://localhost:8080/"
        },
        "id": "uRuODJpkIqlv",
        "outputId": "44c9873d-eb94-4124-fc73-8e0a56ea930c"
      },
      "source": [
        "import requests\n",
        "import nltk\n",
        "nltk.download('punkt')\n",
        "nltk.download('averaged_perceptron_tagger')\n",
        "from bs4 import BeautifulSoup\n",
        "import re\n",
        "\n",
        "def url_to_string(url):\n",
        "    res = requests.get(url)\n",
        "    html = res.text\n",
        "    soup = BeautifulSoup(html, 'html5lib')\n",
        "    for script in soup([\"script\", \"style\", 'aside']):\n",
        "        script.extract()\n",
        "    return \" \".join(re.split(r'[\\n\\t]+', soup.get_text()))\n",
        "\n",
        "document = url_to_string('http://www.labinform.ru/pub/named_entities')\n",
        "\n",
        "nltk.pos_tag(nltk.word_tokenize(document))"
      ],
      "execution_count": 14,
      "outputs": [
        {
          "output_type": "stream",
          "name": "stdout",
          "text": [
            "[nltk_data] Downloading package punkt to /root/nltk_data...\n",
            "[nltk_data]   Package punkt is already up-to-date!\n",
            "[nltk_data] Downloading package averaged_perceptron_tagger to\n",
            "[nltk_data]     /root/nltk_data...\n",
            "[nltk_data]   Package averaged_perceptron_tagger is already up-to-\n",
            "[nltk_data]       date!\n",
            "[nltk_data] Downloading package maxent_ne_chunker to\n",
            "[nltk_data]     /root/nltk_data...\n",
            "[nltk_data]   Unzipping chunkers/maxent_ne_chunker.zip.\n"
          ]
        },
        {
          "output_type": "execute_result",
          "data": {
            "text/plain": [
              "[('Размеченные', 'JJ'),\n",
              " ('коллекции', 'NNP'),\n",
              " ('для', 'NNP'),\n",
              " ('извлечения', 'NNP'),\n",
              " ('именованных', 'NNP'),\n",
              " ('сущностей', 'NNP'),\n",
              " ('LABINFORM.RU', 'NNP'),\n",
              " ('РАЗМЕЧЕННЫЕ', 'NNP'),\n",
              " ('КОЛЛЕКЦИИ', 'NNP'),\n",
              " ('ДЛЯ', 'NNP'),\n",
              " ('ИЗВЛЕЧЕНИЯ', 'NNP'),\n",
              " ('ИМЕНОВАННЫХ', 'NNP'),\n",
              " ('СУЩНОСТЕЙ', 'NNP'),\n",
              " ('Коллекция', 'NNP'),\n",
              " ('Named_Entities_5', 'NNP'),\n",
              " ('Размеченная', 'NNP'),\n",
              " ('коллекция', 'NNP'),\n",
              " ('Named_Entities_5', 'NNP'),\n",
              " ('создана', 'NNP'),\n",
              " ('для', 'NNP'),\n",
              " ('оценки', 'NNP'),\n",
              " ('качества', 'NNP'),\n",
              " ('алгоритмов', 'NNP'),\n",
              " ('автоматического', 'NNP'),\n",
              " ('извлечения', 'NNP'),\n",
              " ('именованных', 'NNP'),\n",
              " ('сущностей', 'NNP'),\n",
              " ('из', 'NNP'),\n",
              " ('текстов', 'NNP'),\n",
              " ('на', 'NNP'),\n",
              " ('русском', 'NNP'),\n",
              " ('языке', 'NNP'),\n",
              " ('.', '.'),\n",
              " ('В', 'VB'),\n",
              " ('качестве', 'JJ'),\n",
              " ('основы', 'NNP'),\n",
              " ('для', 'NNP'),\n",
              " ('разметки', 'NNP'),\n",
              " ('этих', 'NNP'),\n",
              " ('коллекций', 'NNP'),\n",
              " ('взята', 'NNP'),\n",
              " ('коллекция', 'NNP'),\n",
              " ('Persons-1000', 'NNP'),\n",
              " (',', ','),\n",
              " ('подготовленная', 'NNP'),\n",
              " ('Исследовательским', 'NNP'),\n",
              " ('центром', 'NNP'),\n",
              " ('Искусственного', 'NNP'),\n",
              " ('интеллекта', 'NNP'),\n",
              " ('Института', 'NNP'),\n",
              " ('программных', 'NNP'),\n",
              " ('систем', 'NNP'),\n",
              " ('РАН', 'NNP'),\n",
              " ('.', '.'),\n",
              " ('В', 'VB'),\n",
              " ('коллекции', 'JJ'),\n",
              " ('Persons-1000', 'NNP'),\n",
              " ('были', 'NNP'),\n",
              " ('размечены', 'NNP'),\n",
              " ('упоминания', 'NNP'),\n",
              " ('имен', 'NNP'),\n",
              " ('персон', 'NNP'),\n",
              " ('в', 'NNP'),\n",
              " ('текстах', 'NNP'),\n",
              " (',', ','),\n",
              " ('а', 'NNP'),\n",
              " ('также', 'NNP'),\n",
              " ('было', 'NNP'),\n",
              " ('приведено', 'NNP'),\n",
              " ('каноническое', 'NNP'),\n",
              " ('названия', 'NNP'),\n",
              " ('упомянутых', 'NNP'),\n",
              " ('персон', 'NNP'),\n",
              " ('.', '.'),\n",
              " ('Особенностью', 'VB'),\n",
              " ('этой', 'JJ'),\n",
              " ('разметки', 'NNP'),\n",
              " ('было', 'NNP'),\n",
              " ('то', 'NNP'),\n",
              " (',', ','),\n",
              " ('что', 'NNP'),\n",
              " ('размечались', 'NNP'),\n",
              " ('только', 'NNP'),\n",
              " ('собственные', 'NNP'),\n",
              " ('имена', 'NNP'),\n",
              " ('персон', 'NNP'),\n",
              " (',', ','),\n",
              " ('в', 'NNP'),\n",
              " ('разметку', 'NNP'),\n",
              " ('не', 'NNP'),\n",
              " ('включались', 'NNP'),\n",
              " (',', ','),\n",
              " ('в', 'NNP'),\n",
              " ('частностью', 'NNP'),\n",
              " ('упоминания', 'NNP'),\n",
              " ('ролей', 'NNP'),\n",
              " ('персон', 'NNP'),\n",
              " ('(', '('),\n",
              " ('президент', 'NNP'),\n",
              " (',', ','),\n",
              " ('отец', 'NNP'),\n",
              " (')', ')'),\n",
              " ('считаются', 'VBP'),\n",
              " ('реляционным', 'JJ'),\n",
              " ('типом', 'NNP'),\n",
              " ('информации', 'NNP'),\n",
              " ('.', '.'),\n",
              " ('В', 'VB'),\n",
              " ('коллекции', 'JJ'),\n",
              " ('Named_Entities_5', 'NNP'),\n",
              " ('разметка', 'NNP'),\n",
              " ('имен', 'NNP'),\n",
              " ('людей', 'NNP'),\n",
              " ('из', 'NNP'),\n",
              " ('коллекции', 'NNP'),\n",
              " ('Persons-1000', 'NNP'),\n",
              " ('была', 'NNP'),\n",
              " ('дополнена', 'NNP'),\n",
              " ('следующими', 'NNP'),\n",
              " ('типами', 'NNP'),\n",
              " ('имен', 'NN'),\n",
              " (':', ':'),\n",
              " ('организации', 'NN'),\n",
              " ('(', '('),\n",
              " ('Org', 'NNP'),\n",
              " (')', ')'),\n",
              " ('источники', 'VBP'),\n",
              " ('информации', 'SYM'),\n",
              " ('-', ':'),\n",
              " ('средства', 'NN'),\n",
              " ('массовой', 'NN'),\n",
              " ('информации', 'NNP'),\n",
              " (',', ','),\n",
              " ('организации', 'NNP'),\n",
              " (',', ','),\n",
              " ('имеющие', 'NNP'),\n",
              " ('функцию', 'NNP'),\n",
              " ('информирования', 'NNP'),\n",
              " ('(', '('),\n",
              " ('MEDIA', 'NNP'),\n",
              " (')', ')'),\n",
              " ('места', 'NN'),\n",
              " ('(', '('),\n",
              " ('Loc', 'NNP'),\n",
              " (')', ')'),\n",
              " ('государства', 'NN'),\n",
              " ('(', '('),\n",
              " ('Geopolit', 'NNP'),\n",
              " (')', ')'),\n",
              " (',', ','),\n",
              " ('страны', 'JJ'),\n",
              " ('и', 'NNP'),\n",
              " ('столицы', 'NNP'),\n",
              " (',', ','),\n",
              " ('выступающие', 'NNP'),\n",
              " ('в', 'NNP'),\n",
              " ('роли', 'NNP'),\n",
              " ('правительства', 'NNP'),\n",
              " ('(', '('),\n",
              " ('например', 'NNP'),\n",
              " (',', ','),\n",
              " ('«', 'NNP'),\n",
              " ('Москва', 'NNP'),\n",
              " ('анонсировала', 'NNP'),\n",
              " ('»', 'NNP'),\n",
              " (')', ')'),\n",
              " ('Особенностью', 'VBP'),\n",
              " ('новой', 'JJ'),\n",
              " ('разметки', 'NNP'),\n",
              " ('является', 'NNP'),\n",
              " ('то', 'NNP'),\n",
              " (',', ','),\n",
              " ('что', 'NNP'),\n",
              " ('в', 'NNP'),\n",
              " ('подавляющем', 'NNP'),\n",
              " ('числе', 'NNP'),\n",
              " ('случаев', 'NNP'),\n",
              " ('размеченное', 'NNP'),\n",
              " ('имя', 'NNP'),\n",
              " ('должно', 'NNP'),\n",
              " ('начинаться', 'NNP'),\n",
              " ('с', 'NNP'),\n",
              " ('заглавной', 'NNP'),\n",
              " ('буквы', 'NNP'),\n",
              " ('.', '.'),\n",
              " ('Важными', 'VB'),\n",
              " ('принципами', 'JJ'),\n",
              " ('разметки', 'NNP'),\n",
              " ('являются', 'NNP'),\n",
              " ('следующие', 'NN'),\n",
              " (':', ':'),\n",
              " ('в', 'JJ'),\n",
              " ('разметке', 'NNP'),\n",
              " ('нет', 'NNP'),\n",
              " ('вложенных', 'NNP'),\n",
              " ('именованных', 'NNP'),\n",
              " ('сущностей', 'NNP'),\n",
              " (',', ','),\n",
              " ('именованные', 'NNP'),\n",
              " ('сущности', 'NNP'),\n",
              " ('не', 'NNP'),\n",
              " ('могут', 'NNP'),\n",
              " ('пересекаться', 'NNP'),\n",
              " (',', ','),\n",
              " ('каждому', 'NNP'),\n",
              " ('токену', 'NNP'),\n",
              " ('соответствует', 'NNP'),\n",
              " ('не', 'NNP'),\n",
              " ('более', 'NNP'),\n",
              " ('одного', 'NNP'),\n",
              " ('класса', 'NNP'),\n",
              " ('разметки', 'NNP'),\n",
              " ('.', '.'),\n",
              " ('Конкретные', 'VB'),\n",
              " ('случаи', 'JJ'),\n",
              " ('Имя', 'NNP'),\n",
              " ('внутри', 'NNP'),\n",
              " ('названия', 'NNP'),\n",
              " ('организации', 'NNP'),\n",
              " ('не', 'NNP'),\n",
              " ('размечается', 'NNP'),\n",
              " ('отдельно', 'NN'),\n",
              " (':', ':'),\n",
              " ('[', 'JJ'),\n",
              " ('Библиотека', 'NNP'),\n",
              " ('имени', 'NNP'),\n",
              " ('В.И', 'NNP'),\n",
              " ('.', '.'),\n",
              " ('Ленина', 'NN'),\n",
              " (']', 'SYM'),\n",
              " ('-', ':'),\n",
              " ('org', 'NN'),\n",
              " ('Вложенные', 'JJ'),\n",
              " ('организации', 'NNP'),\n",
              " ('и', 'NNP'),\n",
              " ('место', 'NNP'),\n",
              " (',', ','),\n",
              " ('к', 'NNP'),\n",
              " ('которому', 'NNP'),\n",
              " ('они', 'NNP'),\n",
              " ('относятся', 'NNP'),\n",
              " ('размечаются', 'NNP'),\n",
              " ('отдельно', 'NNP'),\n",
              " ('.', '.'),\n",
              " ('Это', 'VB'),\n",
              " ('упрощенный', 'JJ'),\n",
              " ('подход', 'NNP'),\n",
              " ('к', 'NNP'),\n",
              " ('разметке', 'NNP'),\n",
              " ('организаций', 'NNP'),\n",
              " (',', ','),\n",
              " ('но', 'NNP'),\n",
              " ('он', 'NNP'),\n",
              " ('позволяет', 'NNP'),\n",
              " ('делать', 'NNP'),\n",
              " ('разметку', 'NNP'),\n",
              " ('с', 'NNP'),\n",
              " ('высокой', 'NNP'),\n",
              " ('степенью', 'NNP'),\n",
              " ('согласия', 'NNP'),\n",
              " ('между', 'NNP'),\n",
              " ('разметчиками', 'NNP'),\n",
              " ('Общественный', 'NNP'),\n",
              " ('совет', 'NNP'),\n",
              " ('Правительства', 'NNP'),\n",
              " ('Москвы', 'NNP'),\n",
              " ('[', 'NNP'),\n",
              " ('Общественный', 'NNP'),\n",
              " ('совет', 'NNP'),\n",
              " (']', 'NNP'),\n",
              " ('-', ':'),\n",
              " ('Org', 'NNP'),\n",
              " ('Правительства', 'NNP'),\n",
              " ('-', ':'),\n",
              " ('Org', 'NNP'),\n",
              " ('Москвы', 'NNP'),\n",
              " ('-', ':'),\n",
              " ('Loc', 'NNP'),\n",
              " ('Имена', 'NNP'),\n",
              " ('мест', 'NNP'),\n",
              " (',', ','),\n",
              " ('людей', 'NNP'),\n",
              " (',', ','),\n",
              " ('организаций', 'NNP'),\n",
              " ('в', 'NNP'),\n",
              " ('кавычках', 'NNP'),\n",
              " ('размечаются', 'NNP'),\n",
              " ('в', 'NNP'),\n",
              " ('соответствии', 'NNP'),\n",
              " ('с', 'NNP'),\n",
              " ('тем', 'NNP'),\n",
              " (',', ','),\n",
              " ('что', 'NNP'),\n",
              " ('значит', 'NNP'),\n",
              " ('это', 'NNP'),\n",
              " ('имя', 'NNP'),\n",
              " ('в', 'NNP'),\n",
              " ('кавычках', 'NN'),\n",
              " (':', ':'),\n",
              " ('Гостиница', 'NN'),\n",
              " ('``', '``'),\n",
              " ('Москва', 'NN'),\n",
              " (\"''\", \"''\"),\n",
              " ('-', ':'),\n",
              " ('Org', 'NNP'),\n",
              " ('Разметка', 'NNP'),\n",
              " ('производилась', 'NNP'),\n",
              " ('одним', 'NNP'),\n",
              " ('экспертом', 'NNP'),\n",
              " ('с', 'NNP'),\n",
              " ('помощью', 'NNP'),\n",
              " ('инструмента', 'NNP'),\n",
              " ('Brat', 'NNP'),\n",
              " ('.', '.'),\n",
              " ('Затем', 'VB'),\n",
              " ('на', 'JJ'),\n",
              " ('этой', 'NNP'),\n",
              " ('разметке', 'NNP'),\n",
              " ('была', 'NNP'),\n",
              " ('обучена', 'NNP'),\n",
              " ('система', 'NNP'),\n",
              " ('извлечения', 'NNP'),\n",
              " ('именованных', 'NNP'),\n",
              " ('сущностей', 'NNP'),\n",
              " ('с', 'NNP'),\n",
              " ('использованием', 'NNP'),\n",
              " ('кросс-валидации', 'NNP'),\n",
              " ('.', '.'),\n",
              " ('Автоматическая', 'VB'),\n",
              " ('разметка', 'JJ'),\n",
              " ('тестовой', 'NNP'),\n",
              " ('части', 'NNP'),\n",
              " ('сравнивалась', 'NNP'),\n",
              " ('с', 'NNP'),\n",
              " ('ручной', 'NNP'),\n",
              " ('разметкой', 'NNP'),\n",
              " ('и', 'NNP'),\n",
              " ('выявлялись', 'NNP'),\n",
              " ('случаи', 'NNP'),\n",
              " (',', ','),\n",
              " ('когда', 'NNP'),\n",
              " ('система', 'NNP'),\n",
              " ('разметила', 'NNP'),\n",
              " ('правильно', 'NNP'),\n",
              " (',', ','),\n",
              " ('а', 'NNP'),\n",
              " ('эксперт', 'NNP'),\n",
              " ('ошибся', 'NNP'),\n",
              " ('(', '('),\n",
              " ('пропустил', 'NNP'),\n",
              " (',', ','),\n",
              " ('спутал', 'NNP'),\n",
              " ('тип', 'NNP'),\n",
              " ('сущности', 'NNP'),\n",
              " (',', ','),\n",
              " ('неточно', 'NNP'),\n",
              " ('установил', 'NNP'),\n",
              " ('границы', 'NNP'),\n",
              " ('сущности', 'NNP'),\n",
              " (')', ')'),\n",
              " ('.', '.'),\n",
              " ('В', 'JJ'),\n",
              " ('случае', 'JJ'),\n",
              " ('обнаружения', 'NN'),\n",
              " ('неточности', 'NNP'),\n",
              " ('экспертной', 'NNP'),\n",
              " ('разметки', 'NNP'),\n",
              " (',', ','),\n",
              " ('в', 'NNP'),\n",
              " ('разметку', 'NNP'),\n",
              " ('вносилась', 'NNP'),\n",
              " ('правка', 'NNP'),\n",
              " ('.', '.'),\n",
              " ('Число', 'VB'),\n",
              " ('размеченных', 'JJ'),\n",
              " ('объектов', 'NNP'),\n",
              " ('в', 'NNP'),\n",
              " ('коллекции', 'NN'),\n",
              " (':', ':'),\n",
              " ('Типы', 'JJ'),\n",
              " ('сущностейКоличество', 'NNP'),\n",
              " ('Pers10623', 'NNP'),\n",
              " ('Org', 'NNP'),\n",
              " ('7032', 'CD'),\n",
              " ('Media', 'NNP'),\n",
              " ('1509', 'CD'),\n",
              " ('Loc', 'NNP'),\n",
              " ('3141', 'CD'),\n",
              " ('Geopolit', 'NNP'),\n",
              " ('4103', 'CD'),\n",
              " ('Коллекция', 'NNP'),\n",
              " ('Named_Entities_3', 'NNP'),\n",
              " ('Также', 'NNP'),\n",
              " ('сделан', 'NNP'),\n",
              " ('вариант', 'NNP'),\n",
              " ('разметки', 'NNP'),\n",
              " ('именованных', 'NNP'),\n",
              " ('сущностей', 'NNP'),\n",
              " ('по', 'NNP'),\n",
              " ('трем', 'NNP'),\n",
              " ('классам', 'NNP'),\n",
              " ('Named_Entities_3', 'NNP'),\n",
              " (':', ':'),\n",
              " ('имена', 'NN'),\n",
              " ('людей', 'NN'),\n",
              " (',', ','),\n",
              " ('имена', 'NNP'),\n",
              " ('организаций', 'NNP'),\n",
              " (',', ','),\n",
              " ('географические', 'NNP'),\n",
              " ('названия', 'NNP'),\n",
              " (',', ','),\n",
              " ('в', 'NNP'),\n",
              " ('которой', 'NNP'),\n",
              " ('названия', 'NNP'),\n",
              " ('государств', 'NNP'),\n",
              " ('присоединены', 'NNP'),\n",
              " ('к', 'NNP'),\n",
              " ('локациям', 'NNP'),\n",
              " (',', ','),\n",
              " ('а', 'NNP'),\n",
              " ('имена', 'NNP'),\n",
              " ('медиа-организаций', 'JJ'),\n",
              " ('-', ':'),\n",
              " ('к', 'NN'),\n",
              " ('организациям', 'NN'),\n",
              " ('.', '.'),\n",
              " ('Скачать', 'CC'),\n",
              " ('коллекции', 'JJ'),\n",
              " ('Named_Entities_5', 'NNP'),\n",
              " ('Named_Entities_3', 'NNP'),\n",
              " ('Для', 'NNP'),\n",
              " ('библиографических', 'NNP'),\n",
              " ('ссылок', 'NNP'),\n",
              " ('Mozharova', 'NNP'),\n",
              " ('V.', 'NNP'),\n",
              " (',', ','),\n",
              " ('Loukachevitch', 'NNP'),\n",
              " ('N.', 'NNP'),\n",
              " (',', ','),\n",
              " ('Two-stage', 'NNP'),\n",
              " ('approach', 'NN'),\n",
              " ('in', 'IN'),\n",
              " ('Russian', 'NNP'),\n",
              " ('named', 'VBD'),\n",
              " ('entity', 'NN'),\n",
              " ('recognition', 'NN'),\n",
              " ('//', 'NNP'),\n",
              " ('International', 'NNP'),\n",
              " ('FRUCT', 'NNP'),\n",
              " ('Conference', 'NNP'),\n",
              " ('on', 'IN'),\n",
              " ('Intelligence', 'NNP'),\n",
              " (',', ','),\n",
              " ('Social', 'NNP'),\n",
              " ('Media', 'NNP'),\n",
              " ('and', 'CC'),\n",
              " ('Web', 'NNP'),\n",
              " (',', ','),\n",
              " ('ISMW', 'NNP'),\n",
              " ('FRUCT', 'NNP'),\n",
              " ('2016', 'CD'),\n",
              " ('.', '.'),\n",
              " ('Saint-Petersburg', 'NNP'),\n",
              " (';', ':'),\n",
              " ('Russian', 'JJ'),\n",
              " ('Federation', 'NNP'),\n",
              " (',', ','),\n",
              " ('DOI', 'NNP'),\n",
              " ('10.1109/FRUCT.2016.7584769', 'CD'),\n",
              " ('(', '('),\n",
              " ('PDF', 'NNP'),\n",
              " (')', ')'),\n",
              " ('Можарова', 'NNP'),\n",
              " ('В.А.', 'NNP'),\n",
              " (',', ','),\n",
              " ('Лукашевич', 'NNP'),\n",
              " ('Н.В', 'NNP'),\n",
              " ('.', '.'),\n",
              " ('Двухэтапный', 'VB'),\n",
              " ('подход', 'JJ'),\n",
              " ('к', 'NNP'),\n",
              " ('извлечению', 'NNP'),\n",
              " ('именованных', 'NNP'),\n",
              " ('сущностей', 'NNP'),\n",
              " ('//', 'NNP'),\n",
              " ('Труды', 'NNP'),\n",
              " ('конференции', 'NNP'),\n",
              " ('по', 'NNP'),\n",
              " ('искусственному', 'NNP'),\n",
              " ('интеллекту', 'NNP'),\n",
              " ('КИИ-2016', 'NNP'),\n",
              " (',', ','),\n",
              " ('т.2.', 'NNP'),\n",
              " (',', ','),\n",
              " ('2016', 'CD'),\n",
              " ('.', '.'),\n",
              " ('-', ':'),\n",
              " ('С.81-88', 'NN'),\n",
              " ('.', '.'),\n",
              " ('(', '('),\n",
              " ('PDF', 'NNP'),\n",
              " (')', ')'),\n",
              " ('Благодарности', 'VBP'),\n",
              " ('Коллекция', 'JJ'),\n",
              " ('создана', 'NNP'),\n",
              " ('при', 'NNP'),\n",
              " ('поддержке', 'NNP'),\n",
              " ('РФФИ', 'NNP'),\n",
              " ('(', '('),\n",
              " ('проект', 'JJ'),\n",
              " ('№', 'NNP'),\n",
              " ('15-07-09306', 'CD'),\n",
              " (')', ')')]"
            ]
          },
          "metadata": {},
          "execution_count": 14
        }
      ]
    },
    {
      "cell_type": "code",
      "metadata": {
        "colab": {
          "base_uri": "https://localhost:8080/"
        },
        "id": "XDdnL6EXJRt9",
        "outputId": "e0033889-cfb0-4962-8303-d589e1556aeb"
      },
      "source": [
        "nltk.download('maxent_ne_chunker')\n",
        "nltk.download('words')\n",
        "{(' '.join(c[0] for c in chunk), chunk.label() ) for chunk in nltk.ne_chunk(nltk.pos_tag(nltk.word_tokenize(document))) if hasattr(chunk, 'label') }"
      ],
      "execution_count": 16,
      "outputs": [
        {
          "output_type": "stream",
          "name": "stdout",
          "text": [
            "[nltk_data] Downloading package maxent_ne_chunker to\n",
            "[nltk_data]     /root/nltk_data...\n",
            "[nltk_data]   Package maxent_ne_chunker is already up-to-date!\n",
            "[nltk_data] Downloading package words to /root/nltk_data...\n",
            "[nltk_data]   Unzipping corpora/words.zip.\n"
          ]
        },
        {
          "output_type": "execute_result",
          "data": {
            "text/plain": [
              "{('DOI', 'ORGANIZATION'),\n",
              " ('Geopolit', 'ORGANIZATION'),\n",
              " ('ISMW', 'ORGANIZATION'),\n",
              " ('Intelligence', 'GPE'),\n",
              " ('Loc', 'ORGANIZATION'),\n",
              " ('Loc Имена', 'PERSON'),\n",
              " ('Loukachevitch N.', 'PERSON'),\n",
              " ('MEDIA', 'ORGANIZATION'),\n",
              " ('Org', 'ORGANIZATION'),\n",
              " ('Org Москвы', 'PERSON'),\n",
              " ('Org Правительства', 'PERSON'),\n",
              " ('Org Разметка', 'PERSON'),\n",
              " ('PDF', 'ORGANIZATION'),\n",
              " ('Russian', 'GPE'),\n",
              " ('Social Media', 'ORGANIZATION'),\n",
              " ('Библиотека', 'ORGANIZATION'),\n",
              " ('Вложенные', 'PERSON'),\n",
              " ('Коллекция', 'PERSON'),\n",
              " ('Ленина', 'PERSON'),\n",
              " ('Лукашевич', 'PERSON'),\n",
              " ('Можарова В.А.', 'PERSON'),\n",
              " ('Москва', 'PERSON'),\n",
              " ('Типы', 'PERSON'),\n",
              " ('сущностейКоличество Pers10623', 'ORGANIZATION')}"
            ]
          },
          "metadata": {},
          "execution_count": 16
        }
      ]
    },
    {
      "cell_type": "code",
      "metadata": {
        "colab": {
          "base_uri": "https://localhost:8080/"
        },
        "id": "PRUCX9qC9e1h",
        "outputId": "70fc4fae-f434-4859-c7b6-9a646028d26b"
      },
      "source": [
        "!pip install razdel"
      ],
      "execution_count": 18,
      "outputs": [
        {
          "output_type": "stream",
          "name": "stdout",
          "text": [
            "Collecting razdel\n",
            "  Downloading razdel-0.5.0-py3-none-any.whl (21 kB)\n",
            "Installing collected packages: razdel\n",
            "Successfully installed razdel-0.5.0\n"
          ]
        }
      ]
    },
    {
      "cell_type": "code",
      "metadata": {
        "id": "skYaNCiC5xM4"
      },
      "source": [
        "from razdel import tokenize\n",
        "words_docs = []\n",
        "for ix, rec in enumerate(records):\n",
        "    words = []\n",
        "    for token in tokenize(rec.text):\n",
        "        type_ent = 'OUT'\n",
        "        for ent in rec.spans:\n",
        "            if (token.start >= ent.start) and (token.stop <= ent.stop):\n",
        "                type_ent = ent.type\n",
        "                break\n",
        "        words.append([token.text, type_ent])\n",
        "    words_docs.extend(words)"
      ],
      "execution_count": 19,
      "outputs": []
    },
    {
      "cell_type": "code",
      "metadata": {
        "id": "ttFaILhO9ncD"
      },
      "source": [
        "import pandas as pd\n",
        "df_words = pd.DataFrame(words_docs, columns=['word', 'tag'])"
      ],
      "execution_count": 20,
      "outputs": []
    },
    {
      "cell_type": "code",
      "metadata": {
        "colab": {
          "base_uri": "https://localhost:8080/"
        },
        "id": "WVHS0Tvp9qoL",
        "outputId": "99e5dfdf-4ebf-4af5-fcd4-9a7ea7c137f0"
      },
      "source": [
        "df_words['tag'].value_counts()"
      ],
      "execution_count": 21,
      "outputs": [
        {
          "output_type": "execute_result",
          "data": {
            "text/plain": [
              "OUT         219121\n",
              "PER          21177\n",
              "ORG          13650\n",
              "LOC           4562\n",
              "GEOPOLIT      4354\n",
              "MEDIA         2482\n",
              "Name: tag, dtype: int64"
            ]
          },
          "metadata": {},
          "execution_count": 21
        }
      ]
    },
    {
      "cell_type": "code",
      "metadata": {
        "colab": {
          "base_uri": "https://localhost:8080/",
          "height": 143
        },
        "id": "GknNfOzM9vZR",
        "outputId": "dcf48531-6013-423e-e826-0906a7deebdb"
      },
      "source": [
        "df_words.head(3)"
      ],
      "execution_count": 22,
      "outputs": [
        {
          "output_type": "execute_result",
          "data": {
            "text/html": [
              "<div>\n",
              "<style scoped>\n",
              "    .dataframe tbody tr th:only-of-type {\n",
              "        vertical-align: middle;\n",
              "    }\n",
              "\n",
              "    .dataframe tbody tr th {\n",
              "        vertical-align: top;\n",
              "    }\n",
              "\n",
              "    .dataframe thead th {\n",
              "        text-align: right;\n",
              "    }\n",
              "</style>\n",
              "<table border=\"1\" class=\"dataframe\">\n",
              "  <thead>\n",
              "    <tr style=\"text-align: right;\">\n",
              "      <th></th>\n",
              "      <th>word</th>\n",
              "      <th>tag</th>\n",
              "    </tr>\n",
              "  </thead>\n",
              "  <tbody>\n",
              "    <tr>\n",
              "      <th>0</th>\n",
              "      <td>Египетская</td>\n",
              "      <td>OUT</td>\n",
              "    </tr>\n",
              "    <tr>\n",
              "      <th>1</th>\n",
              "      <td>армия</td>\n",
              "      <td>OUT</td>\n",
              "    </tr>\n",
              "    <tr>\n",
              "      <th>2</th>\n",
              "      <td>выдвинула</td>\n",
              "      <td>OUT</td>\n",
              "    </tr>\n",
              "  </tbody>\n",
              "</table>\n",
              "</div>"
            ],
            "text/plain": [
              "         word  tag\n",
              "0  Египетская  OUT\n",
              "1       армия  OUT\n",
              "2   выдвинула  OUT"
            ]
          },
          "metadata": {},
          "execution_count": 22
        }
      ]
    },
    {
      "cell_type": "code",
      "metadata": {
        "id": "z9XatpXW92Ri"
      },
      "source": [
        ""
      ],
      "execution_count": null,
      "outputs": []
    },
    {
      "cell_type": "markdown",
      "metadata": {
        "id": "SVB4nJR0CNZq"
      },
      "source": [
        "## 2.2"
      ]
    },
    {
      "cell_type": "code",
      "metadata": {
        "colab": {
          "background_save": true
        },
        "id": "2kd-emBao1u-"
      },
      "source": [
        "# установка deeppavlov\n",
        "\n",
        "!pip uninstall -y tensorflow tensorflow-gpu\n",
        "!pip install numpy scipy librosa unidecode inflect librosa transformers\n",
        "!pip install deeppavlov"
      ],
      "execution_count": null,
      "outputs": []
    },
    {
      "cell_type": "code",
      "metadata": {
        "colab": {
          "background_save": true
        },
        "id": "KY96lqBzsZJ_"
      },
      "source": [
        "#!python -m deeppavlov install squad_bert\n",
        "#!python -m deeppavlov install ner_ontonotes"
      ],
      "execution_count": null,
      "outputs": []
    },
    {
      "cell_type": "code",
      "metadata": {
        "colab": {
          "background_save": true
        },
        "id": "6KE7tpVWs1b7"
      },
      "source": [
        "import deeppavlov\n",
        "from deeppavlov import configs, build_model"
      ],
      "execution_count": null,
      "outputs": []
    },
    {
      "cell_type": "code",
      "metadata": {
        "colab": {
          "background_save": true
        },
        "id": "wsegbgCbrzy_"
      },
      "source": [
        "deeppavlov_ner = build_model(configs.ner.ner_bert_ent_and_type_rus, download=True)\n",
        "rus_document = \"Нью-Йорк, США, 30 апреля 2020, 01:01 — REGNUM В администрации президента США Дональда Трампа планируют пройти все этапы создания вакцины от коронавируса в ускоренном темпе и выпустить 100 млн доз до конца 2020 года, передаёт агентство Bloomberg со ссылкой на осведомлённые источники\"\n",
        "deeppavlov_ner([rus_document])"
      ],
      "execution_count": null,
      "outputs": []
    },
    {
      "cell_type": "code",
      "metadata": {
        "colab": {
          "background_save": true
        },
        "id": "XQ1phPKisJMz"
      },
      "source": [
        ""
      ],
      "execution_count": null,
      "outputs": []
    },
    {
      "cell_type": "markdown",
      "metadata": {
        "id": "lp1tBduD93Zm"
      },
      "source": [
        "## 2.3"
      ]
    },
    {
      "cell_type": "code",
      "metadata": {
        "id": "2B6t3GPb962g"
      },
      "source": [
        "import tensorflow as tf\n",
        "\n",
        "from tensorflow.keras import Sequential\n",
        "from tensorflow.keras.layers import Dense, Embedding, GlobalAveragePooling1D, GlobalMaxPooling1D, Conv1D, GRU, LSTM, Dropout, Input\n",
        "from tensorflow.keras.layers.experimental.preprocessing import TextVectorization\n",
        "from sklearn import model_selection, preprocessing, linear_model\n",
        "\n"
      ],
      "execution_count": 23,
      "outputs": []
    },
    {
      "cell_type": "code",
      "metadata": {
        "id": "YesTCIFa9-MD"
      },
      "source": [
        "train_x, valid_x, train_y, valid_y = model_selection.train_test_split(df_words['word'], df_words['tag'])\n",
        "\n",
        "# labelEncode целевую переменную\n",
        "encoder = preprocessing.LabelEncoder()\n",
        "train_y = encoder.fit_transform(train_y)\n",
        "valid_y = encoder.fit_transform(valid_y)"
      ],
      "execution_count": 24,
      "outputs": []
    },
    {
      "cell_type": "code",
      "metadata": {
        "colab": {
          "base_uri": "https://localhost:8080/"
        },
        "id": "e1Yv6vxr-CRM",
        "outputId": "69d79c07-df5d-4b7c-e077-5bc452c40239"
      },
      "source": [
        "train_x.apply(len).max(axis=0)"
      ],
      "execution_count": 25,
      "outputs": [
        {
          "output_type": "execute_result",
          "data": {
            "text/plain": [
              "55"
            ]
          },
          "metadata": {},
          "execution_count": 25
        }
      ]
    },
    {
      "cell_type": "code",
      "metadata": {
        "colab": {
          "base_uri": "https://localhost:8080/"
        },
        "id": "reYZwlVw-CN6",
        "outputId": "79f2d3c1-1462-473f-e108-01a090abb9d0"
      },
      "source": [
        "valid_x"
      ],
      "execution_count": 26,
      "outputs": [
        {
          "output_type": "execute_result",
          "data": {
            "text/plain": [
              "83853            власти\n",
              "41607           третьей\n",
              "89875                 <\n",
              "135481                в\n",
              "153019                \"\n",
              "              ...      \n",
              "156005    собственность\n",
              "77633          отставку\n",
              "240567         сегмента\n",
              "184701         Сердюков\n",
              "142202         Госстроя\n",
              "Name: word, Length: 66337, dtype: object"
            ]
          },
          "metadata": {},
          "execution_count": 26
        }
      ]
    },
    {
      "cell_type": "code",
      "metadata": {
        "id": "-WVdEpD--CKZ"
      },
      "source": [
        "train_data = tf.data.Dataset.from_tensor_slices((train_x, train_y))\n",
        "valid_data = tf.data.Dataset.from_tensor_slices((valid_x, valid_y))\n",
        "\n",
        "train_data = train_data.batch(16)\n",
        "valid_data = valid_data.batch(16)"
      ],
      "execution_count": 27,
      "outputs": []
    },
    {
      "cell_type": "code",
      "metadata": {
        "id": "N3M2uw6b-CHS"
      },
      "source": [
        "AUTOTUNE = tf.data.AUTOTUNE\n",
        "\n",
        "train_data = train_data.cache().prefetch(buffer_size=AUTOTUNE)\n",
        "valid_data = valid_data.cache().prefetch(buffer_size=AUTOTUNE)"
      ],
      "execution_count": 28,
      "outputs": []
    },
    {
      "cell_type": "code",
      "metadata": {
        "id": "w80-ZULX-CET"
      },
      "source": [
        "def custom_standardization(input_data):\n",
        "    return input_data\n",
        "\n",
        "vocab_size = 30000\n",
        "seq_len = 10\n",
        "\n",
        "vectorize_layer = TextVectorization(\n",
        "    standardize=custom_standardization,\n",
        "    max_tokens=vocab_size,\n",
        "    output_mode='int',\n",
        "    ngrams=(1, 3),\n",
        "    output_sequence_length=seq_len)\n",
        "\n",
        "# Make a text-only dataset (no labels) and call adapt to build the vocabulary.\n",
        "text_data = train_data.map(lambda x, y: x)\n",
        "vectorize_layer.adapt(text_data)"
      ],
      "execution_count": 37,
      "outputs": []
    },
    {
      "cell_type": "code",
      "metadata": {
        "colab": {
          "base_uri": "https://localhost:8080/"
        },
        "id": "0qeXfWhP-CBH",
        "outputId": "2f839719-81a0-4e19-be75-317b64be64eb"
      },
      "source": [
        "len(vectorize_layer.get_vocabulary())"
      ],
      "execution_count": 39,
      "outputs": [
        {
          "output_type": "execute_result",
          "data": {
            "text/plain": [
              "29913"
            ]
          },
          "metadata": {},
          "execution_count": 39
        }
      ]
    },
    {
      "cell_type": "code",
      "metadata": {
        "id": "lovvbq5E-B9U"
      },
      "source": [
        "embedding_dim = 64\n",
        "\n",
        "class modelNER(tf.keras.Model):\n",
        "    def __init__(self):\n",
        "        super(modelNER, self).__init__()\n",
        "        self.emb = Embedding(vocab_size, embedding_dim)\n",
        "        self.gPool = GlobalMaxPooling1D()\n",
        "        self.fc1 = Dense(300, activation='relu')\n",
        "        self.fc2 = Dense(50, activation='relu')\n",
        "        self.fc3 = Dense(6, activation='softmax')\n",
        "\n",
        "    def call(self, x):\n",
        "        x = vectorize_layer(x)\n",
        "        x = self.emb(x)\n",
        "        pool_x = self.gPool(x)\n",
        "        \n",
        "        fc_x = self.fc1(pool_x)\n",
        "        fc_x = self.fc2(fc_x)\n",
        "        \n",
        "        concat_x = tf.concat([pool_x, fc_x], axis=1)\n",
        "        prob = self.fc3(concat_x)\n",
        "        return prob"
      ],
      "execution_count": 40,
      "outputs": []
    },
    {
      "cell_type": "code",
      "metadata": {
        "id": "Ru4NkPwt-B55"
      },
      "source": [
        "mmodel = modelNER()"
      ],
      "execution_count": 41,
      "outputs": []
    },
    {
      "cell_type": "code",
      "metadata": {
        "id": "ACNPUrk5-B2d"
      },
      "source": [
        "mmodel.compile(optimizer='adam',\n",
        "              loss=tf.keras.losses.SparseCategoricalCrossentropy(),\n",
        "              metrics=['accuracy'])"
      ],
      "execution_count": 42,
      "outputs": []
    },
    {
      "cell_type": "code",
      "metadata": {
        "colab": {
          "base_uri": "https://localhost:8080/"
        },
        "id": "zCDr2Tv5-UAa",
        "outputId": "f50e705c-1f6c-4fe5-a446-473e815d50bf"
      },
      "source": [
        "mmodel.fit(train_data, validation_data=valid_data, epochs=3)"
      ],
      "execution_count": 43,
      "outputs": [
        {
          "output_type": "stream",
          "name": "stdout",
          "text": [
            "Epoch 1/3\n",
            "12439/12439 [==============================] - 246s 20ms/step - loss: 0.2979 - accuracy: 0.9130 - val_loss: 0.2077 - val_accuracy: 0.9398\n",
            "Epoch 2/3\n",
            "12439/12439 [==============================] - 240s 19ms/step - loss: 0.1281 - accuracy: 0.9616 - val_loss: 0.2154 - val_accuracy: 0.9429\n",
            "Epoch 3/3\n",
            "12439/12439 [==============================] - 237s 19ms/step - loss: 0.1108 - accuracy: 0.9648 - val_loss: 0.2674 - val_accuracy: 0.8885\n"
          ]
        },
        {
          "output_type": "execute_result",
          "data": {
            "text/plain": [
              "<keras.callbacks.History at 0x7f23654c5850>"
            ]
          },
          "metadata": {},
          "execution_count": 43
        }
      ]
    },
    {
      "cell_type": "code",
      "metadata": {
        "id": "dk9aaWIF-V-V"
      },
      "source": [
        "vectorize_layer = TextVectorization(\n",
        "    standardize=custom_standardization,\n",
        "    max_tokens=vocab_size,\n",
        "    output_mode='int',\n",
        "    ngrams=1,\n",
        "    output_sequence_length=seq_len)\n",
        "\n",
        "# Make a text-only dataset (no labels) and call adapt to build the vocabulary.\n",
        "text_data = train_data.map(lambda x, y: x)\n",
        "vectorize_layer.adapt(text_data)"
      ],
      "execution_count": 44,
      "outputs": []
    },
    {
      "cell_type": "code",
      "metadata": {
        "id": "eFA0gIFdE7Rx"
      },
      "source": [
        "mmodel = modelNER()"
      ],
      "execution_count": 45,
      "outputs": []
    },
    {
      "cell_type": "code",
      "metadata": {
        "id": "FHDID-dOE8-a"
      },
      "source": [
        "mmodel.compile(optimizer='adam',\n",
        "              loss=tf.keras.losses.SparseCategoricalCrossentropy(),\n",
        "              metrics=['accuracy'])"
      ],
      "execution_count": 46,
      "outputs": []
    },
    {
      "cell_type": "code",
      "metadata": {
        "colab": {
          "base_uri": "https://localhost:8080/"
        },
        "id": "7EoLSRvzE-ke",
        "outputId": "3d62981b-a6ec-4d10-d51d-934c8696f72e"
      },
      "source": [
        "mmodel.fit(train_data, validation_data=valid_data, epochs=3)"
      ],
      "execution_count": 47,
      "outputs": [
        {
          "output_type": "stream",
          "name": "stdout",
          "text": [
            "Epoch 1/3\n",
            "12439/12439 [==============================] - 243s 19ms/step - loss: 0.2965 - accuracy: 0.9132 - val_loss: 0.2077 - val_accuracy: 0.9405\n",
            "Epoch 2/3\n",
            "12439/12439 [==============================] - 237s 19ms/step - loss: 0.1268 - accuracy: 0.9620 - val_loss: 0.3428 - val_accuracy: 0.8957\n",
            "Epoch 3/3\n",
            "12439/12439 [==============================] - 238s 19ms/step - loss: 0.1108 - accuracy: 0.9651 - val_loss: 0.2365 - val_accuracy: 0.8966\n"
          ]
        },
        {
          "output_type": "execute_result",
          "data": {
            "text/plain": [
              "<keras.callbacks.History at 0x7f23653ab3d0>"
            ]
          },
          "metadata": {},
          "execution_count": 47
        }
      ]
    },
    {
      "cell_type": "code",
      "metadata": {
        "id": "nQ68M5G2FFZe"
      },
      "source": [
        ""
      ],
      "execution_count": null,
      "outputs": []
    }
  ]
}