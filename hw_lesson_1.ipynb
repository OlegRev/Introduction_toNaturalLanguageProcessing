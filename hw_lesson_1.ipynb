{
 "cells": [
  {
   "cell_type": "markdown",
   "id": "8c5714a0",
   "metadata": {},
   "source": [
    "# Тема “Предобработка текста с помощью Python”\n",
    " \n",
    "## Осуществим предобработку данных с Твиттера, чтобы очищенные данные в дальнейшем использовать для задачи классификации. Данный датасет содержит негативные (label = 1) и нейтральные (label = 0) высказывания. Для работы объединим train_df и test_df.\n",
    "\n"
   ]
  },
  {
   "cell_type": "markdown",
   "id": "4feab413",
   "metadata": {},
   "source": [
    "Задания:\n",
    "<ol>\n",
    "    \n",
    "<li><a href=\"#task_1\">Удалим @user из всех твитов с помощью паттерна \"@[\\w]*\". Для этого создадим функцию:\n",
    "для того, чтобы найти все вхождения паттерна в тексте, необходимо использовать re.findall(pattern, input_txt)\n",
    "    для для замены @user на пробел, необходимо использовать re.sub()</a>\n",
    "<li><a href = \"#task_2\">Изменим регистр твитов на нижний с помощью .lower().</a>\n",
    "<li><a href = \"#task_3\">Заменим сокращения с апострофами (пример: ain't, can't) на пробел, используя apostrophe_dict. Для этого необходимо сделать функцию: для каждого слова в тексте проверить (for word in text.split()), если слово есть в словаре apostrophe_dict в качестве ключа (сокращенного слова), то заменить ключ на значение (полную версию слова).</a>\n",
    "<li><a href = \"#task_4\">Заменим сокращения на их полные формы, используя short_word_dict. Для этого воспользуемся функцией, используемой в предыдущем пункте.</a>\n",
    "<li><a href = \"#task_5\">Заменим эмотиконы (пример: \":)\" = \"happy\") на пробелы, используя emoticon_dict. Для этого воспользуемся функцией, используемой в предыдущем пункте.</a>\n",
    "<li><a href = \"#task_6\">Заменим пунктуацию на пробелы, используя re.sub() и паттерн r'[^\\w\\s]'.</a>\n",
    "<li><a href = \"#task_7\">Заменим спец. символы на пробелы, используя re.sub() и паттерн r'[^a-zA-Z0-9]'.</a>\n",
    "<li><a href = \"#task_8\">Заменим числа на пробелы, используя re.sub() и паттерн r'[^a-zA-Z]'.</a>\n",
    "<li><a href = \"#task_9\">Удалим из текста слова длиной в 1 символ, используя ' '.join([w for w in x.split() if len(w)>1]).</a>\n",
    "<li><a href = \"#task_10\">Поделим твиты на токены с помощью nltk.tokenize.word_tokenize, создав новый столбец 'tweet_token'.</a>\n",
    "<li><a href = \"#task_11\">Удалим стоп-слова из токенов, используя nltk.corpus.stopwords. Создадим столбец 'tweet_token_filtered' без стоп-слов.</a>\n",
    "<li><a href = \"#task_12\">Применим стемминг к токенам с помощью nltk.stem.PorterStemmer. Создадим столбец 'tweet_stemmed' после применения стемминга.</a>\n",
    "<li><a href = \"#task_13\">Применим лемматизацию к токенам с помощью nltk.stem.wordnet.WordNetLemmatizer. Создадим столбец 'tweet_lemmatized' после применения лемматизации.</a>\n",
    "<li><a href = \"#task_14\">Сохраним результат предобработки в pickle-файл.</a>\n",
    "</ol>"
   ]
  },
  {
   "cell_type": "markdown",
   "id": "e42c9156",
   "metadata": {},
   "source": [
    "### Словари для замены:"
   ]
  },
  {
   "cell_type": "markdown",
   "id": "6e934c52",
   "metadata": {},
   "source": [
    "#### apostrophe_dict "
   ]
  },
  {
   "cell_type": "code",
   "execution_count": 1,
   "id": "dc8d763c",
   "metadata": {},
   "outputs": [],
   "source": [
    "apostrophe_dict = {\r\n",
    "\"ain't\": \"am not / are not\",\r\n",
    "\"aren't\": \"are not / am not\",\r\n",
    "\"can't\": \"cannot\",\r\n",
    "\"can't've\": \"cannot have\",\r\n",
    "\"'cause\": \"because\",\r\n",
    "\"could've\": \"could have\",\r\n",
    "\"couldn't\": \"could not\",\r\n",
    "\"couldn't've\": \"could not have\",\r\n",
    "\"didn't\": \"did not\",\r\n",
    "\"doesn't\": \"does not\",\r\n",
    "\"don't\": \"do not\",\r\n",
    "\"hadn't\": \"had not\",\r\n",
    "\"hadn't've\": \"had not have\",\r\n",
    "\"hasn't\": \"has not\",\r\n",
    "\"haven't\": \"have not\",\r\n",
    "\"he'd\": \"he had / he would\",\r\n",
    "\"he'd've\": \"he would have\",\r\n",
    "\"he'll\": \"he shall / he will\",\r\n",
    "\"he'll've\": \"he shall have / he will have\",\r\n",
    "\"he's\": \"he has / he is\",\r\n",
    "\"how'd\": \"how did\",\r\n",
    "\"how'd'y\": \"how do you\",\r\n",
    "\"how'll\": \"how will\",\r\n",
    "\"how's\": \"how has / how is\",\r\n",
    "\"i'd\": \"I had / I would\",\r\n",
    "\"i'd've\": \"I would have\",\r\n",
    "\"i'll\": \"I shall / I will\",\r\n",
    "\"i'll've\": \"I shall have / I will have\",\r\n",
    "\"i'm\": \"I am\",\r\n",
    "\"i've\": \"I have\",\r\n",
    "\"isn't\": \"is not\",\r\n",
    "\"it'd\": \"it had / it would\",\r\n",
    "\"it'd've\": \"it would have\",\r\n",
    "\"it'll\": \"it shall / it will\",\r\n",
    "\"it'll've\": \"it shall have / it will have\",\r\n",
    "\"it's\": \"it has / it is\",\r\n",
    "\"let's\": \"let us\",\r\n",
    "\"ma'am\": \"madam\",\r\n",
    "\"mayn't\": \"may not\",\r\n",
    "\"might've\": \"might have\",\r\n",
    "\"mightn't\": \"might not\",\r\n",
    "\"mightn't've\": \"might not have\",\r\n",
    "\"must've\": \"must have\",\r\n",
    "\"mustn't\": \"must not\",\r\n",
    "\"mustn't've\": \"must not have\",\r\n",
    "\"needn't\": \"need not\",\r\n",
    "\"needn't've\": \"need not have\",\r\n",
    "\"o'clock\": \"of the clock\",\r\n",
    "\"oughtn't\": \"ought not\",\r\n",
    "\"oughtn't've\": \"ought not have\",\r\n",
    "\"shan't\": \"shall not\",\r\n",
    "\"sha'n't\": \"shall not\",\r\n",
    "\"shan't've\": \"shall not have\",\r\n",
    "\"she'd\": \"she had / she would\",\r\n",
    "\"she'd've\": \"she would have\",\r\n",
    "\"she'll\": \"she shall / she will\",\r\n",
    "\"she'll've\": \"she shall have / she will have\",\r\n",
    "\"she's\": \"she has / she is\",\r\n",
    "\"should've\": \"should have\",\r\n",
    "\"shouldn't\": \"should not\",\r\n",
    "\"shouldn't've\": \"should not have\",\r\n",
    "\"so've\": \"so have\",\r\n",
    "\"so's\": \"so as / so is\",\r\n",
    "\"that'd\": \"that would / that had\",\r\n",
    "\"that'd've\": \"that would have\",\r\n",
    "\"that's\": \"that has / that is\",\r\n",
    "\"there'd\": \"there had / there would\",\r\n",
    "\"there'd've\": \"there would have\",\r\n",
    "\"there's\": \"there has / there is\",\r\n",
    "\"they'd\": \"they had / they would\",\r\n",
    "\"they'd've\": \"they would have\",\r\n",
    "\"they'll\": \"they shall / they will\",\r\n",
    "\"they'll've\": \"they shall have / they will have\",\r\n",
    "\"they're\": \"they are\",\r\n",
    "\"they've\": \"they have\",\r\n",
    "\"to've\": \"to have\",\r\n",
    "\"wasn't\": \"was not\",\r\n",
    "\"we'd\": \"we had / we would\",\r\n",
    "\"we'd've\": \"we would have\",\r\n",
    "\"we'll\": \"we will\",\r\n",
    "\"we'll've\": \"we will have\",\r\n",
    "\"we're\": \"we are\",\r\n",
    "\"we've\": \"we have\",\r\n",
    "\"weren't\": \"were not\",\r\n",
    "\"what'll\": \"what shall / what will\",\r\n",
    "\"what'll've\": \"what shall have / what will have\",\r\n",
    "\"what're\": \"what are\",\r\n",
    "\"what's\": \"what has / what is\",\r\n",
    "\"what've\": \"what have\",\r\n",
    "\"when's\": \"when has / when is\",\r\n",
    "\"when've\": \"when have\",\r\n",
    "\"where'd\": \"where did\",\r\n",
    "\"where's\": \"where has / where is\",\r\n",
    "\"where've\": \"where have\",\r\n",
    "\"who'll\": \"who shall / who will\",\r\n",
    "\"who'll've\": \"who shall have / who will have\",\r\n",
    "\"who's\": \"who has / who is\",\r\n",
    "\"who've\": \"who have\",\r\n",
    "\"why's\": \"why has / why is\",\r\n",
    "\"why've\": \"why have\",\r\n",
    "\"will've\": \"will have\",\r\n",
    "\"won't\": \"will not\",\r\n",
    "\"won't've\": \"will not have\",\r\n",
    "\"would've\": \"would have\",\r\n",
    "\"wouldn't\": \"would not\",\r\n",
    "\"wouldn't've\": \"would not have\",\r\n",
    "\"y'all\": \"you all\",\r\n",
    "\"y'all'd\": \"you all would\",\r\n",
    "\"y'all'd've\": \"you all would have\",\r\n",
    "\"y'all're\": \"you all are\",\r\n",
    "\"y'all've\": \"you all have\",\r\n",
    "\"you'd\": \"you had / you would\",\r\n",
    "\"you'd've\": \"you would have\",\r\n",
    "\"you'll\": \"you shall / you will\",\r\n",
    "\"you'll've\": \"you shall have / you will have\",\r\n",
    "\"you're\": \"you are\",\r\n",
    "\"you've\": \"you have\"\r\n",
    "}\r\n"
   ]
  },
  {
   "cell_type": "markdown",
   "id": "9cb9e2a8",
   "metadata": {},
   "source": [
    "#### short_word_dict"
   ]
  },
  {
   "cell_type": "code",
   "execution_count": 2,
   "id": "2c76416f",
   "metadata": {},
   "outputs": [],
   "source": [
    "short_word_dict = {\r\n",
    "\"121\": \"one to one\",\r\n",
    "\"a/s/l\": \"age, sex, location\",\r\n",
    "\"adn\": \"any day now\",\r\n",
    "\"afaik\": \"as far as I know\",\r\n",
    "\"afk\": \"away from keyboard\",\r\n",
    "\"aight\": \"alright\",\r\n",
    "\"alol\": \"actually laughing out loud\",\r\n",
    "\"b4\": \"before\",\r\n",
    "\"b4n\": \"bye for now\",\r\n",
    "\"bak\": \"back at the keyboard\",\r\n",
    "\"bf\": \"boyfriend\",\r\n",
    "\"bff\": \"best friends forever\",\r\n",
    "\"bfn\": \"bye for now\",\r\n",
    "\"bg\": \"big grin\",\r\n",
    "\"bta\": \"but then again\",\r\n",
    "\"btw\": \"by the way\",\r\n",
    "\"cid\": \"crying in disgrace\",\r\n",
    "\"cnp\": \"continued in my next post\",\r\n",
    "\"cp\": \"chat post\",\r\n",
    "\"cu\": \"see you\",\r\n",
    "\"cul\": \"see you later\",\r\n",
    "\"cul8r\": \"see you later\",\r\n",
    "\"cya\": \"bye\",\r\n",
    "\"cyo\": \"see you online\",\r\n",
    "\"dbau\": \"doing business as usual\",\r\n",
    "\"fud\": \"fear, uncertainty, and doubt\",\r\n",
    "\"fwiw\": \"for what it's worth\",\r\n",
    "\"fyi\": \"for your information\",\r\n",
    "\"g\": \"grin\",\r\n",
    "\"g2g\": \"got to go\",\r\n",
    "\"ga\": \"go ahead\",\r\n",
    "\"gal\": \"get a life\",\r\n",
    "\"gf\": \"girlfriend\",\r\n",
    "\"gfn\": \"gone for now\",\r\n",
    "\"gmbo\": \"giggling my butt off\",\r\n",
    "\"gmta\": \"great minds think alike\",\r\n",
    "\"h8\": \"hate\",\r\n",
    "\"hagn\": \"have a good night\",\r\n",
    "\"hdop\": \"help delete online predators\",\r\n",
    "\"hhis\": \"hanging head in shame\",\r\n",
    "\"iac\": \"in any case\",\r\n",
    "\"ianal\": \"I am not a lawyer\",\r\n",
    "\"ic\": \"I see\",\r\n",
    "\"idk\": \"I don't know\",\r\n",
    "\"imao\": \"in my arrogant opinion\",\r\n",
    "\"imnsho\": \"in my not so humble opinion\",\r\n",
    "\"imo\": \"in my opinion\",\r\n",
    "\"iow\": \"in other words\",\r\n",
    "\"ipn\": \"I’m posting naked\",\r\n",
    "\"irl\": \"in real life\",\r\n",
    "\"jk\": \"just kidding\",\r\n",
    "\"l8r\": \"later\",\r\n",
    "\"ld\": \"later, dude\",\r\n",
    "\"ldr\": \"long distance relationship\",\r\n",
    "\"llta\": \"lots and lots of thunderous applause\",\r\n",
    "\"lmao\": \"laugh my ass off\",\r\n",
    "\"lmirl\": \"let's meet in real life\",\r\n",
    "\"lol\": \"laugh out loud\",\r\n",
    "\"ltr\": \"longterm relationship\",\r\n",
    "\"lulab\": \"love you like a brother\",\r\n",
    "\"lulas\": \"love you like a sister\",\r\n",
    "\"luv\": \"love\",\r\n",
    "\"m/f\": \"male or female\",\r\n",
    "\"m8\": \"mate\",\r\n",
    "\"milf\": \"mother I would like to fuck\",\r\n",
    "\"oll\": \"online love\",\r\n",
    "\"omg\": \"oh my god\",\r\n",
    "\"otoh\": \"on the other hand\",\r\n",
    "\"pir\": \"parent in room\",\r\n",
    "\"ppl\": \"people\",\r\n",
    "\"r\": \"are\",\r\n",
    "\"rofl\": \"roll on the floor laughing\",\r\n",
    "\"rpg\": \"role playing games\",\r\n",
    "\"ru\": \"are you\",\r\n",
    "\"shid\": \"slaps head in disgust\",\r\n",
    "\"somy\": \"sick of me yet\",\r\n",
    "\"sot\": \"short of time\",\r\n",
    "\"thanx\": \"thanks\",\r\n",
    "\"thx\": \"thanks\",\r\n",
    "\"ttyl\": \"talk to you later\",\r\n",
    "\"u\": \"you\",\r\n",
    "\"ur\": \"you are\",\r\n",
    "\"uw\": \"you’re welcome\",\r\n",
    "\"wb\": \"welcome back\",\r\n",
    "\"wfm\": \"works for me\",\r\n",
    "\"wibni\": \"wouldn't it be nice if\",\r\n",
    "\"wtf\": \"what the fuck\",\r\n",
    "\"wtg\": \"way to go\",\r\n",
    "\"wtgp\": \"want to go private\",\r\n",
    "\"ym\": \"young man\",\r\n",
    "\"gr8\": \"great\"\r\n",
    "}\r\n"
   ]
  },
  {
   "cell_type": "markdown",
   "id": "e8f84b1d",
   "metadata": {},
   "source": [
    "#### emoticon_dict"
   ]
  },
  {
   "cell_type": "code",
   "execution_count": 3,
   "id": "8df65363",
   "metadata": {},
   "outputs": [],
   "source": [
    "emoticon_dict = {\r\n",
    "\":)\": \"happy\",\r\n",
    "\":‑)\": \"happy\",\r\n",
    "\":-]\": \"happy\",\r\n",
    "\":-3\": \"happy\",\r\n",
    "\":->\": \"happy\",\r\n",
    "\"8-)\": \"happy\",\r\n",
    "\":-}\": \"happy\",\r\n",
    "\":o)\": \"happy\",\r\n",
    "\":c)\": \"happy\",\r\n",
    "\":^)\": \"happy\",\r\n",
    "\"=]\": \"happy\",\r\n",
    "\"=)\": \"happy\",\r\n",
    "\"<3\": \"happy\",\r\n",
    "\":-(\": \"sad\",\r\n",
    "\":(\": \"sad\",\r\n",
    "\":c\": \"sad\",\r\n",
    "\":<\": \"sad\",\r\n",
    "\":[\": \"sad\",\r\n",
    "\">:[\": \"sad\",\r\n",
    "\":{\": \"sad\",\r\n",
    "\">:(\": \"sad\",\r\n",
    "\":-c\": \"sad\",\r\n",
    "\":-< \": \"sad\",\r\n",
    "\":-[\": \"sad\",\r\n",
    "\":-||\": \"sad\"\r\n",
    "}"
   ]
  },
  {
   "cell_type": "markdown",
   "id": "4c4e3e99",
   "metadata": {},
   "source": [
    "### Импорт библиотек"
   ]
  },
  {
   "cell_type": "code",
   "execution_count": 4,
   "id": "44f1a039",
   "metadata": {},
   "outputs": [],
   "source": [
    "import pandas as pd\n",
    "import numpy as np\n",
    "import re\n",
    "import matplotlib.pyplot as plt\n",
    "import seaborn as sns\n",
    "import nltk\n",
    "import warnings\n",
    "import pickle\n",
    "warnings.filterwarnings(\"ignore\", category=DeprecationWarning)\n",
    "import os"
   ]
  },
  {
   "cell_type": "markdown",
   "id": "5d91421e",
   "metadata": {},
   "source": [
    "### Функции для предобработки"
   ]
  },
  {
   "cell_type": "markdown",
   "id": "7ca84673-5db9-441c-98e9-55090912cd7f",
   "metadata": {},
   "source": [
    "#### _key_in_tweet & chec_all_dict_keys"
   ]
  },
  {
   "cell_type": "code",
   "execution_count": 5,
   "id": "7cf47166-9690-4efc-8bd9-8aee35ad7d80",
   "metadata": {},
   "outputs": [],
   "source": [
    "def _key_in_tweet(key: str, df: pd.DataFrame)->pd.DataFrame:\n",
    "    \"\"\"Функция возвращения датафрейма с колонками:['idx', 'tweet', 'key']\n",
    "    \n",
    "    Args:\n",
    "        key (str): [description]\n",
    "        df (pd.Dataframe): [corpus]\n",
    "\n",
    "    Returns:\n",
    "        pd.Dataframe: [columns: idx: int, tweet: str, key: str]\n",
    "    \"\"\"\n",
    "    tweet_dict={'idx':[], 'tweet': [], 'key': []}\n",
    "    for i in range(len(df['tweet'])):\n",
    "        if key in df['tweet'][i]:\n",
    "            tweet_dict['idx'].append(int(i))\n",
    "            tweet_dict['tweet'].append(df['tweet'][i])\n",
    "            tweet_dict['key'].append(key)\n",
    "    return pd.DataFrame(tweet_dict) \n",
    "            \n",
    "    \n",
    "def chec_all_dict_keys(dict_keys: dict, df: pd.DataFrame)->pd.DataFrame:\n",
    "    \"\"\"[Функция конкатенации датафреймов которые возвращает функция: _key_in_tweet]\n",
    "\n",
    "    Args:\n",
    "        dict_keys (dict): [Словарь со значениями ключ(вхождение в твит)\n",
    "                           значение(замена вхождения ключа в твите)]\n",
    "        df (pd.DataFrame): [corpus]\n",
    "\n",
    "    Returns:\n",
    "        pd.Dataframe: [columns: idx: int, tweet: str, key: str]\n",
    "    \"\"\"\n",
    "    for key in dict_keys.keys():\n",
    "        if key==list(dict_keys.keys())[0]:\n",
    "            # print('*', sep='|')\n",
    "            res_df =_key_in_tweet(key, df)\n",
    "        else:\n",
    "            # print('*', sep='|')\n",
    "            res_df= pd.concat([res_df, _key_in_tweet(key, df)])   \n",
    "    return res_df"
   ]
  },
  {
   "cell_type": "markdown",
   "id": "8b885421-d96e-4bd8-935f-e4921eee7abc",
   "metadata": {},
   "source": [
    "#### _deluser"
   ]
  },
  {
   "cell_type": "code",
   "execution_count": 6,
   "id": "34c58844-6dc8-487a-b2fe-4e400ba791ec",
   "metadata": {},
   "outputs": [],
   "source": [
    "@np.vectorize\n",
    "def _deluser(tweet: str)->str:\n",
    "    \"\"\"Функция(вектаризованная декоратором np.vectorize) удаление занчений @user из твитов по шаблону регулярного выражения:\n",
    "    r'@[\\w]*' \n",
    "\n",
    "    Args:\n",
    "        tweet (str): [Документ корпуса]\n",
    "\n",
    "    Returns:\n",
    "        str: [документ с удаленными значениями]\n",
    "    \"\"\"\n",
    "    tweet = re.sub(r\"@[\\w]*\", '', tweet)\n",
    "    return tweet\n",
    "        "
   ]
  },
  {
   "cell_type": "markdown",
   "id": "d02479a0-d9ca-43e1-a7aa-1e0a494e1193",
   "metadata": {},
   "source": [
    "#### _del_by_dict_sub"
   ]
  },
  {
   "cell_type": "code",
   "execution_count": 7,
   "id": "55b5160e-408e-4e7f-a229-21b8c578bcee",
   "metadata": {},
   "outputs": [],
   "source": [
    "@np.vectorize\n",
    "def _del_by_dict_sub(tweet: str, dict_sub: dict, flag_r: bool=True)->str:\n",
    "    \"\"\"[Функция(вектаризованная декоратором np.vectorize)\n",
    "        замены входящих в твит слов(ключей)\n",
    "        по словарю со значениями ключ: значение]\n",
    "\n",
    "    Args:\n",
    "        tweet (str): [Твит(текст)]\n",
    "        dict_sub (dict): [Словарь со значениями ключ(что заменять): значение(на что заменять)]\n",
    "        flag_r (bool, optional): [description]. Defaults to True.\n",
    "    \n",
    "    Returns:\n",
    "        str: [возвращение текста с замещением ключа, значением из словаря {ключ: значение}]\n",
    "    \"\"\"\n",
    "    for word in tweet.split():\n",
    "        if word in dict_sub.keys():\n",
    "            if flag_r:\n",
    "                # tweet = re.sub(r\"\\b\"+word+r\"{1,}\\b\", dict_sub[word], tweet)\n",
    "                tweet = re.sub(r\"\\b\"+re.escape(word)+r\"{1,}\\b\", dict_sub[word], tweet)\n",
    "            else:\n",
    "                tweet = re.sub(re.escape(word)+r\"{1,}\", dict_sub[word], tweet)\n",
    "    return tweet\n"
   ]
  },
  {
   "cell_type": "markdown",
   "id": "7210ee47-f7a7-45fb-b907-a50f25524113",
   "metadata": {},
   "source": [
    "#### _del_stopwords"
   ]
  },
  {
   "cell_type": "code",
   "execution_count": 8,
   "id": "df0c3e38-915b-4590-99dc-6477a0688d2e",
   "metadata": {},
   "outputs": [],
   "source": [
    "def _del_stopwords(tweet_token: list,\n",
    "                   stop_words: nltk.corpus.stopwords.words = nltk.corpus.stopwords.words('english')) -> list:\n",
    "    \"\"\"[Функция удаления стоп слов из списка токенов твита]\n",
    "\n",
    "    Parameters\n",
    "    ----------\n",
    "    tweet_token : list\n",
    "        [список токенов ]\n",
    "    stop_words : nltk.corpus.stopwords.words, optional\n",
    "        [список стоп слов], by default nltk.corpus.stopwords.words('english')\n",
    "\n",
    "    Returns\n",
    "    -------\n",
    "    list\n",
    "        [очищенный от стоп слов список токенов]\n",
    "    \"\"\"\n",
    "    return [word for word in tweet_token if word not in stop_words]\n"
   ]
  },
  {
   "cell_type": "markdown",
   "id": "aefea21a-6d1a-4762-9c3a-b090c9b1395a",
   "metadata": {},
   "source": [
    "#### _tweet_stemmer"
   ]
  },
  {
   "cell_type": "code",
   "execution_count": 9,
   "id": "f84e6f75-3b2b-4285-9beb-8404211b6f91",
   "metadata": {},
   "outputs": [],
   "source": [
    "def _tweet_stemmer(tweet_token: list,\n",
    "                  stemmer: nltk.stem.PorterStemmer = nltk.stem.PorterStemmer()) -> list:\n",
    "    \"\"\"[Функция получения списка токенов после стемминга]\n",
    "\n",
    "    Parameters\n",
    "    ----------\n",
    "    tweet_token : list\n",
    "        [список токенов ]\n",
    "    stemmer : nltk.stem.PorterStemmer, optional\n",
    "        [функция стемминга], by default nltk.stem.PorterStemmer()\n",
    "\n",
    "    Returns\n",
    "    -------\n",
    "    list\n",
    "        [список токенов после стемминга]\n",
    "    \"\"\"\n",
    "    return [stemmer.stem(word) for word in tweet_token]\n"
   ]
  },
  {
   "cell_type": "markdown",
   "id": "46460a6c-ea5f-42c5-904b-70f228468384",
   "metadata": {},
   "source": [
    "#### _tweet_lemmatizer"
   ]
  },
  {
   "cell_type": "code",
   "execution_count": 10,
   "id": "2d7e9c66",
   "metadata": {},
   "outputs": [],
   "source": [
    "def _tweet_lemmatizer(tweet_token: list,\n",
    "                     lemmatizer: nltk.stem.wordnet.WordNetLemmatizer = nltk.stem.wordnet.WordNetLemmatizer()) -> list:\n",
    "    \"\"\"[Функция получения списка токенов после лемматизации]\n",
    "\n",
    "    Parameters\n",
    "    ----------\n",
    "    tweet_token : list\n",
    "        [список токенов]\n",
    "    lemmatizer : nltk.stem.wordnet.WordNetLemmatizer, optional\n",
    "        [функция лемматизации], by default nltk.stem.wordnet.WordNetLemmatizer()\n",
    "\n",
    "    Returns\n",
    "    -------\n",
    "    list\n",
    "        [список токенов после лемматизации]\n",
    "    \"\"\"\n",
    "    return [lemmatizer.lemmatize(word) for word in tweet_token]\n"
   ]
  },
  {
   "cell_type": "markdown",
   "id": "250049e2",
   "metadata": {},
   "source": [
    "### Загрузка данных"
   ]
  },
  {
   "cell_type": "code",
   "execution_count": 11,
   "id": "3c39a34b",
   "metadata": {},
   "outputs": [
    {
     "name": "stdout",
     "output_type": "stream",
     "text": [
      "<class 'pandas.core.frame.DataFrame'>\n",
      "RangeIndex: 31962 entries, 0 to 31961\n",
      "Data columns (total 3 columns):\n",
      " #   Column  Non-Null Count  Dtype \n",
      "---  ------  --------------  ----- \n",
      " 0   id      31962 non-null  int64 \n",
      " 1   label   31962 non-null  int64 \n",
      " 2   tweet   31962 non-null  object\n",
      "dtypes: int64(2), object(1)\n",
      "memory usage: 749.2+ KB\n",
      "None\n"
     ]
    },
    {
     "data": {
      "text/html": [
       "<div>\n",
       "<style scoped>\n",
       "    .dataframe tbody tr th:only-of-type {\n",
       "        vertical-align: middle;\n",
       "    }\n",
       "\n",
       "    .dataframe tbody tr th {\n",
       "        vertical-align: top;\n",
       "    }\n",
       "\n",
       "    .dataframe thead th {\n",
       "        text-align: right;\n",
       "    }\n",
       "</style>\n",
       "<table border=\"1\" class=\"dataframe\">\n",
       "  <thead>\n",
       "    <tr style=\"text-align: right;\">\n",
       "      <th></th>\n",
       "      <th>id</th>\n",
       "      <th>label</th>\n",
       "      <th>tweet</th>\n",
       "    </tr>\n",
       "  </thead>\n",
       "  <tbody>\n",
       "    <tr>\n",
       "      <th>0</th>\n",
       "      <td>1</td>\n",
       "      <td>0</td>\n",
       "      <td>@user when a father is dysfunctional and is s...</td>\n",
       "    </tr>\n",
       "    <tr>\n",
       "      <th>1</th>\n",
       "      <td>2</td>\n",
       "      <td>0</td>\n",
       "      <td>@user @user thanks for #lyft credit i can't us...</td>\n",
       "    </tr>\n",
       "    <tr>\n",
       "      <th>2</th>\n",
       "      <td>3</td>\n",
       "      <td>0</td>\n",
       "      <td>bihday your majesty</td>\n",
       "    </tr>\n",
       "    <tr>\n",
       "      <th>3</th>\n",
       "      <td>4</td>\n",
       "      <td>0</td>\n",
       "      <td>#model   i love u take with u all the time in ...</td>\n",
       "    </tr>\n",
       "    <tr>\n",
       "      <th>4</th>\n",
       "      <td>5</td>\n",
       "      <td>0</td>\n",
       "      <td>factsguide: society now    #motivation</td>\n",
       "    </tr>\n",
       "  </tbody>\n",
       "</table>\n",
       "</div>"
      ],
      "text/plain": [
       "   id  label                                              tweet\n",
       "0   1      0   @user when a father is dysfunctional and is s...\n",
       "1   2      0  @user @user thanks for #lyft credit i can't us...\n",
       "2   3      0                                bihday your majesty\n",
       "3   4      0  #model   i love u take with u all the time in ...\n",
       "4   5      0             factsguide: society now    #motivation"
      ]
     },
     "execution_count": 11,
     "metadata": {},
     "output_type": "execute_result"
    }
   ],
   "source": [
    "train_df = pd.read_csv('train_tweets.csv')\n",
    "print(train_df.info())\r\n",
    "train_df.head()"
   ]
  },
  {
   "cell_type": "code",
   "execution_count": 12,
   "id": "2abbadee",
   "metadata": {},
   "outputs": [
    {
     "name": "stdout",
     "output_type": "stream",
     "text": [
      "<class 'pandas.core.frame.DataFrame'>\n",
      "RangeIndex: 17197 entries, 0 to 17196\n",
      "Data columns (total 2 columns):\n",
      " #   Column  Non-Null Count  Dtype \n",
      "---  ------  --------------  ----- \n",
      " 0   id      17197 non-null  int64 \n",
      " 1   tweet   17197 non-null  object\n",
      "dtypes: int64(1), object(1)\n",
      "memory usage: 268.8+ KB\n",
      "None\n"
     ]
    },
    {
     "data": {
      "text/html": [
       "<div>\n",
       "<style scoped>\n",
       "    .dataframe tbody tr th:only-of-type {\n",
       "        vertical-align: middle;\n",
       "    }\n",
       "\n",
       "    .dataframe tbody tr th {\n",
       "        vertical-align: top;\n",
       "    }\n",
       "\n",
       "    .dataframe thead th {\n",
       "        text-align: right;\n",
       "    }\n",
       "</style>\n",
       "<table border=\"1\" class=\"dataframe\">\n",
       "  <thead>\n",
       "    <tr style=\"text-align: right;\">\n",
       "      <th></th>\n",
       "      <th>id</th>\n",
       "      <th>tweet</th>\n",
       "    </tr>\n",
       "  </thead>\n",
       "  <tbody>\n",
       "    <tr>\n",
       "      <th>0</th>\n",
       "      <td>31963</td>\n",
       "      <td>#studiolife #aislife #requires #passion #dedic...</td>\n",
       "    </tr>\n",
       "    <tr>\n",
       "      <th>1</th>\n",
       "      <td>31964</td>\n",
       "      <td>@user #white #supremacists want everyone to s...</td>\n",
       "    </tr>\n",
       "    <tr>\n",
       "      <th>2</th>\n",
       "      <td>31965</td>\n",
       "      <td>safe ways to heal your #acne!!    #altwaystohe...</td>\n",
       "    </tr>\n",
       "    <tr>\n",
       "      <th>3</th>\n",
       "      <td>31966</td>\n",
       "      <td>is the hp and the cursed child book up for res...</td>\n",
       "    </tr>\n",
       "    <tr>\n",
       "      <th>4</th>\n",
       "      <td>31967</td>\n",
       "      <td>3rd #bihday to my amazing, hilarious #nephew...</td>\n",
       "    </tr>\n",
       "  </tbody>\n",
       "</table>\n",
       "</div>"
      ],
      "text/plain": [
       "      id                                              tweet\n",
       "0  31963  #studiolife #aislife #requires #passion #dedic...\n",
       "1  31964   @user #white #supremacists want everyone to s...\n",
       "2  31965  safe ways to heal your #acne!!    #altwaystohe...\n",
       "3  31966  is the hp and the cursed child book up for res...\n",
       "4  31967    3rd #bihday to my amazing, hilarious #nephew..."
      ]
     },
     "execution_count": 12,
     "metadata": {},
     "output_type": "execute_result"
    }
   ],
   "source": [
    "test_df = pd.read_csv('test_tweets.csv')\n",
    "print(test_df.info())\r\n",
    "test_df.head()"
   ]
  },
  {
   "cell_type": "markdown",
   "id": "648326be",
   "metadata": {},
   "source": [
    "### Объединение данных для предобработки"
   ]
  },
  {
   "cell_type": "code",
   "execution_count": 13,
   "id": "1f6e5e32",
   "metadata": {},
   "outputs": [
    {
     "name": "stdout",
     "output_type": "stream",
     "text": [
      "<class 'pandas.core.frame.DataFrame'>\n",
      "RangeIndex: 49159 entries, 0 to 49158\n",
      "Data columns (total 3 columns):\n",
      " #   Column  Non-Null Count  Dtype  \n",
      "---  ------  --------------  -----  \n",
      " 0   id      49159 non-null  int64  \n",
      " 1   label   31962 non-null  float64\n",
      " 2   tweet   49159 non-null  object \n",
      "dtypes: float64(1), int64(1), object(1)\n",
      "memory usage: 1.1+ MB\n",
      "None\n"
     ]
    },
    {
     "data": {
      "text/html": [
       "<div>\n",
       "<style scoped>\n",
       "    .dataframe tbody tr th:only-of-type {\n",
       "        vertical-align: middle;\n",
       "    }\n",
       "\n",
       "    .dataframe tbody tr th {\n",
       "        vertical-align: top;\n",
       "    }\n",
       "\n",
       "    .dataframe thead th {\n",
       "        text-align: right;\n",
       "    }\n",
       "</style>\n",
       "<table border=\"1\" class=\"dataframe\">\n",
       "  <thead>\n",
       "    <tr style=\"text-align: right;\">\n",
       "      <th></th>\n",
       "      <th>id</th>\n",
       "      <th>label</th>\n",
       "      <th>tweet</th>\n",
       "    </tr>\n",
       "  </thead>\n",
       "  <tbody>\n",
       "    <tr>\n",
       "      <th>0</th>\n",
       "      <td>1</td>\n",
       "      <td>0.0</td>\n",
       "      <td>@user when a father is dysfunctional and is s...</td>\n",
       "    </tr>\n",
       "    <tr>\n",
       "      <th>1</th>\n",
       "      <td>2</td>\n",
       "      <td>0.0</td>\n",
       "      <td>@user @user thanks for #lyft credit i can't us...</td>\n",
       "    </tr>\n",
       "    <tr>\n",
       "      <th>2</th>\n",
       "      <td>3</td>\n",
       "      <td>0.0</td>\n",
       "      <td>bihday your majesty</td>\n",
       "    </tr>\n",
       "    <tr>\n",
       "      <th>3</th>\n",
       "      <td>4</td>\n",
       "      <td>0.0</td>\n",
       "      <td>#model   i love u take with u all the time in ...</td>\n",
       "    </tr>\n",
       "    <tr>\n",
       "      <th>4</th>\n",
       "      <td>5</td>\n",
       "      <td>0.0</td>\n",
       "      <td>factsguide: society now    #motivation</td>\n",
       "    </tr>\n",
       "  </tbody>\n",
       "</table>\n",
       "</div>"
      ],
      "text/plain": [
       "   id  label                                              tweet\n",
       "0   1    0.0   @user when a father is dysfunctional and is s...\n",
       "1   2    0.0  @user @user thanks for #lyft credit i can't us...\n",
       "2   3    0.0                                bihday your majesty\n",
       "3   4    0.0  #model   i love u take with u all the time in ...\n",
       "4   5    0.0             factsguide: society now    #motivation"
      ]
     },
     "execution_count": 13,
     "metadata": {},
     "output_type": "execute_result"
    }
   ],
   "source": [
    "combine_df = train_df.append(test_df, ignore_index = True, sort = False)\r\n",
    "print(combine_df.info())\r\n",
    "combine_df.head()"
   ]
  },
  {
   "cell_type": "markdown",
   "id": "f3cda97c-144f-42f7-aecc-5d4412d76af6",
   "metadata": {},
   "source": [
    "### Создание датафреймов количество случев для замены значений"
   ]
  },
  {
   "cell_type": "code",
   "execution_count": 14,
   "id": "4a1d8c0d-7d48-47b0-80d3-5b1c217db00f",
   "metadata": {},
   "outputs": [],
   "source": [
    "apostrophe_df = chec_all_dict_keys(apostrophe_dict, combine_df)\n",
    "short_word_df = chec_all_dict_keys(short_word_dict, combine_df)\n",
    "emoticon_df = chec_all_dict_keys(emoticon_dict, combine_df)"
   ]
  },
  {
   "cell_type": "markdown",
   "id": "de7f7486-f37c-4f81-b307-777138ab6bb0",
   "metadata": {},
   "source": [
    "#### Проверка количества случев для замены значений"
   ]
  },
  {
   "cell_type": "code",
   "execution_count": 15,
   "id": "60636cd5-42a5-4578-8f92-e37b847a94b6",
   "metadata": {},
   "outputs": [
    {
     "data": {
      "text/plain": [
       "9400"
      ]
     },
     "execution_count": 15,
     "metadata": {},
     "output_type": "execute_result"
    }
   ],
   "source": [
    "apostrophe_df.shape[0]"
   ]
  },
  {
   "cell_type": "code",
   "execution_count": 16,
   "id": "4221cef3-a0d2-4658-945c-e8154026d9ad",
   "metadata": {},
   "outputs": [
    {
     "data": {
      "text/plain": [
       "164993"
      ]
     },
     "execution_count": 16,
     "metadata": {},
     "output_type": "execute_result"
    }
   ],
   "source": [
    "short_word_df.shape[0]"
   ]
  },
  {
   "cell_type": "code",
   "execution_count": 17,
   "id": "a31528d7-68ff-487d-b218-d9a6c0f0c8ec",
   "metadata": {},
   "outputs": [
    {
     "data": {
      "text/plain": [
       "758"
      ]
     },
     "execution_count": 17,
     "metadata": {},
     "output_type": "execute_result"
    }
   ],
   "source": [
    "emoticon_df.shape[0]"
   ]
  },
  {
   "cell_type": "markdown",
   "id": "c85ad42d",
   "metadata": {},
   "source": [
    "### Выполнение заданий"
   ]
  },
  {
   "cell_type": "markdown",
   "id": "da8f0954",
   "metadata": {},
   "source": [
    "<p><a name=\"task_1\"></a></p>\n",
    "\n",
    "#### 1.Удалим @user из всех твитов с помощью паттерна \"@[\\w]*\". Для этого создадим функцию:\n",
    "\n",
    ">для того, чтобы найти все вхождения паттерна в тексте, необходимо использовать re.findall(pattern, input_txt)\n",
    "\n",
    ">для для замены @user на пробел, необходимо использовать re.sub()\n",
    "\n"
   ]
  },
  {
   "cell_type": "code",
   "execution_count": 18,
   "id": "23fda6b9",
   "metadata": {},
   "outputs": [
    {
     "data": {
      "text/html": [
       "<div>\n",
       "<style scoped>\n",
       "    .dataframe tbody tr th:only-of-type {\n",
       "        vertical-align: middle;\n",
       "    }\n",
       "\n",
       "    .dataframe tbody tr th {\n",
       "        vertical-align: top;\n",
       "    }\n",
       "\n",
       "    .dataframe thead th {\n",
       "        text-align: right;\n",
       "    }\n",
       "</style>\n",
       "<table border=\"1\" class=\"dataframe\">\n",
       "  <thead>\n",
       "    <tr style=\"text-align: right;\">\n",
       "      <th></th>\n",
       "      <th>id</th>\n",
       "      <th>label</th>\n",
       "      <th>tweet</th>\n",
       "    </tr>\n",
       "  </thead>\n",
       "  <tbody>\n",
       "    <tr>\n",
       "      <th>0</th>\n",
       "      <td>1</td>\n",
       "      <td>0.0</td>\n",
       "      <td>when a father is dysfunctional and is so sel...</td>\n",
       "    </tr>\n",
       "    <tr>\n",
       "      <th>1</th>\n",
       "      <td>2</td>\n",
       "      <td>0.0</td>\n",
       "      <td>thanks for #lyft credit i can't use cause th...</td>\n",
       "    </tr>\n",
       "    <tr>\n",
       "      <th>2</th>\n",
       "      <td>3</td>\n",
       "      <td>0.0</td>\n",
       "      <td>bihday your majesty</td>\n",
       "    </tr>\n",
       "    <tr>\n",
       "      <th>3</th>\n",
       "      <td>4</td>\n",
       "      <td>0.0</td>\n",
       "      <td>#model   i love u take with u all the time in ...</td>\n",
       "    </tr>\n",
       "    <tr>\n",
       "      <th>4</th>\n",
       "      <td>5</td>\n",
       "      <td>0.0</td>\n",
       "      <td>factsguide: society now    #motivation</td>\n",
       "    </tr>\n",
       "  </tbody>\n",
       "</table>\n",
       "</div>"
      ],
      "text/plain": [
       "   id  label                                              tweet\n",
       "0   1    0.0    when a father is dysfunctional and is so sel...\n",
       "1   2    0.0    thanks for #lyft credit i can't use cause th...\n",
       "2   3    0.0                                bihday your majesty\n",
       "3   4    0.0  #model   i love u take with u all the time in ...\n",
       "4   5    0.0             factsguide: society now    #motivation"
      ]
     },
     "execution_count": 18,
     "metadata": {},
     "output_type": "execute_result"
    }
   ],
   "source": [
    "combine_df['tweet']= _deluser(combine_df['tweet'])\n",
    "combine_df.head()"
   ]
  },
  {
   "cell_type": "markdown",
   "id": "d783afec",
   "metadata": {},
   "source": [
    "<p><a name=\"task_2\"></a></p>\n",
    "\n",
    "#### 2.Изменим регистр твитов на нижний с помощью .lower(). "
   ]
  },
  {
   "cell_type": "code",
   "execution_count": 19,
   "id": "15c25f91",
   "metadata": {},
   "outputs": [
    {
     "data": {
      "text/html": [
       "<div>\n",
       "<style scoped>\n",
       "    .dataframe tbody tr th:only-of-type {\n",
       "        vertical-align: middle;\n",
       "    }\n",
       "\n",
       "    .dataframe tbody tr th {\n",
       "        vertical-align: top;\n",
       "    }\n",
       "\n",
       "    .dataframe thead th {\n",
       "        text-align: right;\n",
       "    }\n",
       "</style>\n",
       "<table border=\"1\" class=\"dataframe\">\n",
       "  <thead>\n",
       "    <tr style=\"text-align: right;\">\n",
       "      <th></th>\n",
       "      <th>id</th>\n",
       "      <th>label</th>\n",
       "      <th>tweet</th>\n",
       "    </tr>\n",
       "  </thead>\n",
       "  <tbody>\n",
       "    <tr>\n",
       "      <th>0</th>\n",
       "      <td>1</td>\n",
       "      <td>0.0</td>\n",
       "      <td>when a father is dysfunctional and is so sel...</td>\n",
       "    </tr>\n",
       "    <tr>\n",
       "      <th>1</th>\n",
       "      <td>2</td>\n",
       "      <td>0.0</td>\n",
       "      <td>thanks for #lyft credit i can't use cause th...</td>\n",
       "    </tr>\n",
       "    <tr>\n",
       "      <th>2</th>\n",
       "      <td>3</td>\n",
       "      <td>0.0</td>\n",
       "      <td>bihday your majesty</td>\n",
       "    </tr>\n",
       "    <tr>\n",
       "      <th>3</th>\n",
       "      <td>4</td>\n",
       "      <td>0.0</td>\n",
       "      <td>#model   i love u take with u all the time in ...</td>\n",
       "    </tr>\n",
       "    <tr>\n",
       "      <th>4</th>\n",
       "      <td>5</td>\n",
       "      <td>0.0</td>\n",
       "      <td>factsguide: society now    #motivation</td>\n",
       "    </tr>\n",
       "  </tbody>\n",
       "</table>\n",
       "</div>"
      ],
      "text/plain": [
       "   id  label                                              tweet\n",
       "0   1    0.0    when a father is dysfunctional and is so sel...\n",
       "1   2    0.0    thanks for #lyft credit i can't use cause th...\n",
       "2   3    0.0                                bihday your majesty\n",
       "3   4    0.0  #model   i love u take with u all the time in ...\n",
       "4   5    0.0             factsguide: society now    #motivation"
      ]
     },
     "execution_count": 19,
     "metadata": {},
     "output_type": "execute_result"
    }
   ],
   "source": [
    "combine_df['tweet'] = combine_df['tweet'].apply(lambda tweet: tweet.lower())\n",
    "combine_df.head()"
   ]
  },
  {
   "cell_type": "markdown",
   "id": "2be222fb",
   "metadata": {},
   "source": [
    "<p><a name=\"task_3\"></a></p>\n",
    "\n",
    "#### 3.Заменим сокращения с апострофами (пример: ain't, can't) на пробел, используя apostrophe_dict. Для этого необходимо сделать функцию: \n",
    ">для каждого слова в тексте проверить (for word in text.split()),\n",
    ">>если слово есть в словаре apostrophe_dict в качестве ключа (сокращенного слова), то заменить ключ на значение (полную версию слова). "
   ]
  },
  {
   "cell_type": "code",
   "execution_count": 20,
   "id": "820b802b-ea4d-40fe-9683-658b6a84d1f4",
   "metadata": {},
   "outputs": [
    {
     "data": {
      "text/html": [
       "<div>\n",
       "<style scoped>\n",
       "    .dataframe tbody tr th:only-of-type {\n",
       "        vertical-align: middle;\n",
       "    }\n",
       "\n",
       "    .dataframe tbody tr th {\n",
       "        vertical-align: top;\n",
       "    }\n",
       "\n",
       "    .dataframe thead th {\n",
       "        text-align: right;\n",
       "    }\n",
       "</style>\n",
       "<table border=\"1\" class=\"dataframe\">\n",
       "  <thead>\n",
       "    <tr style=\"text-align: right;\">\n",
       "      <th></th>\n",
       "      <th>idx</th>\n",
       "      <th>tweet</th>\n",
       "      <th>key</th>\n",
       "    </tr>\n",
       "  </thead>\n",
       "  <tbody>\n",
       "    <tr>\n",
       "      <th>0</th>\n",
       "      <td>378.0</td>\n",
       "      <td>@user my sister ain't even know i was watchin...</td>\n",
       "      <td>ain't</td>\n",
       "    </tr>\n",
       "    <tr>\n",
       "      <th>1</th>\n",
       "      <td>4002.0</td>\n",
       "      <td>i wasted so much money on food this year...it ...</td>\n",
       "      <td>ain't</td>\n",
       "    </tr>\n",
       "    <tr>\n",
       "      <th>2</th>\n",
       "      <td>4264.0</td>\n",
       "      <td>middle fingers up! i ain't thinking bout you! ...</td>\n",
       "      <td>ain't</td>\n",
       "    </tr>\n",
       "    <tr>\n",
       "      <th>3</th>\n",
       "      <td>5349.0</td>\n",
       "      <td>when i say niggas ain't shit smh they aint shi...</td>\n",
       "      <td>ain't</td>\n",
       "    </tr>\n",
       "    <tr>\n",
       "      <th>4</th>\n",
       "      <td>6048.0</td>\n",
       "      <td>@user #thanks to all those  #dead #white #dude...</td>\n",
       "      <td>ain't</td>\n",
       "    </tr>\n",
       "  </tbody>\n",
       "</table>\n",
       "</div>"
      ],
      "text/plain": [
       "      idx                                              tweet    key\n",
       "0   378.0   @user my sister ain't even know i was watchin...  ain't\n",
       "1  4002.0  i wasted so much money on food this year...it ...  ain't\n",
       "2  4264.0  middle fingers up! i ain't thinking bout you! ...  ain't\n",
       "3  5349.0  when i say niggas ain't shit smh they aint shi...  ain't\n",
       "4  6048.0  @user #thanks to all those  #dead #white #dude...  ain't"
      ]
     },
     "execution_count": 20,
     "metadata": {},
     "output_type": "execute_result"
    }
   ],
   "source": [
    "apostrophe_df.head()"
   ]
  },
  {
   "cell_type": "code",
   "execution_count": 21,
   "id": "b1a71788",
   "metadata": {},
   "outputs": [],
   "source": [
    "combine_df['tweet'] = _del_by_dict_sub(combine_df['tweet'], dict_sub=apostrophe_dict)"
   ]
  },
  {
   "cell_type": "code",
   "execution_count": 22,
   "id": "44be10f8-cd79-425b-975a-2db3aca2f5b8",
   "metadata": {},
   "outputs": [
    {
     "data": {
      "text/plain": [
       "'  my sister am not / are not even know i was watching her argue with the nigga ð\\x9f\\x98\\x82ð\\x9f\\x98\\x82ð\\x9f\\x98\\x82 was waiting for him too say the wrong shit  '"
      ]
     },
     "execution_count": 22,
     "metadata": {},
     "output_type": "execute_result"
    }
   ],
   "source": [
    "combine_df['tweet'][378]"
   ]
  },
  {
   "cell_type": "markdown",
   "id": "da68a691",
   "metadata": {},
   "source": [
    "<p><a name=\"task_4\"></a></p>\n",
    "\n",
    "#### 4.Заменим сокращения на их полные формы, используя short_word_dict. Для этого воспользуемся функцией, используемой в предыдущем пункте. "
   ]
  },
  {
   "cell_type": "code",
   "execution_count": 23,
   "id": "7579d09f-8bbd-4aad-a9cc-bedd44b99534",
   "metadata": {},
   "outputs": [
    {
     "data": {
      "text/html": [
       "<div>\n",
       "<style scoped>\n",
       "    .dataframe tbody tr th:only-of-type {\n",
       "        vertical-align: middle;\n",
       "    }\n",
       "\n",
       "    .dataframe tbody tr th {\n",
       "        vertical-align: top;\n",
       "    }\n",
       "\n",
       "    .dataframe thead th {\n",
       "        text-align: right;\n",
       "    }\n",
       "</style>\n",
       "<table border=\"1\" class=\"dataframe\">\n",
       "  <thead>\n",
       "    <tr style=\"text-align: right;\">\n",
       "      <th></th>\n",
       "      <th>idx</th>\n",
       "      <th>tweet</th>\n",
       "      <th>key</th>\n",
       "    </tr>\n",
       "  </thead>\n",
       "  <tbody>\n",
       "    <tr>\n",
       "      <th>9</th>\n",
       "      <td>32354.0</td>\n",
       "      <td>check  @user daddydub a super   father's day! ...</td>\n",
       "      <td>gr8</td>\n",
       "    </tr>\n",
       "    <tr>\n",
       "      <th>10</th>\n",
       "      <td>34985.0</td>\n",
       "      <td>me right now, #bethmoth22 #bethmoth #suicide #...</td>\n",
       "      <td>gr8</td>\n",
       "    </tr>\n",
       "    <tr>\n",
       "      <th>11</th>\n",
       "      <td>42043.0</td>\n",
       "      <td>another gr8 #review.    #childrensbook #friend...</td>\n",
       "      <td>gr8</td>\n",
       "    </tr>\n",
       "    <tr>\n",
       "      <th>12</th>\n",
       "      <td>42951.0</td>\n",
       "      <td>looking forward to the gathering  @user to cel...</td>\n",
       "      <td>gr8</td>\n",
       "    </tr>\n",
       "    <tr>\n",
       "      <th>13</th>\n",
       "      <td>43982.0</td>\n",
       "      <td>#proud n   moment see #standing ovation by #co...</td>\n",
       "      <td>gr8</td>\n",
       "    </tr>\n",
       "  </tbody>\n",
       "</table>\n",
       "</div>"
      ],
      "text/plain": [
       "        idx                                              tweet  key\n",
       "9   32354.0  check  @user daddydub a super   father's day! ...  gr8\n",
       "10  34985.0  me right now, #bethmoth22 #bethmoth #suicide #...  gr8\n",
       "11  42043.0  another gr8 #review.    #childrensbook #friend...  gr8\n",
       "12  42951.0  looking forward to the gathering  @user to cel...  gr8\n",
       "13  43982.0  #proud n   moment see #standing ovation by #co...  gr8"
      ]
     },
     "execution_count": 23,
     "metadata": {},
     "output_type": "execute_result"
    }
   ],
   "source": [
    "short_word_df.tail()"
   ]
  },
  {
   "cell_type": "code",
   "execution_count": 24,
   "id": "00cc2b1a",
   "metadata": {},
   "outputs": [],
   "source": [
    "combine_df['tweet'] = _del_by_dict_sub(combine_df['tweet'], dict_sub=short_word_dict)"
   ]
  },
  {
   "cell_type": "code",
   "execution_count": 25,
   "id": "79c1f7ae-438d-48f9-8437-ee81174f906a",
   "metadata": {},
   "outputs": [
    {
     "data": {
      "text/plain": [
       "'another great #review.    #childrensbook #friendship #kids #draw #read '"
      ]
     },
     "execution_count": 25,
     "metadata": {},
     "output_type": "execute_result"
    }
   ],
   "source": [
    "combine_df['tweet'][42043]"
   ]
  },
  {
   "cell_type": "code",
   "execution_count": 26,
   "id": "72069202-c3d1-496a-b582-3b75de770dda",
   "metadata": {},
   "outputs": [
    {
     "data": {
      "text/plain": [
       "63"
      ]
     },
     "execution_count": 26,
     "metadata": {},
     "output_type": "execute_result"
    }
   ],
   "source": [
    "_key_in_tweet('wtf', combine_df).shape[0]"
   ]
  },
  {
   "cell_type": "code",
   "execution_count": 27,
   "id": "7f1d63c1-42d1-479a-b3de-5f4d47d08dae",
   "metadata": {},
   "outputs": [
    {
     "data": {
      "text/plain": [
       "'noooo wtfffff pouseeey died #oitnbspoiler #oitnb #orangeisthenewblack   suprised #omg'"
      ]
     },
     "execution_count": 27,
     "metadata": {},
     "output_type": "execute_result"
    }
   ],
   "source": [
    "combine_df['tweet'][18029]   # ????"
   ]
  },
  {
   "cell_type": "markdown",
   "id": "cdf6ab5c",
   "metadata": {},
   "source": [
    "<p><a name=\"task_5\"></a></p>\n",
    "\n",
    "#### 5.Заменим эмотиконы (пример: \":)\" = \"happy\") на пробелы, используя emoticon_dict. Для этого воспользуемся функцией, используемой в предыдущем пункте."
   ]
  },
  {
   "cell_type": "code",
   "execution_count": 28,
   "id": "66e728e2-9bce-4c3b-b305-6d0e9b28ed9a",
   "metadata": {},
   "outputs": [
    {
     "data": {
      "text/plain": [
       "758"
      ]
     },
     "execution_count": 28,
     "metadata": {},
     "output_type": "execute_result"
    }
   ],
   "source": [
    "emoticon_df.shape[0]"
   ]
  },
  {
   "cell_type": "code",
   "execution_count": 29,
   "id": "e29709fb",
   "metadata": {},
   "outputs": [
    {
     "data": {
      "text/plain": [
       "'when you know yall 2 aint going know where happy #love #commitment #trust #faithful  '"
      ]
     },
     "execution_count": 29,
     "metadata": {},
     "output_type": "execute_result"
    }
   ],
   "source": [
    "combine_df['tweet'] = _del_by_dict_sub(combine_df['tweet'], dict_sub=emoticon_dict, flag_r=False)\n",
    "combine_df['tweet'][150] "
   ]
  },
  {
   "cell_type": "code",
   "execution_count": 30,
   "id": "5ce58c9c-1e1e-4096-a717-277ab942f8b1",
   "metadata": {},
   "outputs": [
    {
     "data": {
      "text/html": [
       "<div>\n",
       "<style scoped>\n",
       "    .dataframe tbody tr th:only-of-type {\n",
       "        vertical-align: middle;\n",
       "    }\n",
       "\n",
       "    .dataframe tbody tr th {\n",
       "        vertical-align: top;\n",
       "    }\n",
       "\n",
       "    .dataframe thead th {\n",
       "        text-align: right;\n",
       "    }\n",
       "</style>\n",
       "<table border=\"1\" class=\"dataframe\">\n",
       "  <thead>\n",
       "    <tr style=\"text-align: right;\">\n",
       "      <th></th>\n",
       "      <th>idx</th>\n",
       "      <th>tweet</th>\n",
       "      <th>key</th>\n",
       "    </tr>\n",
       "  </thead>\n",
       "  <tbody>\n",
       "    <tr>\n",
       "      <th>0</th>\n",
       "      <td>541.0</td>\n",
       "      <td>yep - grateful for everyday :)))) #gratitude...</td>\n",
       "      <td>:)</td>\n",
       "    </tr>\n",
       "    <tr>\n",
       "      <th>1</th>\n",
       "      <td>2461.0</td>\n",
       "      <td>it has / it is so soothing to see you on tv a...</td>\n",
       "      <td>:)</td>\n",
       "    </tr>\n",
       "    <tr>\n",
       "      <th>2</th>\n",
       "      <td>3355.0</td>\n",
       "      <td>yep - grateful for everyday :)))) #gratitude  ...</td>\n",
       "      <td>:)</td>\n",
       "    </tr>\n",
       "    <tr>\n",
       "      <th>3</th>\n",
       "      <td>3391.0</td>\n",
       "      <td>#gifts that show love is ##whatwomenwant occas...</td>\n",
       "      <td>:)</td>\n",
       "    </tr>\n",
       "    <tr>\n",
       "      <th>4</th>\n",
       "      <td>3458.0</td>\n",
       "      <td>6-4 placement games :))) now it has / it is ti...</td>\n",
       "      <td>:)</td>\n",
       "    </tr>\n",
       "    <tr>\n",
       "      <th>...</th>\n",
       "      <td>...</td>\n",
       "      <td>...</td>\n",
       "      <td>...</td>\n",
       "    </tr>\n",
       "    <tr>\n",
       "      <th>18</th>\n",
       "      <td>38772.0</td>\n",
       "      <td>damn when i come back i wont be in sa or nothi...</td>\n",
       "      <td>:(</td>\n",
       "    </tr>\n",
       "    <tr>\n",
       "      <th>19</th>\n",
       "      <td>39015.0</td>\n",
       "      <td>no entiendo porque neighbors no esta en netfli...</td>\n",
       "      <td>:(</td>\n",
       "    </tr>\n",
       "    <tr>\n",
       "      <th>20</th>\n",
       "      <td>41550.0</td>\n",
       "      <td>uturama is ending...just like everything else ...</td>\n",
       "      <td>:(</td>\n",
       "    </tr>\n",
       "    <tr>\n",
       "      <th>21</th>\n",
       "      <td>41900.0</td>\n",
       "      <td>#depressed i just got accused of accepting b...</td>\n",
       "      <td>:(</td>\n",
       "    </tr>\n",
       "    <tr>\n",
       "      <th>22</th>\n",
       "      <td>47678.0</td>\n",
       "      <td>same :(((((</td>\n",
       "      <td>:(</td>\n",
       "    </tr>\n",
       "  </tbody>\n",
       "</table>\n",
       "<p>104 rows × 3 columns</p>\n",
       "</div>"
      ],
      "text/plain": [
       "        idx                                              tweet key\n",
       "0     541.0    yep - grateful for everyday :)))) #gratitude...  :)\n",
       "1    2461.0   it has / it is so soothing to see you on tv a...  :)\n",
       "2    3355.0  yep - grateful for everyday :)))) #gratitude  ...  :)\n",
       "3    3391.0  #gifts that show love is ##whatwomenwant occas...  :)\n",
       "4    3458.0  6-4 placement games :))) now it has / it is ti...  :)\n",
       "..      ...                                                ...  ..\n",
       "18  38772.0  damn when i come back i wont be in sa or nothi...  :(\n",
       "19  39015.0  no entiendo porque neighbors no esta en netfli...  :(\n",
       "20  41550.0  uturama is ending...just like everything else ...  :(\n",
       "21  41900.0    #depressed i just got accused of accepting b...  :(\n",
       "22  47678.0                                      same :(((((    :(\n",
       "\n",
       "[104 rows x 3 columns]"
      ]
     },
     "execution_count": 30,
     "metadata": {},
     "output_type": "execute_result"
    }
   ],
   "source": [
    "chec_all_dict_keys(dict_keys=emoticon_dict, df=combine_df)"
   ]
  },
  {
   "cell_type": "markdown",
   "id": "55ce2c27",
   "metadata": {},
   "source": [
    "<p><a name=\"task_6\"></a></p>\n",
    "\n",
    "#### 6.Заменим пунктуацию на пробелы, используя re.sub() и паттерн r'[^\\w\\s]'. "
   ]
  },
  {
   "cell_type": "code",
   "execution_count": 31,
   "id": "bfb43d98",
   "metadata": {},
   "outputs": [
    {
     "data": {
      "text/html": [
       "<div>\n",
       "<style scoped>\n",
       "    .dataframe tbody tr th:only-of-type {\n",
       "        vertical-align: middle;\n",
       "    }\n",
       "\n",
       "    .dataframe tbody tr th {\n",
       "        vertical-align: top;\n",
       "    }\n",
       "\n",
       "    .dataframe thead th {\n",
       "        text-align: right;\n",
       "    }\n",
       "</style>\n",
       "<table border=\"1\" class=\"dataframe\">\n",
       "  <thead>\n",
       "    <tr style=\"text-align: right;\">\n",
       "      <th></th>\n",
       "      <th>id</th>\n",
       "      <th>label</th>\n",
       "      <th>tweet</th>\n",
       "    </tr>\n",
       "  </thead>\n",
       "  <tbody>\n",
       "    <tr>\n",
       "      <th>0</th>\n",
       "      <td>1</td>\n",
       "      <td>0.0</td>\n",
       "      <td>when a father is dysfunctional and is so sel...</td>\n",
       "    </tr>\n",
       "    <tr>\n",
       "      <th>1</th>\n",
       "      <td>2</td>\n",
       "      <td>0.0</td>\n",
       "      <td>thanks for lyft credit i cannot use cause th...</td>\n",
       "    </tr>\n",
       "    <tr>\n",
       "      <th>2</th>\n",
       "      <td>3</td>\n",
       "      <td>0.0</td>\n",
       "      <td>bihday your majesty</td>\n",
       "    </tr>\n",
       "    <tr>\n",
       "      <th>3</th>\n",
       "      <td>4</td>\n",
       "      <td>0.0</td>\n",
       "      <td>model   i love you take with you all the time ...</td>\n",
       "    </tr>\n",
       "    <tr>\n",
       "      <th>4</th>\n",
       "      <td>5</td>\n",
       "      <td>0.0</td>\n",
       "      <td>factsguide society now    motivation</td>\n",
       "    </tr>\n",
       "  </tbody>\n",
       "</table>\n",
       "</div>"
      ],
      "text/plain": [
       "   id  label                                              tweet\n",
       "0   1    0.0    when a father is dysfunctional and is so sel...\n",
       "1   2    0.0    thanks for lyft credit i cannot use cause th...\n",
       "2   3    0.0                                bihday your majesty\n",
       "3   4    0.0  model   i love you take with you all the time ...\n",
       "4   5    0.0               factsguide society now    motivation"
      ]
     },
     "execution_count": 31,
     "metadata": {},
     "output_type": "execute_result"
    }
   ],
   "source": [
    "combine_df['tweet'] = combine_df['tweet'].apply(lambda x: re.sub(r\"[^\\w\\s]\", '', x))\n",
    "combine_df.head()"
   ]
  },
  {
   "cell_type": "markdown",
   "id": "5d3db535",
   "metadata": {},
   "source": [
    "<p><a name=\"task_7\"></a></p>\n",
    "\n",
    "#### 7.Заменим спец. символы на пробелы, используя re.sub() и паттерн r'[^a-zA-Z0-9]'."
   ]
  },
  {
   "cell_type": "code",
   "execution_count": 32,
   "id": "9ebb4bbd",
   "metadata": {},
   "outputs": [
    {
     "data": {
      "text/html": [
       "<div>\n",
       "<style scoped>\n",
       "    .dataframe tbody tr th:only-of-type {\n",
       "        vertical-align: middle;\n",
       "    }\n",
       "\n",
       "    .dataframe tbody tr th {\n",
       "        vertical-align: top;\n",
       "    }\n",
       "\n",
       "    .dataframe thead th {\n",
       "        text-align: right;\n",
       "    }\n",
       "</style>\n",
       "<table border=\"1\" class=\"dataframe\">\n",
       "  <thead>\n",
       "    <tr style=\"text-align: right;\">\n",
       "      <th></th>\n",
       "      <th>id</th>\n",
       "      <th>label</th>\n",
       "      <th>tweet</th>\n",
       "    </tr>\n",
       "  </thead>\n",
       "  <tbody>\n",
       "    <tr>\n",
       "      <th>0</th>\n",
       "      <td>1</td>\n",
       "      <td>0.0</td>\n",
       "      <td>when a father is dysfunctional and is so sel...</td>\n",
       "    </tr>\n",
       "    <tr>\n",
       "      <th>1</th>\n",
       "      <td>2</td>\n",
       "      <td>0.0</td>\n",
       "      <td>thanks for lyft credit i cannot use cause th...</td>\n",
       "    </tr>\n",
       "    <tr>\n",
       "      <th>2</th>\n",
       "      <td>3</td>\n",
       "      <td>0.0</td>\n",
       "      <td>bihday your majesty</td>\n",
       "    </tr>\n",
       "    <tr>\n",
       "      <th>3</th>\n",
       "      <td>4</td>\n",
       "      <td>0.0</td>\n",
       "      <td>model   i love you take with you all the time ...</td>\n",
       "    </tr>\n",
       "    <tr>\n",
       "      <th>4</th>\n",
       "      <td>5</td>\n",
       "      <td>0.0</td>\n",
       "      <td>factsguide society now    motivation</td>\n",
       "    </tr>\n",
       "  </tbody>\n",
       "</table>\n",
       "</div>"
      ],
      "text/plain": [
       "   id  label                                              tweet\n",
       "0   1    0.0    when a father is dysfunctional and is so sel...\n",
       "1   2    0.0    thanks for lyft credit i cannot use cause th...\n",
       "2   3    0.0                                bihday your majesty\n",
       "3   4    0.0  model   i love you take with you all the time ...\n",
       "4   5    0.0               factsguide society now    motivation"
      ]
     },
     "execution_count": 32,
     "metadata": {},
     "output_type": "execute_result"
    }
   ],
   "source": [
    "combine_df['tweet'] = combine_df['tweet'].apply(lambda x: re.sub(r\"[^a-zA-Z0-9]\", ' ', x))\n",
    "combine_df.head()"
   ]
  },
  {
   "cell_type": "markdown",
   "id": "91733b0c",
   "metadata": {},
   "source": [
    "<p><a name=\"task_8\"></a></p>\n",
    "\n",
    "#### 8.Заменим числа на пробелы, используя re.sub() и паттерн r'[^a-zA-Z]'."
   ]
  },
  {
   "cell_type": "code",
   "execution_count": 33,
   "id": "cf524efd",
   "metadata": {},
   "outputs": [
    {
     "data": {
      "text/html": [
       "<div>\n",
       "<style scoped>\n",
       "    .dataframe tbody tr th:only-of-type {\n",
       "        vertical-align: middle;\n",
       "    }\n",
       "\n",
       "    .dataframe tbody tr th {\n",
       "        vertical-align: top;\n",
       "    }\n",
       "\n",
       "    .dataframe thead th {\n",
       "        text-align: right;\n",
       "    }\n",
       "</style>\n",
       "<table border=\"1\" class=\"dataframe\">\n",
       "  <thead>\n",
       "    <tr style=\"text-align: right;\">\n",
       "      <th></th>\n",
       "      <th>id</th>\n",
       "      <th>label</th>\n",
       "      <th>tweet</th>\n",
       "    </tr>\n",
       "  </thead>\n",
       "  <tbody>\n",
       "    <tr>\n",
       "      <th>0</th>\n",
       "      <td>1</td>\n",
       "      <td>0.0</td>\n",
       "      <td>when a father is dysfunctional and is so sel...</td>\n",
       "    </tr>\n",
       "    <tr>\n",
       "      <th>1</th>\n",
       "      <td>2</td>\n",
       "      <td>0.0</td>\n",
       "      <td>thanks for lyft credit i cannot use cause th...</td>\n",
       "    </tr>\n",
       "    <tr>\n",
       "      <th>2</th>\n",
       "      <td>3</td>\n",
       "      <td>0.0</td>\n",
       "      <td>bihday your majesty</td>\n",
       "    </tr>\n",
       "    <tr>\n",
       "      <th>3</th>\n",
       "      <td>4</td>\n",
       "      <td>0.0</td>\n",
       "      <td>model   i love you take with you all the time ...</td>\n",
       "    </tr>\n",
       "    <tr>\n",
       "      <th>4</th>\n",
       "      <td>5</td>\n",
       "      <td>0.0</td>\n",
       "      <td>factsguide society now    motivation</td>\n",
       "    </tr>\n",
       "  </tbody>\n",
       "</table>\n",
       "</div>"
      ],
      "text/plain": [
       "   id  label                                              tweet\n",
       "0   1    0.0    when a father is dysfunctional and is so sel...\n",
       "1   2    0.0    thanks for lyft credit i cannot use cause th...\n",
       "2   3    0.0                                bihday your majesty\n",
       "3   4    0.0  model   i love you take with you all the time ...\n",
       "4   5    0.0               factsguide society now    motivation"
      ]
     },
     "execution_count": 33,
     "metadata": {},
     "output_type": "execute_result"
    }
   ],
   "source": [
    "# combine_df['tweet'] = combine_df['tweet'].apply(lambda x: re.sub( r'[^a-zA-Z]', ' ', x))\n",
    "combine_df['tweet'] = combine_df['tweet'].apply(lambda x: re.sub(r\"[0-9]\", '', x))\n",
    "# паттерн  r'[^a-zA-Z]' кроме чисел описывает еще и пробельные символы\n",
    "combine_df.head()\n",
    "\n"
   ]
  },
  {
   "cell_type": "markdown",
   "id": "48acdd84",
   "metadata": {},
   "source": [
    "<p><a name=\"task_9\"></a></p>\n",
    "\n",
    "#### 9.Удалим из текста слова длиной в 1 символ, используя ' '.join([w for w in x.split() if len(w)>1])."
   ]
  },
  {
   "cell_type": "code",
   "execution_count": 34,
   "id": "95a46465-1e91-4524-86ec-47899d956d8e",
   "metadata": {},
   "outputs": [
    {
     "data": {
      "text/plain": [
       "'  thanks for lyft credit i cannot use cause they do not offer wheelchair vans in pdx    disapointed getthanked'"
      ]
     },
     "execution_count": 34,
     "metadata": {},
     "output_type": "execute_result"
    }
   ],
   "source": [
    "combine_df['tweet'][1]"
   ]
  },
  {
   "cell_type": "code",
   "execution_count": 35,
   "id": "c47ed72c",
   "metadata": {},
   "outputs": [
    {
     "data": {
      "text/html": [
       "<div>\n",
       "<style scoped>\n",
       "    .dataframe tbody tr th:only-of-type {\n",
       "        vertical-align: middle;\n",
       "    }\n",
       "\n",
       "    .dataframe tbody tr th {\n",
       "        vertical-align: top;\n",
       "    }\n",
       "\n",
       "    .dataframe thead th {\n",
       "        text-align: right;\n",
       "    }\n",
       "</style>\n",
       "<table border=\"1\" class=\"dataframe\">\n",
       "  <thead>\n",
       "    <tr style=\"text-align: right;\">\n",
       "      <th></th>\n",
       "      <th>id</th>\n",
       "      <th>label</th>\n",
       "      <th>tweet</th>\n",
       "    </tr>\n",
       "  </thead>\n",
       "  <tbody>\n",
       "    <tr>\n",
       "      <th>0</th>\n",
       "      <td>1</td>\n",
       "      <td>0.0</td>\n",
       "      <td>when father is dysfunctional and is so selfish...</td>\n",
       "    </tr>\n",
       "    <tr>\n",
       "      <th>1</th>\n",
       "      <td>2</td>\n",
       "      <td>0.0</td>\n",
       "      <td>thanks for lyft credit cannot use cause they d...</td>\n",
       "    </tr>\n",
       "    <tr>\n",
       "      <th>2</th>\n",
       "      <td>3</td>\n",
       "      <td>0.0</td>\n",
       "      <td>bihday your majesty</td>\n",
       "    </tr>\n",
       "    <tr>\n",
       "      <th>3</th>\n",
       "      <td>4</td>\n",
       "      <td>0.0</td>\n",
       "      <td>model love you take with you all the time in ur</td>\n",
       "    </tr>\n",
       "    <tr>\n",
       "      <th>4</th>\n",
       "      <td>5</td>\n",
       "      <td>0.0</td>\n",
       "      <td>factsguide society now motivation</td>\n",
       "    </tr>\n",
       "  </tbody>\n",
       "</table>\n",
       "</div>"
      ],
      "text/plain": [
       "   id  label                                              tweet\n",
       "0   1    0.0  when father is dysfunctional and is so selfish...\n",
       "1   2    0.0  thanks for lyft credit cannot use cause they d...\n",
       "2   3    0.0                                bihday your majesty\n",
       "3   4    0.0    model love you take with you all the time in ur\n",
       "4   5    0.0                  factsguide society now motivation"
      ]
     },
     "execution_count": 35,
     "metadata": {},
     "output_type": "execute_result"
    }
   ],
   "source": [
    "combine_df['tweet'] = combine_df['tweet'].apply(lambda x: ' '.join([w for w in x.split() if len(w)>1]))\n",
    "#combine_df['tweet'] = combine_df['tweet'].apply(lambda x: re.sub(r\"\\s\\w{1}\\s\", ' ', x))\n",
    "#combine_df['tweet'] = combine_df['tweet'].apply(lambda x: re.sub(r\"\\b\\w{1}\\b\", ' ', x))\n",
    "combine_df.head()\n"
   ]
  },
  {
   "cell_type": "code",
   "execution_count": 36,
   "id": "9c95122f-10a5-452c-8abc-841eb6523498",
   "metadata": {},
   "outputs": [
    {
     "data": {
      "text/plain": [
       "'thanks for lyft credit cannot use cause they do not offer wheelchair vans in pdx disapointed getthanked'"
      ]
     },
     "execution_count": 36,
     "metadata": {},
     "output_type": "execute_result"
    }
   ],
   "source": [
    "combine_df['tweet'][1]"
   ]
  },
  {
   "cell_type": "markdown",
   "id": "970a9f22",
   "metadata": {},
   "source": [
    "<p><a name=\"task_10\"></a></p>\n",
    "\n",
    "#### 10.Поделим твиты на токены с помощью nltk.tokenize.word_tokenize, создав новый столбец 'tweet_token'."
   ]
  },
  {
   "cell_type": "code",
   "execution_count": 37,
   "id": "36ecefb4-5413-4d5c-88f7-feacea3bd15d",
   "metadata": {},
   "outputs": [],
   "source": [
    "# nltk.download('punkt')"
   ]
  },
  {
   "cell_type": "code",
   "execution_count": 38,
   "id": "efbce7a4",
   "metadata": {},
   "outputs": [
    {
     "data": {
      "text/html": [
       "<div>\n",
       "<style scoped>\n",
       "    .dataframe tbody tr th:only-of-type {\n",
       "        vertical-align: middle;\n",
       "    }\n",
       "\n",
       "    .dataframe tbody tr th {\n",
       "        vertical-align: top;\n",
       "    }\n",
       "\n",
       "    .dataframe thead th {\n",
       "        text-align: right;\n",
       "    }\n",
       "</style>\n",
       "<table border=\"1\" class=\"dataframe\">\n",
       "  <thead>\n",
       "    <tr style=\"text-align: right;\">\n",
       "      <th></th>\n",
       "      <th>id</th>\n",
       "      <th>label</th>\n",
       "      <th>tweet</th>\n",
       "      <th>tweet_token</th>\n",
       "    </tr>\n",
       "  </thead>\n",
       "  <tbody>\n",
       "    <tr>\n",
       "      <th>0</th>\n",
       "      <td>1</td>\n",
       "      <td>0.0</td>\n",
       "      <td>when father is dysfunctional and is so selfish...</td>\n",
       "      <td>[when, father, is, dysfunctional, and, is, so,...</td>\n",
       "    </tr>\n",
       "    <tr>\n",
       "      <th>1</th>\n",
       "      <td>2</td>\n",
       "      <td>0.0</td>\n",
       "      <td>thanks for lyft credit cannot use cause they d...</td>\n",
       "      <td>[thanks, for, lyft, credit, can, not, use, cau...</td>\n",
       "    </tr>\n",
       "    <tr>\n",
       "      <th>2</th>\n",
       "      <td>3</td>\n",
       "      <td>0.0</td>\n",
       "      <td>bihday your majesty</td>\n",
       "      <td>[bihday, your, majesty]</td>\n",
       "    </tr>\n",
       "    <tr>\n",
       "      <th>3</th>\n",
       "      <td>4</td>\n",
       "      <td>0.0</td>\n",
       "      <td>model love you take with you all the time in ur</td>\n",
       "      <td>[model, love, you, take, with, you, all, the, ...</td>\n",
       "    </tr>\n",
       "    <tr>\n",
       "      <th>4</th>\n",
       "      <td>5</td>\n",
       "      <td>0.0</td>\n",
       "      <td>factsguide society now motivation</td>\n",
       "      <td>[factsguide, society, now, motivation]</td>\n",
       "    </tr>\n",
       "  </tbody>\n",
       "</table>\n",
       "</div>"
      ],
      "text/plain": [
       "   id  label                                              tweet  \\\n",
       "0   1    0.0  when father is dysfunctional and is so selfish...   \n",
       "1   2    0.0  thanks for lyft credit cannot use cause they d...   \n",
       "2   3    0.0                                bihday your majesty   \n",
       "3   4    0.0    model love you take with you all the time in ur   \n",
       "4   5    0.0                  factsguide society now motivation   \n",
       "\n",
       "                                         tweet_token  \n",
       "0  [when, father, is, dysfunctional, and, is, so,...  \n",
       "1  [thanks, for, lyft, credit, can, not, use, cau...  \n",
       "2                            [bihday, your, majesty]  \n",
       "3  [model, love, you, take, with, you, all, the, ...  \n",
       "4             [factsguide, society, now, motivation]  "
      ]
     },
     "execution_count": 38,
     "metadata": {},
     "output_type": "execute_result"
    }
   ],
   "source": [
    "combine_df['tweet_token'] = combine_df['tweet'].apply(nltk.tokenize.word_tokenize)\n",
    "combine_df.head()"
   ]
  },
  {
   "cell_type": "markdown",
   "id": "5470984f",
   "metadata": {},
   "source": [
    "<p><a name=\"task_11\"></a></p>\n",
    "\n",
    "#### 11.Удалим стоп-слова из токенов, используя nltk.corpus.stopwords. Создадим столбец 'tweet_token_filtered' без стоп-слов."
   ]
  },
  {
   "cell_type": "code",
   "execution_count": 39,
   "id": "168253e2-aa74-4e0c-b978-6e7781588dc9",
   "metadata": {},
   "outputs": [
    {
     "data": {
      "text/html": [
       "<div>\n",
       "<style scoped>\n",
       "    .dataframe tbody tr th:only-of-type {\n",
       "        vertical-align: middle;\n",
       "    }\n",
       "\n",
       "    .dataframe tbody tr th {\n",
       "        vertical-align: top;\n",
       "    }\n",
       "\n",
       "    .dataframe thead th {\n",
       "        text-align: right;\n",
       "    }\n",
       "</style>\n",
       "<table border=\"1\" class=\"dataframe\">\n",
       "  <thead>\n",
       "    <tr style=\"text-align: right;\">\n",
       "      <th></th>\n",
       "      <th>id</th>\n",
       "      <th>label</th>\n",
       "      <th>tweet</th>\n",
       "      <th>tweet_token</th>\n",
       "      <th>tweet_token_filtered</th>\n",
       "    </tr>\n",
       "  </thead>\n",
       "  <tbody>\n",
       "    <tr>\n",
       "      <th>0</th>\n",
       "      <td>1</td>\n",
       "      <td>0.0</td>\n",
       "      <td>when father is dysfunctional and is so selfish...</td>\n",
       "      <td>[when, father, is, dysfunctional, and, is, so,...</td>\n",
       "      <td>[father, dysfunctional, selfish, drags, kids, ...</td>\n",
       "    </tr>\n",
       "    <tr>\n",
       "      <th>1</th>\n",
       "      <td>2</td>\n",
       "      <td>0.0</td>\n",
       "      <td>thanks for lyft credit cannot use cause they d...</td>\n",
       "      <td>[thanks, for, lyft, credit, can, not, use, cau...</td>\n",
       "      <td>[thanks, lyft, credit, use, cause, offer, whee...</td>\n",
       "    </tr>\n",
       "    <tr>\n",
       "      <th>2</th>\n",
       "      <td>3</td>\n",
       "      <td>0.0</td>\n",
       "      <td>bihday your majesty</td>\n",
       "      <td>[bihday, your, majesty]</td>\n",
       "      <td>[bihday, majesty]</td>\n",
       "    </tr>\n",
       "    <tr>\n",
       "      <th>3</th>\n",
       "      <td>4</td>\n",
       "      <td>0.0</td>\n",
       "      <td>model love you take with you all the time in ur</td>\n",
       "      <td>[model, love, you, take, with, you, all, the, ...</td>\n",
       "      <td>[model, love, take, time, ur]</td>\n",
       "    </tr>\n",
       "    <tr>\n",
       "      <th>4</th>\n",
       "      <td>5</td>\n",
       "      <td>0.0</td>\n",
       "      <td>factsguide society now motivation</td>\n",
       "      <td>[factsguide, society, now, motivation]</td>\n",
       "      <td>[factsguide, society, motivation]</td>\n",
       "    </tr>\n",
       "  </tbody>\n",
       "</table>\n",
       "</div>"
      ],
      "text/plain": [
       "   id  label                                              tweet  \\\n",
       "0   1    0.0  when father is dysfunctional and is so selfish...   \n",
       "1   2    0.0  thanks for lyft credit cannot use cause they d...   \n",
       "2   3    0.0                                bihday your majesty   \n",
       "3   4    0.0    model love you take with you all the time in ur   \n",
       "4   5    0.0                  factsguide society now motivation   \n",
       "\n",
       "                                         tweet_token  \\\n",
       "0  [when, father, is, dysfunctional, and, is, so,...   \n",
       "1  [thanks, for, lyft, credit, can, not, use, cau...   \n",
       "2                            [bihday, your, majesty]   \n",
       "3  [model, love, you, take, with, you, all, the, ...   \n",
       "4             [factsguide, society, now, motivation]   \n",
       "\n",
       "                                tweet_token_filtered  \n",
       "0  [father, dysfunctional, selfish, drags, kids, ...  \n",
       "1  [thanks, lyft, credit, use, cause, offer, whee...  \n",
       "2                                  [bihday, majesty]  \n",
       "3                      [model, love, take, time, ur]  \n",
       "4                  [factsguide, society, motivation]  "
      ]
     },
     "execution_count": 39,
     "metadata": {},
     "output_type": "execute_result"
    }
   ],
   "source": [
    "combine_df['tweet_token_filtered'] = combine_df['tweet_token'].apply(_del_stopwords)\n",
    "combine_df.head()"
   ]
  },
  {
   "cell_type": "markdown",
   "id": "77d5ecaf",
   "metadata": {},
   "source": [
    "<p><a name=\"task_12\"></a></p>\n",
    "\n",
    "#### 12.Применим стемминг к токенам с помощью nltk.stem.PorterStemmer. Создадим столбец 'tweet_stemmed' после применения стемминга."
   ]
  },
  {
   "cell_type": "code",
   "execution_count": 40,
   "id": "33bf7285",
   "metadata": {},
   "outputs": [
    {
     "data": {
      "text/html": [
       "<div>\n",
       "<style scoped>\n",
       "    .dataframe tbody tr th:only-of-type {\n",
       "        vertical-align: middle;\n",
       "    }\n",
       "\n",
       "    .dataframe tbody tr th {\n",
       "        vertical-align: top;\n",
       "    }\n",
       "\n",
       "    .dataframe thead th {\n",
       "        text-align: right;\n",
       "    }\n",
       "</style>\n",
       "<table border=\"1\" class=\"dataframe\">\n",
       "  <thead>\n",
       "    <tr style=\"text-align: right;\">\n",
       "      <th></th>\n",
       "      <th>id</th>\n",
       "      <th>label</th>\n",
       "      <th>tweet</th>\n",
       "      <th>tweet_token</th>\n",
       "      <th>tweet_token_filtered</th>\n",
       "      <th>tweet_stemmed</th>\n",
       "    </tr>\n",
       "  </thead>\n",
       "  <tbody>\n",
       "    <tr>\n",
       "      <th>0</th>\n",
       "      <td>1</td>\n",
       "      <td>0.0</td>\n",
       "      <td>when father is dysfunctional and is so selfish...</td>\n",
       "      <td>[when, father, is, dysfunctional, and, is, so,...</td>\n",
       "      <td>[father, dysfunctional, selfish, drags, kids, ...</td>\n",
       "      <td>[father, dysfunct, selfish, drag, kid, dysfunc...</td>\n",
       "    </tr>\n",
       "    <tr>\n",
       "      <th>1</th>\n",
       "      <td>2</td>\n",
       "      <td>0.0</td>\n",
       "      <td>thanks for lyft credit cannot use cause they d...</td>\n",
       "      <td>[thanks, for, lyft, credit, can, not, use, cau...</td>\n",
       "      <td>[thanks, lyft, credit, use, cause, offer, whee...</td>\n",
       "      <td>[thank, lyft, credit, use, caus, offer, wheelc...</td>\n",
       "    </tr>\n",
       "    <tr>\n",
       "      <th>2</th>\n",
       "      <td>3</td>\n",
       "      <td>0.0</td>\n",
       "      <td>bihday your majesty</td>\n",
       "      <td>[bihday, your, majesty]</td>\n",
       "      <td>[bihday, majesty]</td>\n",
       "      <td>[bihday, majesti]</td>\n",
       "    </tr>\n",
       "    <tr>\n",
       "      <th>3</th>\n",
       "      <td>4</td>\n",
       "      <td>0.0</td>\n",
       "      <td>model love you take with you all the time in ur</td>\n",
       "      <td>[model, love, you, take, with, you, all, the, ...</td>\n",
       "      <td>[model, love, take, time, ur]</td>\n",
       "      <td>[model, love, take, time, ur]</td>\n",
       "    </tr>\n",
       "    <tr>\n",
       "      <th>4</th>\n",
       "      <td>5</td>\n",
       "      <td>0.0</td>\n",
       "      <td>factsguide society now motivation</td>\n",
       "      <td>[factsguide, society, now, motivation]</td>\n",
       "      <td>[factsguide, society, motivation]</td>\n",
       "      <td>[factsguid, societi, motiv]</td>\n",
       "    </tr>\n",
       "  </tbody>\n",
       "</table>\n",
       "</div>"
      ],
      "text/plain": [
       "   id  label                                              tweet  \\\n",
       "0   1    0.0  when father is dysfunctional and is so selfish...   \n",
       "1   2    0.0  thanks for lyft credit cannot use cause they d...   \n",
       "2   3    0.0                                bihday your majesty   \n",
       "3   4    0.0    model love you take with you all the time in ur   \n",
       "4   5    0.0                  factsguide society now motivation   \n",
       "\n",
       "                                         tweet_token  \\\n",
       "0  [when, father, is, dysfunctional, and, is, so,...   \n",
       "1  [thanks, for, lyft, credit, can, not, use, cau...   \n",
       "2                            [bihday, your, majesty]   \n",
       "3  [model, love, you, take, with, you, all, the, ...   \n",
       "4             [factsguide, society, now, motivation]   \n",
       "\n",
       "                                tweet_token_filtered  \\\n",
       "0  [father, dysfunctional, selfish, drags, kids, ...   \n",
       "1  [thanks, lyft, credit, use, cause, offer, whee...   \n",
       "2                                  [bihday, majesty]   \n",
       "3                      [model, love, take, time, ur]   \n",
       "4                  [factsguide, society, motivation]   \n",
       "\n",
       "                                       tweet_stemmed  \n",
       "0  [father, dysfunct, selfish, drag, kid, dysfunc...  \n",
       "1  [thank, lyft, credit, use, caus, offer, wheelc...  \n",
       "2                                  [bihday, majesti]  \n",
       "3                      [model, love, take, time, ur]  \n",
       "4                        [factsguid, societi, motiv]  "
      ]
     },
     "execution_count": 40,
     "metadata": {},
     "output_type": "execute_result"
    }
   ],
   "source": [
    "combine_df['tweet_stemmed'] = combine_df['tweet_token_filtered'].apply(_tweet_stemmer)\n",
    "combine_df.head()"
   ]
  },
  {
   "cell_type": "markdown",
   "id": "91569954",
   "metadata": {},
   "source": [
    "<p><a name=\"task_13\"></a></p>\n",
    "\n",
    "#### 13.Применим лемматизацию к токенам с помощью nltk.stem.wordnet.WordNetLemmatizer. Создадим столбец 'tweet_lemmatized' после применения лемматизации."
   ]
  },
  {
   "cell_type": "code",
   "execution_count": 41,
   "id": "25c647de-b244-43e9-baae-b8874539dca1",
   "metadata": {},
   "outputs": [],
   "source": [
    "# nltk.download('wordnet')"
   ]
  },
  {
   "cell_type": "code",
   "execution_count": 42,
   "id": "e725fb55",
   "metadata": {},
   "outputs": [
    {
     "data": {
      "text/html": [
       "<div>\n",
       "<style scoped>\n",
       "    .dataframe tbody tr th:only-of-type {\n",
       "        vertical-align: middle;\n",
       "    }\n",
       "\n",
       "    .dataframe tbody tr th {\n",
       "        vertical-align: top;\n",
       "    }\n",
       "\n",
       "    .dataframe thead th {\n",
       "        text-align: right;\n",
       "    }\n",
       "</style>\n",
       "<table border=\"1\" class=\"dataframe\">\n",
       "  <thead>\n",
       "    <tr style=\"text-align: right;\">\n",
       "      <th></th>\n",
       "      <th>id</th>\n",
       "      <th>label</th>\n",
       "      <th>tweet</th>\n",
       "      <th>tweet_token</th>\n",
       "      <th>tweet_token_filtered</th>\n",
       "      <th>tweet_stemmed</th>\n",
       "      <th>tweet_lemmatized</th>\n",
       "    </tr>\n",
       "  </thead>\n",
       "  <tbody>\n",
       "    <tr>\n",
       "      <th>0</th>\n",
       "      <td>1</td>\n",
       "      <td>0.0</td>\n",
       "      <td>when father is dysfunctional and is so selfish...</td>\n",
       "      <td>[when, father, is, dysfunctional, and, is, so,...</td>\n",
       "      <td>[father, dysfunctional, selfish, drags, kids, ...</td>\n",
       "      <td>[father, dysfunct, selfish, drag, kid, dysfunc...</td>\n",
       "      <td>[father, dysfunctional, selfish, drag, kid, dy...</td>\n",
       "    </tr>\n",
       "    <tr>\n",
       "      <th>1</th>\n",
       "      <td>2</td>\n",
       "      <td>0.0</td>\n",
       "      <td>thanks for lyft credit cannot use cause they d...</td>\n",
       "      <td>[thanks, for, lyft, credit, can, not, use, cau...</td>\n",
       "      <td>[thanks, lyft, credit, use, cause, offer, whee...</td>\n",
       "      <td>[thank, lyft, credit, use, caus, offer, wheelc...</td>\n",
       "      <td>[thanks, lyft, credit, use, cause, offer, whee...</td>\n",
       "    </tr>\n",
       "    <tr>\n",
       "      <th>2</th>\n",
       "      <td>3</td>\n",
       "      <td>0.0</td>\n",
       "      <td>bihday your majesty</td>\n",
       "      <td>[bihday, your, majesty]</td>\n",
       "      <td>[bihday, majesty]</td>\n",
       "      <td>[bihday, majesti]</td>\n",
       "      <td>[bihday, majesty]</td>\n",
       "    </tr>\n",
       "    <tr>\n",
       "      <th>3</th>\n",
       "      <td>4</td>\n",
       "      <td>0.0</td>\n",
       "      <td>model love you take with you all the time in ur</td>\n",
       "      <td>[model, love, you, take, with, you, all, the, ...</td>\n",
       "      <td>[model, love, take, time, ur]</td>\n",
       "      <td>[model, love, take, time, ur]</td>\n",
       "      <td>[model, love, take, time, ur]</td>\n",
       "    </tr>\n",
       "    <tr>\n",
       "      <th>4</th>\n",
       "      <td>5</td>\n",
       "      <td>0.0</td>\n",
       "      <td>factsguide society now motivation</td>\n",
       "      <td>[factsguide, society, now, motivation]</td>\n",
       "      <td>[factsguide, society, motivation]</td>\n",
       "      <td>[factsguid, societi, motiv]</td>\n",
       "      <td>[factsguide, society, motivation]</td>\n",
       "    </tr>\n",
       "  </tbody>\n",
       "</table>\n",
       "</div>"
      ],
      "text/plain": [
       "   id  label                                              tweet  \\\n",
       "0   1    0.0  when father is dysfunctional and is so selfish...   \n",
       "1   2    0.0  thanks for lyft credit cannot use cause they d...   \n",
       "2   3    0.0                                bihday your majesty   \n",
       "3   4    0.0    model love you take with you all the time in ur   \n",
       "4   5    0.0                  factsguide society now motivation   \n",
       "\n",
       "                                         tweet_token  \\\n",
       "0  [when, father, is, dysfunctional, and, is, so,...   \n",
       "1  [thanks, for, lyft, credit, can, not, use, cau...   \n",
       "2                            [bihday, your, majesty]   \n",
       "3  [model, love, you, take, with, you, all, the, ...   \n",
       "4             [factsguide, society, now, motivation]   \n",
       "\n",
       "                                tweet_token_filtered  \\\n",
       "0  [father, dysfunctional, selfish, drags, kids, ...   \n",
       "1  [thanks, lyft, credit, use, cause, offer, whee...   \n",
       "2                                  [bihday, majesty]   \n",
       "3                      [model, love, take, time, ur]   \n",
       "4                  [factsguide, society, motivation]   \n",
       "\n",
       "                                       tweet_stemmed  \\\n",
       "0  [father, dysfunct, selfish, drag, kid, dysfunc...   \n",
       "1  [thank, lyft, credit, use, caus, offer, wheelc...   \n",
       "2                                  [bihday, majesti]   \n",
       "3                      [model, love, take, time, ur]   \n",
       "4                        [factsguid, societi, motiv]   \n",
       "\n",
       "                                    tweet_lemmatized  \n",
       "0  [father, dysfunctional, selfish, drag, kid, dy...  \n",
       "1  [thanks, lyft, credit, use, cause, offer, whee...  \n",
       "2                                  [bihday, majesty]  \n",
       "3                      [model, love, take, time, ur]  \n",
       "4                  [factsguide, society, motivation]  "
      ]
     },
     "execution_count": 42,
     "metadata": {},
     "output_type": "execute_result"
    }
   ],
   "source": [
    "combine_df['tweet_lemmatized'] = combine_df['tweet_token_filtered'].apply(_tweet_lemmatizer)\n",
    "combine_df.head()"
   ]
  },
  {
   "cell_type": "markdown",
   "id": "4b7fa940",
   "metadata": {},
   "source": [
    "<p><a name=\"task_14\"></a></p>\n",
    "\n",
    "#### 14.Сохраним результат предобработки в pickle-файл. "
   ]
  },
  {
   "cell_type": "code",
   "execution_count": 43,
   "id": "1599c8c8",
   "metadata": {},
   "outputs": [],
   "source": [
    "with open('preprocessing_tweets_hw1.pkl', 'wb+') as f:\n",
    "    pickle.dump(combine_df, f)"
   ]
  },
  {
   "cell_type": "code",
   "execution_count": 44,
   "id": "60ec8c36-486f-45ef-953d-d0a109d2c56b",
   "metadata": {},
   "outputs": [
    {
     "data": {
      "text/html": [
       "<div>\n",
       "<style scoped>\n",
       "    .dataframe tbody tr th:only-of-type {\n",
       "        vertical-align: middle;\n",
       "    }\n",
       "\n",
       "    .dataframe tbody tr th {\n",
       "        vertical-align: top;\n",
       "    }\n",
       "\n",
       "    .dataframe thead th {\n",
       "        text-align: right;\n",
       "    }\n",
       "</style>\n",
       "<table border=\"1\" class=\"dataframe\">\n",
       "  <thead>\n",
       "    <tr style=\"text-align: right;\">\n",
       "      <th></th>\n",
       "      <th>id</th>\n",
       "      <th>label</th>\n",
       "      <th>tweet</th>\n",
       "      <th>tweet_token</th>\n",
       "      <th>tweet_token_filtered</th>\n",
       "      <th>tweet_stemmed</th>\n",
       "      <th>tweet_lemmatized</th>\n",
       "    </tr>\n",
       "  </thead>\n",
       "  <tbody>\n",
       "    <tr>\n",
       "      <th>0</th>\n",
       "      <td>1</td>\n",
       "      <td>0.0</td>\n",
       "      <td>when father is dysfunctional and is so selfish...</td>\n",
       "      <td>[when, father, is, dysfunctional, and, is, so,...</td>\n",
       "      <td>[father, dysfunctional, selfish, drags, kids, ...</td>\n",
       "      <td>[father, dysfunct, selfish, drag, kid, dysfunc...</td>\n",
       "      <td>[father, dysfunctional, selfish, drag, kid, dy...</td>\n",
       "    </tr>\n",
       "    <tr>\n",
       "      <th>1</th>\n",
       "      <td>2</td>\n",
       "      <td>0.0</td>\n",
       "      <td>thanks for lyft credit cannot use cause they d...</td>\n",
       "      <td>[thanks, for, lyft, credit, can, not, use, cau...</td>\n",
       "      <td>[thanks, lyft, credit, use, cause, offer, whee...</td>\n",
       "      <td>[thank, lyft, credit, use, caus, offer, wheelc...</td>\n",
       "      <td>[thanks, lyft, credit, use, cause, offer, whee...</td>\n",
       "    </tr>\n",
       "    <tr>\n",
       "      <th>2</th>\n",
       "      <td>3</td>\n",
       "      <td>0.0</td>\n",
       "      <td>bihday your majesty</td>\n",
       "      <td>[bihday, your, majesty]</td>\n",
       "      <td>[bihday, majesty]</td>\n",
       "      <td>[bihday, majesti]</td>\n",
       "      <td>[bihday, majesty]</td>\n",
       "    </tr>\n",
       "    <tr>\n",
       "      <th>3</th>\n",
       "      <td>4</td>\n",
       "      <td>0.0</td>\n",
       "      <td>model love you take with you all the time in ur</td>\n",
       "      <td>[model, love, you, take, with, you, all, the, ...</td>\n",
       "      <td>[model, love, take, time, ur]</td>\n",
       "      <td>[model, love, take, time, ur]</td>\n",
       "      <td>[model, love, take, time, ur]</td>\n",
       "    </tr>\n",
       "    <tr>\n",
       "      <th>4</th>\n",
       "      <td>5</td>\n",
       "      <td>0.0</td>\n",
       "      <td>factsguide society now motivation</td>\n",
       "      <td>[factsguide, society, now, motivation]</td>\n",
       "      <td>[factsguide, society, motivation]</td>\n",
       "      <td>[factsguid, societi, motiv]</td>\n",
       "      <td>[factsguide, society, motivation]</td>\n",
       "    </tr>\n",
       "  </tbody>\n",
       "</table>\n",
       "</div>"
      ],
      "text/plain": [
       "   id  label                                              tweet  \\\n",
       "0   1    0.0  when father is dysfunctional and is so selfish...   \n",
       "1   2    0.0  thanks for lyft credit cannot use cause they d...   \n",
       "2   3    0.0                                bihday your majesty   \n",
       "3   4    0.0    model love you take with you all the time in ur   \n",
       "4   5    0.0                  factsguide society now motivation   \n",
       "\n",
       "                                         tweet_token  \\\n",
       "0  [when, father, is, dysfunctional, and, is, so,...   \n",
       "1  [thanks, for, lyft, credit, can, not, use, cau...   \n",
       "2                            [bihday, your, majesty]   \n",
       "3  [model, love, you, take, with, you, all, the, ...   \n",
       "4             [factsguide, society, now, motivation]   \n",
       "\n",
       "                                tweet_token_filtered  \\\n",
       "0  [father, dysfunctional, selfish, drags, kids, ...   \n",
       "1  [thanks, lyft, credit, use, cause, offer, whee...   \n",
       "2                                  [bihday, majesty]   \n",
       "3                      [model, love, take, time, ur]   \n",
       "4                  [factsguide, society, motivation]   \n",
       "\n",
       "                                       tweet_stemmed  \\\n",
       "0  [father, dysfunct, selfish, drag, kid, dysfunc...   \n",
       "1  [thank, lyft, credit, use, caus, offer, wheelc...   \n",
       "2                                  [bihday, majesti]   \n",
       "3                      [model, love, take, time, ur]   \n",
       "4                        [factsguid, societi, motiv]   \n",
       "\n",
       "                                    tweet_lemmatized  \n",
       "0  [father, dysfunctional, selfish, drag, kid, dy...  \n",
       "1  [thanks, lyft, credit, use, cause, offer, whee...  \n",
       "2                                  [bihday, majesty]  \n",
       "3                      [model, love, take, time, ur]  \n",
       "4                  [factsguide, society, motivation]  "
      ]
     },
     "execution_count": 44,
     "metadata": {},
     "output_type": "execute_result"
    }
   ],
   "source": [
    "with open('preprocessing_tweets_hw1.pkl', 'rb') as f:\n",
    "    data = pickle.load(f)\n",
    "\n",
    "data.head()"
   ]
  },
  {
   "cell_type": "code",
   "execution_count": null,
   "id": "e58e72b8-8f88-469c-8797-8ab11d06cb0f",
   "metadata": {},
   "outputs": [],
   "source": []
  }
 ],
 "metadata": {
  "kernelspec": {
   "display_name": "Python 3",
   "language": "python",
   "name": "python3"
  },
  "language_info": {
   "codemirror_mode": {
    "name": "ipython",
    "version": 3
   },
   "file_extension": ".py",
   "mimetype": "text/x-python",
   "name": "python",
   "nbconvert_exporter": "python",
   "pygments_lexer": "ipython3",
   "version": "3.8.11"
  }
 },
 "nbformat": 4,
 "nbformat_minor": 5
}
