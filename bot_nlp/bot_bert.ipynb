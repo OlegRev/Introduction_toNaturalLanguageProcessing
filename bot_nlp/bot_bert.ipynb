{
 "cells": [
  {
   "cell_type": "code",
   "execution_count": 1,
   "id": "2d720b68-06c4-4d49-8414-afd69b2a2d7b",
   "metadata": {},
   "outputs": [],
   "source": [
    "# -- coding: utf-8 -\n",
    "import string\n",
    "import nltk\n",
    "import annoy\n",
    "import pickle\n",
    "import numpy as np\n",
    "import tensorflow as tf\n",
    "import logging\n",
    "# import dialogflow\n",
    "# import tqdm\n",
    "\n",
    "# from tqdm import tqdm_notebook\n",
    "from pymorphy2 import MorphAnalyzer\n",
    "from stop_words import get_stop_words\n",
    "from transformers import TFAutoModel, AutoTokenizer\n",
    "from bot_config.bot_config import token_bot # Telegram TOKEN\n",
    "from telegram import Update\n",
    "from telegram.ext import (\n",
    "    Updater,\n",
    "    CommandHandler,\n",
    "    MessageHandler,\n",
    "    Filters,\n",
    "    CallbackContext,\n",
    ")\n"
   ]
  },
  {
   "cell_type": "code",
   "execution_count": 2,
   "id": "b1120dbe-90f8-4ca3-82e9-b4a88d16f9a2",
   "metadata": {},
   "outputs": [
    {
     "name": "stderr",
     "output_type": "stream",
     "text": [
      "2021-11-06 20:55:19.204327: I tensorflow/compiler/jit/xla_cpu_device.cc:41] Not creating XLA devices, tf_xla_enable_xla_devices not set\n",
      "2021-11-06 20:55:19.204703: I tensorflow/core/platform/cpu_feature_guard.cc:142] This TensorFlow binary is optimized with oneAPI Deep Neural Network Library (oneDNN) to use the following CPU instructions in performance-critical operations:  SSE4.1 SSE4.2 AVX AVX2 FMA\n",
      "To enable them in other operations, rebuild TensorFlow with the appropriate compiler flags.\n",
      "2021-11-06 20:55:19.206423: I tensorflow/core/common_runtime/process_util.cc:146] Creating new thread pool with default inter op setting: 2. Tune using inter_op_parallelism_threads for best performance.\n",
      "All model checkpoint layers were used when initializing TFBertModel.\n",
      "\n",
      "All the layers of TFBertModel were initialized from the model checkpoint at ./data/bert/.\n",
      "If your task is similar to the task the model of the checkpoint was trained on, you can already use TFBertModel for predictions without further training.\n"
     ]
    }
   ],
   "source": [
    "morpher = MorphAnalyzer()\n",
    "sw = set(get_stop_words(\"ru\") + nltk.corpus.stopwords.words(\"russian\"))\n",
    "exclude = set(string.punctuation)\n",
    "\n",
    "bert = TFAutoModel.from_pretrained(\"./data/bert/\")\n",
    "tokenizer = AutoTokenizer.from_pretrained(\"./data/tokenizer/\")\n",
    "\n",
    "bert_index = annoy.AnnoyIndex(768, \"angular\")\n",
    "bert_index.load(\"./data/bert/bert_index\")\n",
    "with open(\"./data/pickle_files/index_map.pkl\", \"rb\") as read_file:\n",
    "    index_map = pickle.load(read_file)\n"
   ]
  },
  {
   "cell_type": "code",
   "execution_count": 3,
   "id": "aa390fc3-cf43-428f-8723-d5014718397d",
   "metadata": {},
   "outputs": [],
   "source": [
    "updater = Updater(token_bot, use_context=True)\n",
    "dispatcher = updater.dispatcher\n"
   ]
  },
  {
   "cell_type": "code",
   "execution_count": 4,
   "id": "4e64ffef-260d-41bb-968e-4509db85c8ba",
   "metadata": {},
   "outputs": [],
   "source": [
    "def startCommand(update: Update, context: CallbackContext):\n",
    "    update.message.reply_text('Добрый день!')\n",
    "\n",
    "    \n",
    "def preprocess_txt(line):\n",
    "    spls = \"\".join(i for i in line.strip() if i not in exclude).split()\n",
    "    spls = [morpher.parse(i.lower())[0].normal_form for i in spls]\n",
    "    spls = [i for i in spls if i not in sw and i != \"\"]\n",
    "    return \" \".join(spls)\n",
    "\n",
    "def get_answer(\n",
    "    question,\n",
    "    index,\n",
    "    index_map,\n",
    "    probability_of_choice=[\n",
    "        0.2,\n",
    "        0.175,\n",
    "        0.15,\n",
    "        0.125,\n",
    "        0.1,\n",
    "        0.075,\n",
    "        0.05,\n",
    "        0.05,\n",
    "        0.05,\n",
    "        0.025,\n",
    "    ],\n",
    "    size=3,\n",
    "):\n",
    "    question = preprocess_txt(question)\n",
    "    tok = tokenizer(question, return_token_type_ids=False, return_tensors=\"tf\")\n",
    "    vector = bert(**tok)[1].numpy()[0]\n",
    "    answers = index.get_nns_by_vector(vector, 10)\n",
    "    # return [index_map[i] for i in answers]\n",
    "    result = np.random.choice(\n",
    "        [index_map[i] for i in answers],\n",
    "        size=size,\n",
    "        replace=False,\n",
    "        p=probability_of_choice,\n",
    "    ).tolist()\n",
    "    \n",
    "    return result\n",
    "\n",
    "\n",
    "def textMessage(update: Update, context: CallbackContext):\n",
    "    message = update.message\n",
    "    question = message.text \n",
    "    # print(question)\n",
    "    result = get_answer(question, bert_index, index_map, size=1)\n",
    "    # print(result)\n",
    "    for item in result:\n",
    "        update.message.reply_text(item)\n",
    "    # bot.send_message(chat_id=update.message.chat_id, text=\"question: {} answer: {}\".format(question, answer))\n",
    "    return "
   ]
  },
  {
   "cell_type": "code",
   "execution_count": null,
   "id": "aaa9e186-f832-4740-81ab-efd6b51d2150",
   "metadata": {},
   "outputs": [],
   "source": [
    "# on different commands - answer in Telegram\n",
    "dispatcher.add_handler(CommandHandler(\"start\", startCommand))\n",
    "dispatcher.add_handler(MessageHandler(Filters.text & ~Filters.command, textMessage))\n",
    "\n",
    "# Start the Bot\n",
    "updater.start_polling()\n",
    "updater.idle()"
   ]
  },
  {
   "cell_type": "code",
   "execution_count": null,
   "id": "6f3f73a1-acf3-499e-ad01-682270094a15",
   "metadata": {},
   "outputs": [],
   "source": []
  }
 ],
 "metadata": {
  "kernelspec": {
   "display_name": "Python 3",
   "language": "python",
   "name": "python3"
  },
  "language_info": {
   "codemirror_mode": {
    "name": "ipython",
    "version": 3
   },
   "file_extension": ".py",
   "mimetype": "text/x-python",
   "name": "python",
   "nbconvert_exporter": "python",
   "pygments_lexer": "ipython3",
   "version": "3.9.7"
  }
 },
 "nbformat": 4,
 "nbformat_minor": 5
}
