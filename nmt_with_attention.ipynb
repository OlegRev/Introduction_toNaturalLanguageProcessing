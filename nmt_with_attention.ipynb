{
  "nbformat": 4,
  "nbformat_minor": 0,
  "metadata": {
    "accelerator": "GPU",
    "colab": {
      "name": "nmt_with_attention.ipynb",
      "provenance": [],
      "collapsed_sections": []
    },
    "kernelspec": {
      "display_name": "Python 3",
      "name": "python3"
    }
  },
  "cells": [
    {
      "cell_type": "markdown",
      "metadata": {
        "id": "J0Qjg6vuaHNt"
      },
      "source": [
        "# Neural machine translation with attention"
      ]
    },
    {
      "cell_type": "code",
      "metadata": {
        "id": "tnxXKDjq3jEL"
      },
      "source": [
        "import tensorflow as tf\n",
        "\n",
        "import matplotlib.pyplot as plt\n",
        "import matplotlib.ticker as ticker\n",
        "from sklearn.model_selection import train_test_split\n",
        "\n",
        "import unicodedata\n",
        "import re\n",
        "import numpy as np\n",
        "import os\n",
        "import io\n",
        "import time"
      ],
      "execution_count": 1,
      "outputs": []
    },
    {
      "cell_type": "code",
      "metadata": {
        "id": "2Mt1WI-2Vd-Z"
      },
      "source": [
        ""
      ],
      "execution_count": 1,
      "outputs": []
    },
    {
      "cell_type": "markdown",
      "metadata": {
        "id": "wfodePkj3jEa"
      },
      "source": [
        "## Download and prepare the dataset\n",
        "\n",
        "We'll use a language dataset provided by http://www.manythings.org/anki/"
      ]
    },
    {
      "cell_type": "code",
      "metadata": {
        "id": "CNvjhDyAKk3U",
        "colab": {
          "base_uri": "https://localhost:8080/"
        },
        "outputId": "323028b7-edd5-4042-ca30-9921481f57ea"
      },
      "source": [
        "!wget http://www.manythings.org/anki/rus-eng.zip"
      ],
      "execution_count": 2,
      "outputs": [
        {
          "output_type": "stream",
          "name": "stdout",
          "text": [
            "--2021-10-07 12:43:45--  http://www.manythings.org/anki/rus-eng.zip\n",
            "Resolving www.manythings.org (www.manythings.org)... 104.21.92.44, 172.67.186.54, 2606:4700:3033::ac43:ba36, ...\n",
            "Connecting to www.manythings.org (www.manythings.org)|104.21.92.44|:80... connected.\n",
            "HTTP request sent, awaiting response... 200 OK\n",
            "Length: 14385451 (14M) [application/zip]\n",
            "Saving to: ‘rus-eng.zip’\n",
            "\n",
            "rus-eng.zip         100%[===================>]  13.72M  --.-KB/s    in 0.1s    \n",
            "\n",
            "2021-10-07 12:43:45 (100 MB/s) - ‘rus-eng.zip’ saved [14385451/14385451]\n",
            "\n"
          ]
        }
      ]
    },
    {
      "cell_type": "code",
      "metadata": {
        "id": "83bg17Lr-7XK",
        "colab": {
          "base_uri": "https://localhost:8080/"
        },
        "outputId": "1f7fdbff-2102-4321-b940-d7fb16cdd795"
      },
      "source": [
        "!mkdir rus-eng\n",
        "!unzip rus-eng.zip -d rus-eng/"
      ],
      "execution_count": 3,
      "outputs": [
        {
          "output_type": "stream",
          "name": "stdout",
          "text": [
            "Archive:  rus-eng.zip\n",
            "  inflating: rus-eng/rus.txt         \n",
            "  inflating: rus-eng/_about.txt      \n"
          ]
        }
      ]
    },
    {
      "cell_type": "code",
      "metadata": {
        "id": "7o5L92efMMhf",
        "colab": {
          "base_uri": "https://localhost:8080/"
        },
        "outputId": "14d84afe-a647-421c-82c0-d1b076f69ddc"
      },
      "source": [
        "!ls /content/rus-eng/ -lah"
      ],
      "execution_count": 4,
      "outputs": [
        {
          "output_type": "stream",
          "name": "stdout",
          "text": [
            "total 69M\n",
            "drwxr-xr-x 2 root root 4.0K Oct  7 12:43 .\n",
            "drwxr-xr-x 1 root root 4.0K Oct  7 12:43 ..\n",
            "-rw-r--r-- 1 root root 1.5K Jul 14 10:16 _about.txt\n",
            "-rw-r--r-- 1 root root  69M Jul 14 10:16 rus.txt\n"
          ]
        }
      ]
    },
    {
      "cell_type": "code",
      "metadata": {
        "id": "kRVATYOgJs1b"
      },
      "source": [
        "# Download the file\n",
        "path_to_file = \"/content/rus-eng/rus.txt\""
      ],
      "execution_count": 5,
      "outputs": []
    },
    {
      "cell_type": "code",
      "metadata": {
        "id": "rd0jw-eC3jEh"
      },
      "source": [
        "def preprocess_sentence(w):\n",
        "  w = w.lower().strip()\n",
        "\n",
        "  # creating a space between a word and the punctuation following it\n",
        "  # eg: \"he is a boy.\" => \"he is a boy .\"\n",
        "  # Reference:- https://stackoverflow.com/questions/3645931/python-padding-punctuation-with-white-spaces-keeping-punctuation\n",
        "  w = re.sub(r\"([?.!,])\", r\" \\1 \", w)\n",
        "  w = re.sub(r'[\" \"]+', \" \", w)\n",
        "\n",
        "  # replacing everything with space except (a-z, A-Z, \".\", \"?\", \"!\", \",\")\n",
        "  w = re.sub(r\"[^a-zA-Zа-яА-Я?.!,']+\", \" \", w)\n",
        "\n",
        "  w = w.strip()\n",
        "\n",
        "  # adding a start and an end token to the sentence\n",
        "  # so that the model know when to start and stop predicting.\n",
        "  w = '<start> ' + w + ' <end>'\n",
        "  return w"
      ],
      "execution_count": 6,
      "outputs": []
    },
    {
      "cell_type": "code",
      "metadata": {
        "id": "yV9lZXQXNbnH",
        "colab": {
          "base_uri": "https://localhost:8080/",
          "height": 36
        },
        "outputId": "d98a05ad-ff49-43fa-df4c-4859c00134c9"
      },
      "source": [
        "preprocess_sentence(\"I can't go.\")"
      ],
      "execution_count": 7,
      "outputs": [
        {
          "output_type": "execute_result",
          "data": {
            "application/vnd.google.colaboratory.intrinsic+json": {
              "type": "string"
            },
            "text/plain": [
              "\"<start> i can't go . <end>\""
            ]
          },
          "metadata": {},
          "execution_count": 7
        }
      ]
    },
    {
      "cell_type": "code",
      "metadata": {
        "id": "OHn4Dct23jEm"
      },
      "source": [
        "# 1. Remove the accents\n",
        "# 2. Clean the sentences\n",
        "# 3. Return word pairs in the format: [ENG, RUS]\n",
        "def create_dataset(path, num_examples):\n",
        "  lines = io.open(path, encoding='UTF-8').read().strip().split('\\n')\n",
        "\n",
        "  word_pairs = [[preprocess_sentence(w) for w in l.split('\\t')[:2]]  for l in lines[:num_examples]]\n",
        "\n",
        "  return zip(*word_pairs)"
      ],
      "execution_count": 8,
      "outputs": []
    },
    {
      "cell_type": "code",
      "metadata": {
        "id": "cTbSbBz55QtF",
        "colab": {
          "base_uri": "https://localhost:8080/"
        },
        "outputId": "a9622604-6a8d-4947-b887-a9d08bd4a912"
      },
      "source": [
        "en, ru = create_dataset(path_to_file, None)\n",
        "print(en[-1])\n",
        "print(ru[-1])"
      ],
      "execution_count": 9,
      "outputs": [
        {
          "output_type": "stream",
          "name": "stdout",
          "text": [
            "<start> doubtless there exists in this world precisely the right woman for any given man to marry and vice versa but when you consider that a human being has the opportunity of being acquainted with only a few hundred people , and out of the few hundred that there are but a dozen or less whom he knows intimately , and out of the dozen , one or two friends at most , it will easily be seen , when we remember the number of millions who inhabit this world , that probably , since the earth was created , the right man has never yet met the right woman . <end>\n",
            "<start> несомненно , для каждого мужчины в этом мире где то есть подходящая женщина , которая может стать ему женой , обратное верно и для женщин . но если учесть , что у человека может быть максимум несколько сотен знакомых , из которых лишь дюжина , а то и меньше , тех , кого он знает близко , а из этой дюжины у него один или от силы два друга , то можно легко увидеть , что с уч том миллионов живущих на земле людей , ни один подходящий мужчина , возможно , ещ не встретил подходящую женщину . <end>\n"
          ]
        }
      ]
    },
    {
      "cell_type": "code",
      "metadata": {
        "id": "bIOn8RCNDJXG"
      },
      "source": [
        "def tokenize(lang):\n",
        "  lang_tokenizer = tf.keras.preprocessing.text.Tokenizer(\n",
        "      filters='')\n",
        "  lang_tokenizer.fit_on_texts(lang)\n",
        "\n",
        "  tensor = lang_tokenizer.texts_to_sequences(lang)\n",
        "\n",
        "  tensor = tf.keras.preprocessing.sequence.pad_sequences(tensor,\n",
        "                                                         padding='post')\n",
        "\n",
        "  return tensor, lang_tokenizer"
      ],
      "execution_count": 10,
      "outputs": []
    },
    {
      "cell_type": "code",
      "metadata": {
        "id": "eAY9k49G3jE_"
      },
      "source": [
        "def load_dataset(path, num_examples=None):\n",
        "  # creating cleaned input, output pairs\n",
        "  targ_lang, inp_lang = create_dataset(path, num_examples)\n",
        "\n",
        "  input_tensor, inp_lang_tokenizer = tokenize(inp_lang)\n",
        "  target_tensor, targ_lang_tokenizer = tokenize(targ_lang)\n",
        "\n",
        "  return input_tensor, target_tensor, inp_lang_tokenizer, targ_lang_tokenizer"
      ],
      "execution_count": 11,
      "outputs": []
    },
    {
      "cell_type": "markdown",
      "metadata": {
        "id": "GOi42V79Ydlr"
      },
      "source": [
        "### Limit the size of the dataset to experiment faster (optional)\n"
      ]
    },
    {
      "cell_type": "code",
      "metadata": {
        "id": "C8j9g9AnIeZV",
        "colab": {
          "base_uri": "https://localhost:8080/"
        },
        "outputId": "cbff0e20-c40a-4ff9-e94b-548f9535d934"
      },
      "source": [
        "len(en), len(ru)"
      ],
      "execution_count": 12,
      "outputs": [
        {
          "output_type": "execute_result",
          "data": {
            "text/plain": [
              "(431097, 431097)"
            ]
          },
          "metadata": {},
          "execution_count": 12
        }
      ]
    },
    {
      "cell_type": "code",
      "metadata": {
        "id": "cnxC7q-j3jFD"
      },
      "source": [
        "# Try experimenting with the size of that dataset\n",
        "num_examples = 100000\n",
        "input_tensor, target_tensor, inp_lang, targ_lang = load_dataset(path_to_file, num_examples)\n",
        "\n",
        "# Calculate max_length of the target tensors\n",
        "max_length_targ, max_length_inp = target_tensor.shape[1], input_tensor.shape[1]"
      ],
      "execution_count": 13,
      "outputs": []
    },
    {
      "cell_type": "code",
      "metadata": {
        "id": "4QILQkOs3jFG",
        "colab": {
          "base_uri": "https://localhost:8080/"
        },
        "outputId": "3563224a-9e8a-45fd-8b3d-482471d7fc53"
      },
      "source": [
        "# Creating training and validation sets using an 80-20 split\n",
        "input_tensor_train, input_tensor_val, target_tensor_train, target_tensor_val = train_test_split(input_tensor, target_tensor, test_size=0.2)\n",
        "\n",
        "# Show length\n",
        "print(len(input_tensor_train), len(target_tensor_train), len(input_tensor_val), len(target_tensor_val))"
      ],
      "execution_count": 14,
      "outputs": [
        {
          "output_type": "stream",
          "name": "stdout",
          "text": [
            "80000 80000 20000 20000\n"
          ]
        }
      ]
    },
    {
      "cell_type": "code",
      "metadata": {
        "id": "lJPmLZGMeD5q"
      },
      "source": [
        "def convert(lang, tensor):\n",
        "  for t in tensor:\n",
        "    if t!=0:\n",
        "      print (\"%d ----> %s\" % (t, lang.index_word[t]))"
      ],
      "execution_count": 15,
      "outputs": []
    },
    {
      "cell_type": "code",
      "metadata": {
        "id": "VXukARTDd7MT",
        "colab": {
          "base_uri": "https://localhost:8080/"
        },
        "outputId": "ab97e449-1e80-4c64-f10a-3183d44420da"
      },
      "source": [
        "print (\"Input Language; index to word mapping\")\n",
        "convert(inp_lang, input_tensor_train[0])\n",
        "print ()\n",
        "print (\"Target Language; index to word mapping\")\n",
        "convert(targ_lang, target_tensor_train[0])"
      ],
      "execution_count": 16,
      "outputs": [
        {
          "output_type": "stream",
          "name": "stdout",
          "text": [
            "Input Language; index to word mapping\n",
            "1 ----> <start>\n",
            "90 ----> там\n",
            "14380 ----> спокойнее\n",
            "3 ----> .\n",
            "2 ----> <end>\n",
            "\n",
            "Target Language; index to word mapping\n",
            "1 ----> <start>\n",
            "30 ----> it's\n",
            "2213 ----> safer\n",
            "75 ----> there\n",
            "3 ----> .\n",
            "2 ----> <end>\n"
          ]
        }
      ]
    },
    {
      "cell_type": "markdown",
      "metadata": {
        "id": "rgCLkfv5uO3d"
      },
      "source": [
        "### Create a tf.data dataset"
      ]
    },
    {
      "cell_type": "code",
      "metadata": {
        "id": "TqHsArVZ3jFS"
      },
      "source": [
        "BUFFER_SIZE = len(input_tensor_train)\n",
        "BATCH_SIZE = 64\n",
        "steps_per_epoch = len(input_tensor_train)//BATCH_SIZE\n",
        "embedding_dim = 256\n",
        "units = 1024\n",
        "vocab_inp_size = len(inp_lang.word_index)+1\n",
        "vocab_tar_size = len(targ_lang.word_index)+1\n",
        "\n",
        "dataset = tf.data.Dataset.from_tensor_slices((input_tensor_train, target_tensor_train)).shuffle(BUFFER_SIZE)\n",
        "dataset = dataset.batch(BATCH_SIZE, drop_remainder=True)"
      ],
      "execution_count": 17,
      "outputs": []
    },
    {
      "cell_type": "code",
      "metadata": {
        "id": "qc6-NK1GtWQt",
        "colab": {
          "base_uri": "https://localhost:8080/"
        },
        "outputId": "81b942fd-7be7-44f6-83e5-b3634524f30b"
      },
      "source": [
        "example_input_batch, example_target_batch = next(iter(dataset))\n",
        "example_input_batch.shape, example_target_batch.shape"
      ],
      "execution_count": 18,
      "outputs": [
        {
          "output_type": "execute_result",
          "data": {
            "text/plain": [
              "(TensorShape([64, 15]), TensorShape([64, 11]))"
            ]
          },
          "metadata": {},
          "execution_count": 18
        }
      ]
    },
    {
      "cell_type": "code",
      "metadata": {
        "id": "nZ2rI24i3jFg"
      },
      "source": [
        "class Encoder(tf.keras.Model):\n",
        "  def __init__(self, vocab_size, embedding_dim, enc_units, batch_sz):\n",
        "    super(Encoder, self).__init__()\n",
        "    self.batch_sz = batch_sz\n",
        "    self.enc_units = enc_units\n",
        "    self.embedding = tf.keras.layers.Embedding(vocab_size, embedding_dim)\n",
        "    self.gru = tf.keras.layers.GRU(self.enc_units,\n",
        "                                   return_sequences=True,\n",
        "                                   return_state=True,\n",
        "                                   recurrent_initializer='glorot_uniform')\n",
        "\n",
        "  def call(self, x, hidden):\n",
        "    x = self.embedding(x)\n",
        "    output, state = self.gru(x, initial_state = hidden)\n",
        "    return output, state\n",
        "\n",
        "  def initialize_hidden_state(self):\n",
        "    return tf.zeros((self.batch_sz, self.enc_units))"
      ],
      "execution_count": 19,
      "outputs": []
    },
    {
      "cell_type": "code",
      "metadata": {
        "id": "60gSVh05Jl6l",
        "colab": {
          "base_uri": "https://localhost:8080/"
        },
        "outputId": "a613eeb5-d053-4cd2-9c25-9c828ef0dce2"
      },
      "source": [
        "encoder = Encoder(vocab_inp_size, embedding_dim, units, BATCH_SIZE)\n",
        "\n",
        "# sample input\n",
        "sample_hidden = encoder.initialize_hidden_state()\n",
        "sample_output, sample_hidden = encoder(example_input_batch, sample_hidden)\n",
        "print ('Encoder output shape: (batch size, sequence length, units) {}'.format(sample_output.shape))\n",
        "print ('Encoder Hidden state shape: (batch size, units) {}'.format(sample_hidden.shape))"
      ],
      "execution_count": 20,
      "outputs": [
        {
          "output_type": "stream",
          "name": "stdout",
          "text": [
            "Encoder output shape: (batch size, sequence length, units) (64, 15, 1024)\n",
            "Encoder Hidden state shape: (batch size, units) (64, 1024)\n"
          ]
        }
      ]
    },
    {
      "cell_type": "code",
      "metadata": {
        "id": "YTyhL28Niqk1"
      },
      "source": [
        "class BahdanauAttention(tf.keras.layers.Layer):\n",
        "  def __init__(self, units):\n",
        "    super(BahdanauAttention, self).__init__()\n",
        "    self.W1 = tf.keras.layers.Dense(units)\n",
        "    self.W2 = tf.keras.layers.Dense(units)\n",
        "    self.V = tf.keras.layers.Dense(1)\n",
        "\n",
        "  def call(self, query, values):\n",
        "    # query hidden state shape == (batch_size, hidden size)\n",
        "    # query_with_time_axis shape == (batch_size, 1, hidden size)\n",
        "    # values shape == (batch_size, max_len, hidden size)\n",
        "    # we are doing this to broadcast addition along the time axis to calculate the score\n",
        "    query_with_time_axis = tf.expand_dims(query, 1)\n",
        "\n",
        "    # score shape == (batch_size, max_length, 1)\n",
        "    # we get 1 at the last axis because we are applying score to self.V\n",
        "    # the shape of the tensor before applying self.V is (batch_size, max_length, units)\n",
        "    score = self.V(tf.nn.tanh(\n",
        "        self.W1(query_with_time_axis) + self.W2(values)))\n",
        "\n",
        "    # attention_weights shape == (batch_size, max_length, 1)\n",
        "    attention_weights = tf.nn.softmax(score, axis=1)\n",
        "\n",
        "    # context_vector shape after sum == (batch_size, hidden_size)\n",
        "    context_vector = attention_weights * values\n",
        "    context_vector = tf.reduce_sum(context_vector, axis=1)\n",
        "\n",
        "    return context_vector, attention_weights"
      ],
      "execution_count": 21,
      "outputs": []
    },
    {
      "cell_type": "code",
      "metadata": {
        "colab": {
          "base_uri": "https://localhost:8080/"
        },
        "id": "XUqssWcci1XJ",
        "outputId": "fc8f22f4-eb2b-4383-89f7-43256f9ca7fd"
      },
      "source": [
        "attention_layer = BahdanauAttention(10)\n",
        "attention_result, attention_weights = attention_layer(sample_hidden, sample_output)\n",
        "\n",
        "print(\"Attention result shape: (batch size, units) {}\".format(attention_result.shape))\n",
        "print(\"Attention weights shape: (batch_size, sequence_length, 1) {}\".format(attention_weights.shape))"
      ],
      "execution_count": 22,
      "outputs": [
        {
          "output_type": "stream",
          "name": "stdout",
          "text": [
            "Attention result shape: (batch size, units) (64, 1024)\n",
            "Attention weights shape: (batch_size, sequence_length, 1) (64, 15, 1)\n"
          ]
        }
      ]
    },
    {
      "cell_type": "code",
      "metadata": {
        "id": "yJ_B3mhW3jFk"
      },
      "source": [
        "class Decoder(tf.keras.Model):\n",
        "  def __init__(self, vocab_size, embedding_dim, dec_units, batch_sz):\n",
        "    super(Decoder, self).__init__()\n",
        "    self.batch_sz = batch_sz\n",
        "    self.dec_units = dec_units\n",
        "    self.embedding = tf.keras.layers.Embedding(vocab_size, embedding_dim)\n",
        "    self.gru = tf.keras.layers.GRU(self.dec_units,\n",
        "                                   return_sequences=True,\n",
        "                                   return_state=True,\n",
        "                                   recurrent_initializer='glorot_uniform')\n",
        "    self.fc = tf.keras.layers.Dense(vocab_size)\n",
        "\n",
        "    # used for attention\n",
        "    self.attention = BahdanauAttention(self.dec_units)\n",
        "\n",
        "  def call(self, x, hidden, enc_output):\n",
        "    # enc_output shape == (batch_size, max_length, hidden_size)\n",
        "    context_vector, attention_weights = self.attention(hidden, enc_output)\n",
        "\n",
        "    # x shape after passing through embedding == (batch_size, 1, embedding_dim)\n",
        "    x = self.embedding(x)\n",
        "\n",
        "    # x shape after concatenation == (batch_size, 1, embedding_dim + hidden_size)\n",
        "    x = tf.concat([tf.expand_dims(context_vector, 1), x], axis=-1)\n",
        "\n",
        "    # passing the concatenated vector to the GRU\n",
        "    output, state = self.gru(x)\n",
        "\n",
        "    # output shape == (batch_size * 1, hidden_size)\n",
        "    output = tf.reshape(output, (-1, output.shape[2]))\n",
        "\n",
        "    # output shape == (batch_size, vocab)\n",
        "    x = self.fc(output)\n",
        "\n",
        "    return x, state, attention_weights"
      ],
      "execution_count": 23,
      "outputs": []
    },
    {
      "cell_type": "code",
      "metadata": {
        "id": "P5UY8wko3jFp",
        "colab": {
          "base_uri": "https://localhost:8080/"
        },
        "outputId": "0741a192-4919-45e9-c407-06cd4660ba9f"
      },
      "source": [
        "decoder = Decoder(vocab_tar_size, embedding_dim, units, BATCH_SIZE)\n",
        "\n",
        "sample_decoder_output, _, _ = decoder(tf.random.uniform((BATCH_SIZE, 1)),\n",
        "                                      sample_hidden, sample_output)\n",
        "\n",
        "print ('Decoder output shape: (batch_size, vocab size) {}'.format(sample_decoder_output.shape))"
      ],
      "execution_count": 24,
      "outputs": [
        {
          "output_type": "stream",
          "name": "stdout",
          "text": [
            "Decoder output shape: (batch_size, vocab size) (64, 7260)\n"
          ]
        }
      ]
    },
    {
      "cell_type": "markdown",
      "metadata": {
        "id": "_ch_71VbIRfK"
      },
      "source": [
        "## Define the optimizer and the loss function"
      ]
    },
    {
      "cell_type": "code",
      "metadata": {
        "id": "WmTHr5iV3jFr"
      },
      "source": [
        "optimizer = tf.keras.optimizers.Adam()\n",
        "loss_object = tf.keras.losses.SparseCategoricalCrossentropy(\n",
        "    from_logits=True, reduction='none')\n",
        "\n",
        "def loss_function(real, pred):\n",
        "  mask = tf.math.logical_not(tf.math.equal(real, 0))\n",
        "  loss_ = loss_object(real, pred)\n",
        "\n",
        "  mask = tf.cast(mask, dtype=loss_.dtype)\n",
        "  loss_ *= mask\n",
        "\n",
        "  return tf.reduce_mean(loss_)"
      ],
      "execution_count": 25,
      "outputs": []
    },
    {
      "cell_type": "markdown",
      "metadata": {
        "id": "DMVWzzsfNl4e"
      },
      "source": [
        "## Checkpoints (Object-based saving)"
      ]
    },
    {
      "cell_type": "code",
      "metadata": {
        "id": "Zj8bXQTgNwrF"
      },
      "source": [
        "checkpoint_dir = './training_attention_checkpoints'\n",
        "checkpoint_prefix = os.path.join(checkpoint_dir, \"ckpt\")\n",
        "checkpoint = tf.train.Checkpoint(optimizer=optimizer,\n",
        "                                 encoder=encoder,\n",
        "                                 decoder=decoder)"
      ],
      "execution_count": 26,
      "outputs": []
    },
    {
      "cell_type": "code",
      "metadata": {
        "id": "sC9ArXSsVfqn"
      },
      "source": [
        "@tf.function\n",
        "def train_step(inp, targ, enc_hidden):\n",
        "  loss = 0\n",
        "\n",
        "  with tf.GradientTape() as tape:\n",
        "    enc_output, enc_hidden = encoder(inp, enc_hidden)\n",
        "\n",
        "    dec_hidden = enc_hidden\n",
        "\n",
        "    dec_input = tf.expand_dims([targ_lang.word_index['<start>']] * BATCH_SIZE, 1)\n",
        "\n",
        "    # Teacher forcing - feeding the target as the next input\n",
        "    for t in range(1, targ.shape[1]):\n",
        "      # passing enc_output to the decoder\n",
        "      predictions, dec_hidden, _ = decoder(dec_input, dec_hidden, enc_output)\n",
        "\n",
        "      loss += loss_function(targ[:, t], predictions)\n",
        "\n",
        "      # using teacher forcing\n",
        "      dec_input = tf.expand_dims(targ[:, t], 1)\n",
        "\n",
        "  batch_loss = (loss / int(targ.shape[1]))\n",
        "\n",
        "  variables = encoder.trainable_variables + decoder.trainable_variables\n",
        "\n",
        "  gradients = tape.gradient(loss, variables)\n",
        "\n",
        "  optimizer.apply_gradients(zip(gradients, variables))\n",
        "\n",
        "  return batch_loss"
      ],
      "execution_count": 27,
      "outputs": []
    },
    {
      "cell_type": "code",
      "metadata": {
        "id": "ddefjBMa3jF0",
        "colab": {
          "base_uri": "https://localhost:8080/",
          "height": 1000
        },
        "outputId": "c6daa2b7-7554-4a87-c5a4-1f627ff7f567"
      },
      "source": [
        "EPOCHS = 50\n",
        "\n",
        "for epoch in range(EPOCHS):\n",
        "  start = time.time()\n",
        "\n",
        "  enc_hidden = encoder.initialize_hidden_state()\n",
        "  total_loss = 0\n",
        "\n",
        "  for (batch, (inp, targ)) in enumerate(dataset.take(steps_per_epoch)):\n",
        "    batch_loss = train_step(inp, targ, enc_hidden)\n",
        "    total_loss += batch_loss\n",
        "\n",
        "    if batch % 100 == 0:\n",
        "      print('Epoch {} Batch {} Loss {:.4f}'.format(epoch + 1,\n",
        "                                                   batch,\n",
        "                                                   batch_loss.numpy()))\n",
        "  # saving (checkpoint) the model every 2 epochs\n",
        "  if (epoch + 1) % 2 == 0:\n",
        "    checkpoint.save(file_prefix = checkpoint_prefix)\n",
        "\n",
        "  print('Epoch {} Loss {:.4f}'.format(epoch + 1,\n",
        "                                      total_loss / steps_per_epoch))\n",
        "  print('Time taken for 1 epoch {} sec\\n'.format(time.time() - start))"
      ],
      "execution_count": 28,
      "outputs": [
        {
          "output_type": "stream",
          "name": "stdout",
          "text": [
            "Epoch 1 Batch 0 Loss 4.7359\n",
            "Epoch 1 Batch 100 Loss 2.0415\n",
            "Epoch 1 Batch 200 Loss 1.8640\n",
            "Epoch 1 Batch 300 Loss 1.7354\n",
            "Epoch 1 Batch 400 Loss 1.4852\n",
            "Epoch 1 Batch 500 Loss 1.4681\n",
            "Epoch 1 Batch 600 Loss 1.4699\n",
            "Epoch 1 Batch 700 Loss 1.2174\n",
            "Epoch 1 Batch 800 Loss 1.1378\n",
            "Epoch 1 Batch 900 Loss 1.1806\n",
            "Epoch 1 Batch 1000 Loss 1.1090\n",
            "Epoch 1 Batch 1100 Loss 1.0174\n",
            "Epoch 1 Batch 1200 Loss 1.0707\n",
            "Epoch 1 Loss 1.4535\n",
            "Time taken for 1 epoch 240.42471075057983 sec\n",
            "\n",
            "Epoch 2 Batch 0 Loss 0.9480\n",
            "Epoch 2 Batch 100 Loss 0.8444\n",
            "Epoch 2 Batch 200 Loss 0.7244\n",
            "Epoch 2 Batch 300 Loss 0.7925\n",
            "Epoch 2 Batch 400 Loss 0.7492\n",
            "Epoch 2 Batch 500 Loss 0.6553\n",
            "Epoch 2 Batch 600 Loss 0.6581\n",
            "Epoch 2 Batch 700 Loss 0.6382\n",
            "Epoch 2 Batch 800 Loss 0.5975\n",
            "Epoch 2 Batch 900 Loss 0.6227\n",
            "Epoch 2 Batch 1000 Loss 0.5616\n",
            "Epoch 2 Batch 1100 Loss 0.5180\n",
            "Epoch 2 Batch 1200 Loss 0.5460\n",
            "Epoch 2 Loss 0.6903\n",
            "Time taken for 1 epoch 225.36161732673645 sec\n",
            "\n",
            "Epoch 3 Batch 0 Loss 0.3668\n",
            "Epoch 3 Batch 100 Loss 0.3899\n",
            "Epoch 3 Batch 200 Loss 0.3366\n",
            "Epoch 3 Batch 300 Loss 0.3603\n",
            "Epoch 3 Batch 400 Loss 0.3408\n",
            "Epoch 3 Batch 500 Loss 0.3203\n",
            "Epoch 3 Batch 600 Loss 0.3654\n",
            "Epoch 3 Batch 700 Loss 0.4467\n",
            "Epoch 3 Batch 800 Loss 0.3507\n",
            "Epoch 3 Batch 900 Loss 0.4264\n",
            "Epoch 3 Batch 1000 Loss 0.3588\n",
            "Epoch 3 Batch 1100 Loss 0.3682\n",
            "Epoch 3 Batch 1200 Loss 0.3698\n",
            "Epoch 3 Loss 0.3624\n",
            "Time taken for 1 epoch 224.1921911239624 sec\n",
            "\n",
            "Epoch 4 Batch 0 Loss 0.1833\n",
            "Epoch 4 Batch 100 Loss 0.1881\n",
            "Epoch 4 Batch 200 Loss 0.1920\n",
            "Epoch 4 Batch 300 Loss 0.2022\n",
            "Epoch 4 Batch 400 Loss 0.2616\n",
            "Epoch 4 Batch 500 Loss 0.2073\n",
            "Epoch 4 Batch 600 Loss 0.2622\n",
            "Epoch 4 Batch 700 Loss 0.2619\n",
            "Epoch 4 Batch 800 Loss 0.2696\n",
            "Epoch 4 Batch 900 Loss 0.2819\n",
            "Epoch 4 Batch 1000 Loss 0.2118\n",
            "Epoch 4 Batch 1100 Loss 0.2174\n",
            "Epoch 4 Batch 1200 Loss 0.2261\n",
            "Epoch 4 Loss 0.2180\n",
            "Time taken for 1 epoch 224.7879364490509 sec\n",
            "\n",
            "Epoch 5 Batch 0 Loss 0.1580\n",
            "Epoch 5 Batch 100 Loss 0.1286\n",
            "Epoch 5 Batch 200 Loss 0.1464\n",
            "Epoch 5 Batch 300 Loss 0.1560\n",
            "Epoch 5 Batch 400 Loss 0.1303\n",
            "Epoch 5 Batch 500 Loss 0.1420\n",
            "Epoch 5 Batch 600 Loss 0.1160\n",
            "Epoch 5 Batch 700 Loss 0.1848\n",
            "Epoch 5 Batch 800 Loss 0.1404\n",
            "Epoch 5 Batch 900 Loss 0.1483\n",
            "Epoch 5 Batch 1000 Loss 0.1810\n",
            "Epoch 5 Batch 1100 Loss 0.1635\n",
            "Epoch 5 Batch 1200 Loss 0.1595\n",
            "Epoch 5 Loss 0.1493\n",
            "Time taken for 1 epoch 223.90262842178345 sec\n",
            "\n",
            "Epoch 6 Batch 0 Loss 0.0912\n",
            "Epoch 6 Batch 100 Loss 0.0908\n",
            "Epoch 6 Batch 200 Loss 0.0848\n",
            "Epoch 6 Batch 300 Loss 0.0831\n",
            "Epoch 6 Batch 400 Loss 0.0975\n",
            "Epoch 6 Batch 500 Loss 0.1224\n",
            "Epoch 6 Batch 600 Loss 0.1435\n",
            "Epoch 6 Batch 700 Loss 0.1468\n",
            "Epoch 6 Batch 800 Loss 0.1559\n",
            "Epoch 6 Batch 900 Loss 0.1123\n",
            "Epoch 6 Batch 1000 Loss 0.1418\n",
            "Epoch 6 Batch 1100 Loss 0.1171\n",
            "Epoch 6 Batch 1200 Loss 0.1732\n",
            "Epoch 6 Loss 0.1156\n",
            "Time taken for 1 epoch 224.6913754940033 sec\n",
            "\n",
            "Epoch 7 Batch 0 Loss 0.1022\n",
            "Epoch 7 Batch 100 Loss 0.0992\n",
            "Epoch 7 Batch 200 Loss 0.0700\n",
            "Epoch 7 Batch 300 Loss 0.0769\n",
            "Epoch 7 Batch 400 Loss 0.0551\n",
            "Epoch 7 Batch 500 Loss 0.1408\n",
            "Epoch 7 Batch 600 Loss 0.0739\n",
            "Epoch 7 Batch 700 Loss 0.1148\n",
            "Epoch 7 Batch 800 Loss 0.0691\n",
            "Epoch 7 Batch 900 Loss 0.1137\n",
            "Epoch 7 Batch 1000 Loss 0.1003\n",
            "Epoch 7 Batch 1100 Loss 0.1188\n",
            "Epoch 7 Batch 1200 Loss 0.1006\n",
            "Epoch 7 Loss 0.0982\n",
            "Time taken for 1 epoch 224.6302409172058 sec\n",
            "\n",
            "Epoch 8 Batch 0 Loss 0.0533\n",
            "Epoch 8 Batch 100 Loss 0.0733\n",
            "Epoch 8 Batch 200 Loss 0.0943\n",
            "Epoch 8 Batch 300 Loss 0.0433\n",
            "Epoch 8 Batch 400 Loss 0.0586\n",
            "Epoch 8 Batch 500 Loss 0.1371\n",
            "Epoch 8 Batch 600 Loss 0.1004\n",
            "Epoch 8 Batch 700 Loss 0.0852\n",
            "Epoch 8 Batch 800 Loss 0.0896\n",
            "Epoch 8 Batch 900 Loss 0.0876\n",
            "Epoch 8 Batch 1000 Loss 0.1174\n",
            "Epoch 8 Batch 1100 Loss 0.0572\n",
            "Epoch 8 Batch 1200 Loss 0.0855\n",
            "Epoch 8 Loss 0.0885\n",
            "Time taken for 1 epoch 224.9777112007141 sec\n",
            "\n",
            "Epoch 9 Batch 0 Loss 0.0681\n",
            "Epoch 9 Batch 100 Loss 0.0769\n",
            "Epoch 9 Batch 200 Loss 0.0576\n",
            "Epoch 9 Batch 300 Loss 0.0779\n",
            "Epoch 9 Batch 400 Loss 0.0450\n",
            "Epoch 9 Batch 500 Loss 0.0765\n",
            "Epoch 9 Batch 600 Loss 0.0682\n",
            "Epoch 9 Batch 700 Loss 0.0373\n",
            "Epoch 9 Batch 800 Loss 0.0836\n",
            "Epoch 9 Batch 900 Loss 0.0912\n",
            "Epoch 9 Batch 1000 Loss 0.0749\n",
            "Epoch 9 Batch 1100 Loss 0.1125\n",
            "Epoch 9 Batch 1200 Loss 0.1209\n",
            "Epoch 9 Loss 0.0822\n",
            "Time taken for 1 epoch 224.00941729545593 sec\n",
            "\n",
            "Epoch 10 Batch 0 Loss 0.0703\n",
            "Epoch 10 Batch 100 Loss 0.0577\n",
            "Epoch 10 Batch 200 Loss 0.0834\n",
            "Epoch 10 Batch 300 Loss 0.0719\n",
            "Epoch 10 Batch 400 Loss 0.0551\n",
            "Epoch 10 Batch 500 Loss 0.0588\n",
            "Epoch 10 Batch 600 Loss 0.0842\n",
            "Epoch 10 Batch 700 Loss 0.0897\n",
            "Epoch 10 Batch 800 Loss 0.0675\n",
            "Epoch 10 Batch 900 Loss 0.0741\n",
            "Epoch 10 Batch 1000 Loss 0.0638\n",
            "Epoch 10 Batch 1100 Loss 0.1181\n",
            "Epoch 10 Batch 1200 Loss 0.0953\n",
            "Epoch 10 Loss 0.0775\n",
            "Time taken for 1 epoch 224.37213349342346 sec\n",
            "\n",
            "Epoch 11 Batch 0 Loss 0.0686\n",
            "Epoch 11 Batch 100 Loss 0.1079\n",
            "Epoch 11 Batch 200 Loss 0.0726\n",
            "Epoch 11 Batch 300 Loss 0.1140\n",
            "Epoch 11 Batch 400 Loss 0.1221\n",
            "Epoch 11 Batch 500 Loss 0.0733\n",
            "Epoch 11 Batch 600 Loss 0.0703\n",
            "Epoch 11 Batch 700 Loss 0.0690\n",
            "Epoch 11 Batch 800 Loss 0.1031\n",
            "Epoch 11 Batch 900 Loss 0.0696\n",
            "Epoch 11 Batch 1000 Loss 0.0936\n",
            "Epoch 11 Batch 1100 Loss 0.1167\n",
            "Epoch 11 Batch 1200 Loss 0.0864\n",
            "Epoch 11 Loss 0.0723\n",
            "Time taken for 1 epoch 223.83664846420288 sec\n",
            "\n",
            "Epoch 12 Batch 0 Loss 0.0823\n",
            "Epoch 12 Batch 100 Loss 0.0382\n",
            "Epoch 12 Batch 200 Loss 0.1155\n",
            "Epoch 12 Batch 300 Loss 0.0869\n",
            "Epoch 12 Batch 400 Loss 0.0363\n",
            "Epoch 12 Batch 500 Loss 0.0608\n",
            "Epoch 12 Batch 600 Loss 0.1138\n",
            "Epoch 12 Batch 700 Loss 0.0770\n",
            "Epoch 12 Batch 800 Loss 0.0623\n",
            "Epoch 12 Batch 900 Loss 0.0838\n",
            "Epoch 12 Batch 1000 Loss 0.0986\n",
            "Epoch 12 Batch 1100 Loss 0.0546\n",
            "Epoch 12 Batch 1200 Loss 0.0781\n",
            "Epoch 12 Loss 0.0698\n",
            "Time taken for 1 epoch 225.02652263641357 sec\n",
            "\n",
            "Epoch 13 Batch 0 Loss 0.0391\n",
            "Epoch 13 Batch 100 Loss 0.0370\n",
            "Epoch 13 Batch 200 Loss 0.0784\n",
            "Epoch 13 Batch 300 Loss 0.0460\n",
            "Epoch 13 Batch 400 Loss 0.0588\n",
            "Epoch 13 Batch 500 Loss 0.0480\n",
            "Epoch 13 Batch 600 Loss 0.0580\n",
            "Epoch 13 Batch 700 Loss 0.0608\n",
            "Epoch 13 Batch 800 Loss 0.0740\n",
            "Epoch 13 Batch 900 Loss 0.0662\n",
            "Epoch 13 Batch 1000 Loss 0.1002\n",
            "Epoch 13 Batch 1100 Loss 0.0659\n",
            "Epoch 13 Batch 1200 Loss 0.0997\n",
            "Epoch 13 Loss 0.0672\n",
            "Time taken for 1 epoch 224.50855708122253 sec\n",
            "\n",
            "Epoch 14 Batch 0 Loss 0.0424\n",
            "Epoch 14 Batch 100 Loss 0.0669\n",
            "Epoch 14 Batch 200 Loss 0.0570\n",
            "Epoch 14 Batch 300 Loss 0.0515\n",
            "Epoch 14 Batch 400 Loss 0.0508\n",
            "Epoch 14 Batch 500 Loss 0.0534\n",
            "Epoch 14 Batch 600 Loss 0.0558\n",
            "Epoch 14 Batch 700 Loss 0.0794\n",
            "Epoch 14 Batch 800 Loss 0.0486\n",
            "Epoch 14 Batch 900 Loss 0.0695\n",
            "Epoch 14 Batch 1000 Loss 0.1281\n",
            "Epoch 14 Batch 1100 Loss 0.0439\n",
            "Epoch 14 Batch 1200 Loss 0.0668\n",
            "Epoch 14 Loss 0.0651\n",
            "Time taken for 1 epoch 224.73109316825867 sec\n",
            "\n",
            "Epoch 15 Batch 0 Loss 0.0958\n",
            "Epoch 15 Batch 100 Loss 0.0417\n",
            "Epoch 15 Batch 200 Loss 0.0345\n",
            "Epoch 15 Batch 300 Loss 0.0422\n",
            "Epoch 15 Batch 400 Loss 0.1091\n",
            "Epoch 15 Batch 500 Loss 0.0622\n",
            "Epoch 15 Batch 600 Loss 0.0529\n",
            "Epoch 15 Batch 700 Loss 0.0573\n",
            "Epoch 15 Batch 800 Loss 0.0603\n",
            "Epoch 15 Batch 900 Loss 0.0540\n",
            "Epoch 15 Batch 1000 Loss 0.0588\n",
            "Epoch 15 Batch 1100 Loss 0.0465\n",
            "Epoch 15 Batch 1200 Loss 0.0675\n",
            "Epoch 15 Loss 0.0622\n",
            "Time taken for 1 epoch 223.8918912410736 sec\n",
            "\n",
            "Epoch 16 Batch 0 Loss 0.0321\n",
            "Epoch 16 Batch 100 Loss 0.0489\n",
            "Epoch 16 Batch 200 Loss 0.0694\n",
            "Epoch 16 Batch 300 Loss 0.0387\n",
            "Epoch 16 Batch 400 Loss 0.0399\n",
            "Epoch 16 Batch 500 Loss 0.0804\n",
            "Epoch 16 Batch 600 Loss 0.0665\n",
            "Epoch 16 Batch 700 Loss 0.0864\n",
            "Epoch 16 Batch 800 Loss 0.0473\n",
            "Epoch 16 Batch 900 Loss 0.0473\n",
            "Epoch 16 Batch 1000 Loss 0.0801\n",
            "Epoch 16 Batch 1100 Loss 0.0781\n",
            "Epoch 16 Batch 1200 Loss 0.1104\n",
            "Epoch 16 Loss 0.0612\n",
            "Time taken for 1 epoch 224.24411511421204 sec\n",
            "\n",
            "Epoch 17 Batch 0 Loss 0.0450\n",
            "Epoch 17 Batch 100 Loss 0.0204\n",
            "Epoch 17 Batch 200 Loss 0.0404\n",
            "Epoch 17 Batch 300 Loss 0.0492\n",
            "Epoch 17 Batch 400 Loss 0.0258\n",
            "Epoch 17 Batch 500 Loss 0.0486\n",
            "Epoch 17 Batch 600 Loss 0.0774\n",
            "Epoch 17 Batch 700 Loss 0.0354\n",
            "Epoch 17 Batch 800 Loss 0.0451\n",
            "Epoch 17 Batch 900 Loss 0.0853\n",
            "Epoch 17 Batch 1000 Loss 0.0904\n",
            "Epoch 17 Batch 1100 Loss 0.0874\n",
            "Epoch 17 Batch 1200 Loss 0.0577\n",
            "Epoch 17 Loss 0.0591\n",
            "Time taken for 1 epoch 223.66418433189392 sec\n",
            "\n",
            "Epoch 18 Batch 0 Loss 0.0276\n",
            "Epoch 18 Batch 100 Loss 0.0554\n",
            "Epoch 18 Batch 200 Loss 0.0502\n",
            "Epoch 18 Batch 300 Loss 0.0427\n",
            "Epoch 18 Batch 400 Loss 0.0614\n",
            "Epoch 18 Batch 500 Loss 0.0662\n",
            "Epoch 18 Batch 600 Loss 0.0604\n",
            "Epoch 18 Batch 700 Loss 0.0697\n",
            "Epoch 18 Batch 800 Loss 0.0549\n",
            "Epoch 18 Batch 900 Loss 0.0536\n",
            "Epoch 18 Batch 1000 Loss 0.0653\n",
            "Epoch 18 Batch 1100 Loss 0.0513\n",
            "Epoch 18 Batch 1200 Loss 0.0576\n",
            "Epoch 18 Loss 0.0575\n",
            "Time taken for 1 epoch 224.67057085037231 sec\n",
            "\n",
            "Epoch 19 Batch 0 Loss 0.0895\n",
            "Epoch 19 Batch 100 Loss 0.0190\n",
            "Epoch 19 Batch 200 Loss 0.0482\n",
            "Epoch 19 Batch 300 Loss 0.0690\n",
            "Epoch 19 Batch 400 Loss 0.0449\n",
            "Epoch 19 Batch 500 Loss 0.0664\n",
            "Epoch 19 Batch 600 Loss 0.0446\n",
            "Epoch 19 Batch 700 Loss 0.0599\n",
            "Epoch 19 Batch 800 Loss 0.0843\n",
            "Epoch 19 Batch 900 Loss 0.0406\n",
            "Epoch 19 Batch 1000 Loss 0.0385\n",
            "Epoch 19 Batch 1100 Loss 0.0583\n",
            "Epoch 19 Batch 1200 Loss 0.0541\n",
            "Epoch 19 Loss 0.0556\n",
            "Time taken for 1 epoch 224.16750407218933 sec\n",
            "\n",
            "Epoch 20 Batch 0 Loss 0.0604\n",
            "Epoch 20 Batch 100 Loss 0.0478\n",
            "Epoch 20 Batch 200 Loss 0.0521\n",
            "Epoch 20 Batch 300 Loss 0.0526\n",
            "Epoch 20 Batch 400 Loss 0.0332\n",
            "Epoch 20 Batch 500 Loss 0.0819\n",
            "Epoch 20 Batch 600 Loss 0.0372\n",
            "Epoch 20 Batch 700 Loss 0.0392\n",
            "Epoch 20 Batch 800 Loss 0.0427\n",
            "Epoch 20 Batch 900 Loss 0.0711\n",
            "Epoch 20 Batch 1000 Loss 0.0729\n",
            "Epoch 20 Batch 1100 Loss 0.0630\n",
            "Epoch 20 Batch 1200 Loss 0.0608\n",
            "Epoch 20 Loss 0.0546\n",
            "Time taken for 1 epoch 224.27859783172607 sec\n",
            "\n",
            "Epoch 21 Batch 0 Loss 0.0354\n",
            "Epoch 21 Batch 100 Loss 0.0641\n",
            "Epoch 21 Batch 200 Loss 0.0525\n",
            "Epoch 21 Batch 300 Loss 0.0280\n",
            "Epoch 21 Batch 400 Loss 0.0537\n",
            "Epoch 21 Batch 500 Loss 0.0608\n",
            "Epoch 21 Batch 600 Loss 0.0364\n",
            "Epoch 21 Batch 700 Loss 0.0426\n",
            "Epoch 21 Batch 800 Loss 0.0766\n",
            "Epoch 21 Batch 900 Loss 0.0803\n",
            "Epoch 21 Batch 1000 Loss 0.0761\n",
            "Epoch 21 Batch 1100 Loss 0.0489\n",
            "Epoch 21 Batch 1200 Loss 0.0624\n",
            "Epoch 21 Loss 0.0540\n",
            "Time taken for 1 epoch 223.56967282295227 sec\n",
            "\n",
            "Epoch 22 Batch 0 Loss 0.0802\n",
            "Epoch 22 Batch 100 Loss 0.0326\n",
            "Epoch 22 Batch 200 Loss 0.0293\n",
            "Epoch 22 Batch 300 Loss 0.0357\n",
            "Epoch 22 Batch 400 Loss 0.0968\n",
            "Epoch 22 Batch 500 Loss 0.0491\n",
            "Epoch 22 Batch 600 Loss 0.0488\n",
            "Epoch 22 Batch 700 Loss 0.0501\n",
            "Epoch 22 Batch 800 Loss 0.0567\n",
            "Epoch 22 Batch 900 Loss 0.0408\n",
            "Epoch 22 Batch 1000 Loss 0.0518\n",
            "Epoch 22 Batch 1100 Loss 0.0785\n",
            "Epoch 22 Batch 1200 Loss 0.0495\n",
            "Epoch 22 Loss 0.0524\n",
            "Time taken for 1 epoch 224.64457654953003 sec\n",
            "\n",
            "Epoch 23 Batch 0 Loss 0.0506\n",
            "Epoch 23 Batch 100 Loss 0.0433\n",
            "Epoch 23 Batch 200 Loss 0.0170\n",
            "Epoch 23 Batch 300 Loss 0.0464\n",
            "Epoch 23 Batch 400 Loss 0.0435\n",
            "Epoch 23 Batch 500 Loss 0.0451\n",
            "Epoch 23 Batch 600 Loss 0.0455\n",
            "Epoch 23 Batch 700 Loss 0.0681\n",
            "Epoch 23 Batch 800 Loss 0.0574\n",
            "Epoch 23 Batch 900 Loss 0.0881\n",
            "Epoch 23 Batch 1000 Loss 0.0688\n",
            "Epoch 23 Batch 1100 Loss 0.0581\n",
            "Epoch 23 Batch 1200 Loss 0.0799\n",
            "Epoch 23 Loss 0.0510\n",
            "Time taken for 1 epoch 223.79054617881775 sec\n",
            "\n",
            "Epoch 24 Batch 0 Loss 0.0479\n",
            "Epoch 24 Batch 100 Loss 0.0397\n",
            "Epoch 24 Batch 200 Loss 0.0278\n",
            "Epoch 24 Batch 300 Loss 0.0329\n",
            "Epoch 24 Batch 400 Loss 0.0220\n",
            "Epoch 24 Batch 500 Loss 0.0425\n",
            "Epoch 24 Batch 600 Loss 0.0525\n",
            "Epoch 24 Batch 700 Loss 0.0455\n",
            "Epoch 24 Batch 800 Loss 0.0732\n",
            "Epoch 24 Batch 900 Loss 0.0492\n",
            "Epoch 24 Batch 1000 Loss 0.0596\n",
            "Epoch 24 Batch 1100 Loss 0.0377\n",
            "Epoch 24 Batch 1200 Loss 0.0484\n",
            "Epoch 24 Loss 0.0500\n",
            "Time taken for 1 epoch 225.47086930274963 sec\n",
            "\n",
            "Epoch 25 Batch 0 Loss 0.0454\n",
            "Epoch 25 Batch 100 Loss 0.0504\n",
            "Epoch 25 Batch 200 Loss 0.0374\n",
            "Epoch 25 Batch 300 Loss 0.0381\n",
            "Epoch 25 Batch 400 Loss 0.0297\n",
            "Epoch 25 Batch 500 Loss 0.0413\n",
            "Epoch 25 Batch 600 Loss 0.0769\n",
            "Epoch 25 Batch 700 Loss 0.0505\n",
            "Epoch 25 Batch 800 Loss 0.0566\n",
            "Epoch 25 Batch 900 Loss 0.0528\n",
            "Epoch 25 Batch 1000 Loss 0.0532\n",
            "Epoch 25 Batch 1100 Loss 0.0545\n",
            "Epoch 25 Batch 1200 Loss 0.0384\n",
            "Epoch 25 Loss 0.0494\n",
            "Time taken for 1 epoch 224.7287347316742 sec\n",
            "\n",
            "Epoch 26 Batch 0 Loss 0.0321\n",
            "Epoch 26 Batch 100 Loss 0.0447\n",
            "Epoch 26 Batch 200 Loss 0.0466\n",
            "Epoch 26 Batch 300 Loss 0.0255\n",
            "Epoch 26 Batch 400 Loss 0.0424\n",
            "Epoch 26 Batch 500 Loss 0.0759\n",
            "Epoch 26 Batch 600 Loss 0.0312\n",
            "Epoch 26 Batch 700 Loss 0.0559\n",
            "Epoch 26 Batch 800 Loss 0.0304\n",
            "Epoch 26 Batch 900 Loss 0.0798\n",
            "Epoch 26 Batch 1000 Loss 0.0623\n",
            "Epoch 26 Batch 1100 Loss 0.0573\n",
            "Epoch 26 Batch 1200 Loss 0.0563\n",
            "Epoch 26 Loss 0.0490\n",
            "Time taken for 1 epoch 225.13747882843018 sec\n",
            "\n",
            "Epoch 27 Batch 0 Loss 0.0366\n",
            "Epoch 27 Batch 100 Loss 0.0381\n",
            "Epoch 27 Batch 200 Loss 0.0336\n",
            "Epoch 27 Batch 300 Loss 0.0427\n",
            "Epoch 27 Batch 400 Loss 0.0272\n",
            "Epoch 27 Batch 500 Loss 0.0495\n",
            "Epoch 27 Batch 600 Loss 0.0523\n",
            "Epoch 27 Batch 700 Loss 0.0686\n",
            "Epoch 27 Batch 800 Loss 0.0514\n",
            "Epoch 27 Batch 900 Loss 0.0398\n",
            "Epoch 27 Batch 1000 Loss 0.0350\n",
            "Epoch 27 Batch 1100 Loss 0.0613\n",
            "Epoch 27 Batch 1200 Loss 0.0481\n",
            "Epoch 27 Loss 0.0470\n",
            "Time taken for 1 epoch 224.94333386421204 sec\n",
            "\n",
            "Epoch 28 Batch 0 Loss 0.0232\n",
            "Epoch 28 Batch 100 Loss 0.0357\n",
            "Epoch 28 Batch 200 Loss 0.0486\n",
            "Epoch 28 Batch 300 Loss 0.0718\n",
            "Epoch 28 Batch 400 Loss 0.0621\n",
            "Epoch 28 Batch 500 Loss 0.0704\n",
            "Epoch 28 Batch 600 Loss 0.0455\n",
            "Epoch 28 Batch 700 Loss 0.0618\n",
            "Epoch 28 Batch 800 Loss 0.0550\n",
            "Epoch 28 Batch 900 Loss 0.0409\n",
            "Epoch 28 Batch 1000 Loss 0.0660\n",
            "Epoch 28 Batch 1100 Loss 0.0330\n",
            "Epoch 28 Batch 1200 Loss 0.0504\n",
            "Epoch 28 Loss 0.0469\n",
            "Time taken for 1 epoch 225.32404851913452 sec\n",
            "\n",
            "Epoch 29 Batch 0 Loss 0.0332\n",
            "Epoch 29 Batch 100 Loss 0.0597\n",
            "Epoch 29 Batch 200 Loss 0.0337\n",
            "Epoch 29 Batch 300 Loss 0.0395\n",
            "Epoch 29 Batch 400 Loss 0.0472\n",
            "Epoch 29 Batch 500 Loss 0.0424\n",
            "Epoch 29 Batch 600 Loss 0.0528\n",
            "Epoch 29 Batch 700 Loss 0.0487\n",
            "Epoch 29 Batch 800 Loss 0.0773\n",
            "Epoch 29 Batch 900 Loss 0.0589\n",
            "Epoch 29 Batch 1000 Loss 0.0432\n",
            "Epoch 29 Batch 1100 Loss 0.0517\n",
            "Epoch 29 Batch 1200 Loss 0.0374\n",
            "Epoch 29 Loss 0.0459\n",
            "Time taken for 1 epoch 224.0484459400177 sec\n",
            "\n",
            "Epoch 30 Batch 0 Loss 0.0438\n",
            "Epoch 30 Batch 100 Loss 0.0215\n",
            "Epoch 30 Batch 200 Loss 0.0550\n",
            "Epoch 30 Batch 300 Loss 0.0565\n",
            "Epoch 30 Batch 400 Loss 0.0397\n",
            "Epoch 30 Batch 500 Loss 0.0559\n",
            "Epoch 30 Batch 600 Loss 0.0281\n",
            "Epoch 30 Batch 700 Loss 0.0698\n",
            "Epoch 30 Batch 800 Loss 0.0459\n",
            "Epoch 30 Batch 900 Loss 0.0552\n",
            "Epoch 30 Batch 1000 Loss 0.0534\n",
            "Epoch 30 Batch 1100 Loss 0.0571\n",
            "Epoch 30 Batch 1200 Loss 0.0478\n",
            "Epoch 30 Loss 0.0468\n",
            "Time taken for 1 epoch 224.96656799316406 sec\n",
            "\n",
            "Epoch 31 Batch 0 Loss 0.0482\n",
            "Epoch 31 Batch 100 Loss 0.0394\n"
          ]
        },
        {
          "output_type": "error",
          "ename": "KeyboardInterrupt",
          "evalue": "ignored",
          "traceback": [
            "\u001b[0;31m---------------------------------------------------------------------------\u001b[0m",
            "\u001b[0;31mKeyboardInterrupt\u001b[0m                         Traceback (most recent call last)",
            "\u001b[0;32m<ipython-input-28-f884ceb8552b>\u001b[0m in \u001b[0;36m<module>\u001b[0;34m()\u001b[0m\n\u001b[1;32m      8\u001b[0m \u001b[0;34m\u001b[0m\u001b[0m\n\u001b[1;32m      9\u001b[0m   \u001b[0;32mfor\u001b[0m \u001b[0;34m(\u001b[0m\u001b[0mbatch\u001b[0m\u001b[0;34m,\u001b[0m \u001b[0;34m(\u001b[0m\u001b[0minp\u001b[0m\u001b[0;34m,\u001b[0m \u001b[0mtarg\u001b[0m\u001b[0;34m)\u001b[0m\u001b[0;34m)\u001b[0m \u001b[0;32min\u001b[0m \u001b[0menumerate\u001b[0m\u001b[0;34m(\u001b[0m\u001b[0mdataset\u001b[0m\u001b[0;34m.\u001b[0m\u001b[0mtake\u001b[0m\u001b[0;34m(\u001b[0m\u001b[0msteps_per_epoch\u001b[0m\u001b[0;34m)\u001b[0m\u001b[0;34m)\u001b[0m\u001b[0;34m:\u001b[0m\u001b[0;34m\u001b[0m\u001b[0;34m\u001b[0m\u001b[0m\n\u001b[0;32m---> 10\u001b[0;31m     \u001b[0mbatch_loss\u001b[0m \u001b[0;34m=\u001b[0m \u001b[0mtrain_step\u001b[0m\u001b[0;34m(\u001b[0m\u001b[0minp\u001b[0m\u001b[0;34m,\u001b[0m \u001b[0mtarg\u001b[0m\u001b[0;34m,\u001b[0m \u001b[0menc_hidden\u001b[0m\u001b[0;34m)\u001b[0m\u001b[0;34m\u001b[0m\u001b[0;34m\u001b[0m\u001b[0m\n\u001b[0m\u001b[1;32m     11\u001b[0m     \u001b[0mtotal_loss\u001b[0m \u001b[0;34m+=\u001b[0m \u001b[0mbatch_loss\u001b[0m\u001b[0;34m\u001b[0m\u001b[0;34m\u001b[0m\u001b[0m\n\u001b[1;32m     12\u001b[0m \u001b[0;34m\u001b[0m\u001b[0m\n",
            "\u001b[0;32m/usr/local/lib/python3.7/dist-packages/tensorflow/python/eager/def_function.py\u001b[0m in \u001b[0;36m__call__\u001b[0;34m(self, *args, **kwds)\u001b[0m\n\u001b[1;32m    883\u001b[0m \u001b[0;34m\u001b[0m\u001b[0m\n\u001b[1;32m    884\u001b[0m       \u001b[0;32mwith\u001b[0m \u001b[0mOptionalXlaContext\u001b[0m\u001b[0;34m(\u001b[0m\u001b[0mself\u001b[0m\u001b[0;34m.\u001b[0m\u001b[0m_jit_compile\u001b[0m\u001b[0;34m)\u001b[0m\u001b[0;34m:\u001b[0m\u001b[0;34m\u001b[0m\u001b[0;34m\u001b[0m\u001b[0m\n\u001b[0;32m--> 885\u001b[0;31m         \u001b[0mresult\u001b[0m \u001b[0;34m=\u001b[0m \u001b[0mself\u001b[0m\u001b[0;34m.\u001b[0m\u001b[0m_call\u001b[0m\u001b[0;34m(\u001b[0m\u001b[0;34m*\u001b[0m\u001b[0margs\u001b[0m\u001b[0;34m,\u001b[0m \u001b[0;34m**\u001b[0m\u001b[0mkwds\u001b[0m\u001b[0;34m)\u001b[0m\u001b[0;34m\u001b[0m\u001b[0;34m\u001b[0m\u001b[0m\n\u001b[0m\u001b[1;32m    886\u001b[0m \u001b[0;34m\u001b[0m\u001b[0m\n\u001b[1;32m    887\u001b[0m       \u001b[0mnew_tracing_count\u001b[0m \u001b[0;34m=\u001b[0m \u001b[0mself\u001b[0m\u001b[0;34m.\u001b[0m\u001b[0mexperimental_get_tracing_count\u001b[0m\u001b[0;34m(\u001b[0m\u001b[0;34m)\u001b[0m\u001b[0;34m\u001b[0m\u001b[0;34m\u001b[0m\u001b[0m\n",
            "\u001b[0;32m/usr/local/lib/python3.7/dist-packages/tensorflow/python/eager/def_function.py\u001b[0m in \u001b[0;36m_call\u001b[0;34m(self, *args, **kwds)\u001b[0m\n\u001b[1;32m    915\u001b[0m       \u001b[0;31m# In this case we have created variables on the first call, so we run the\u001b[0m\u001b[0;34m\u001b[0m\u001b[0;34m\u001b[0m\u001b[0;34m\u001b[0m\u001b[0m\n\u001b[1;32m    916\u001b[0m       \u001b[0;31m# defunned version which is guaranteed to never create variables.\u001b[0m\u001b[0;34m\u001b[0m\u001b[0;34m\u001b[0m\u001b[0;34m\u001b[0m\u001b[0m\n\u001b[0;32m--> 917\u001b[0;31m       \u001b[0;32mreturn\u001b[0m \u001b[0mself\u001b[0m\u001b[0;34m.\u001b[0m\u001b[0m_stateless_fn\u001b[0m\u001b[0;34m(\u001b[0m\u001b[0;34m*\u001b[0m\u001b[0margs\u001b[0m\u001b[0;34m,\u001b[0m \u001b[0;34m**\u001b[0m\u001b[0mkwds\u001b[0m\u001b[0;34m)\u001b[0m  \u001b[0;31m# pylint: disable=not-callable\u001b[0m\u001b[0;34m\u001b[0m\u001b[0;34m\u001b[0m\u001b[0m\n\u001b[0m\u001b[1;32m    918\u001b[0m     \u001b[0;32melif\u001b[0m \u001b[0mself\u001b[0m\u001b[0;34m.\u001b[0m\u001b[0m_stateful_fn\u001b[0m \u001b[0;32mis\u001b[0m \u001b[0;32mnot\u001b[0m \u001b[0;32mNone\u001b[0m\u001b[0;34m:\u001b[0m\u001b[0;34m\u001b[0m\u001b[0;34m\u001b[0m\u001b[0m\n\u001b[1;32m    919\u001b[0m       \u001b[0;31m# Release the lock early so that multiple threads can perform the call\u001b[0m\u001b[0;34m\u001b[0m\u001b[0;34m\u001b[0m\u001b[0;34m\u001b[0m\u001b[0m\n",
            "\u001b[0;32m/usr/local/lib/python3.7/dist-packages/tensorflow/python/eager/function.py\u001b[0m in \u001b[0;36m__call__\u001b[0;34m(self, *args, **kwargs)\u001b[0m\n\u001b[1;32m   3038\u001b[0m        filtered_flat_args) = self._maybe_define_function(args, kwargs)\n\u001b[1;32m   3039\u001b[0m     return graph_function._call_flat(\n\u001b[0;32m-> 3040\u001b[0;31m         filtered_flat_args, captured_inputs=graph_function.captured_inputs)  # pylint: disable=protected-access\n\u001b[0m\u001b[1;32m   3041\u001b[0m \u001b[0;34m\u001b[0m\u001b[0m\n\u001b[1;32m   3042\u001b[0m   \u001b[0;34m@\u001b[0m\u001b[0mproperty\u001b[0m\u001b[0;34m\u001b[0m\u001b[0;34m\u001b[0m\u001b[0m\n",
            "\u001b[0;32m/usr/local/lib/python3.7/dist-packages/tensorflow/python/eager/function.py\u001b[0m in \u001b[0;36m_call_flat\u001b[0;34m(self, args, captured_inputs, cancellation_manager)\u001b[0m\n\u001b[1;32m   1962\u001b[0m       \u001b[0;31m# No tape is watching; skip to running the function.\u001b[0m\u001b[0;34m\u001b[0m\u001b[0;34m\u001b[0m\u001b[0;34m\u001b[0m\u001b[0m\n\u001b[1;32m   1963\u001b[0m       return self._build_call_outputs(self._inference_function.call(\n\u001b[0;32m-> 1964\u001b[0;31m           ctx, args, cancellation_manager=cancellation_manager))\n\u001b[0m\u001b[1;32m   1965\u001b[0m     forward_backward = self._select_forward_and_backward_functions(\n\u001b[1;32m   1966\u001b[0m         \u001b[0margs\u001b[0m\u001b[0;34m,\u001b[0m\u001b[0;34m\u001b[0m\u001b[0;34m\u001b[0m\u001b[0m\n",
            "\u001b[0;32m/usr/local/lib/python3.7/dist-packages/tensorflow/python/eager/function.py\u001b[0m in \u001b[0;36mcall\u001b[0;34m(self, ctx, args, cancellation_manager)\u001b[0m\n\u001b[1;32m    594\u001b[0m               \u001b[0minputs\u001b[0m\u001b[0;34m=\u001b[0m\u001b[0margs\u001b[0m\u001b[0;34m,\u001b[0m\u001b[0;34m\u001b[0m\u001b[0;34m\u001b[0m\u001b[0m\n\u001b[1;32m    595\u001b[0m               \u001b[0mattrs\u001b[0m\u001b[0;34m=\u001b[0m\u001b[0mattrs\u001b[0m\u001b[0;34m,\u001b[0m\u001b[0;34m\u001b[0m\u001b[0;34m\u001b[0m\u001b[0m\n\u001b[0;32m--> 596\u001b[0;31m               ctx=ctx)\n\u001b[0m\u001b[1;32m    597\u001b[0m         \u001b[0;32melse\u001b[0m\u001b[0;34m:\u001b[0m\u001b[0;34m\u001b[0m\u001b[0;34m\u001b[0m\u001b[0m\n\u001b[1;32m    598\u001b[0m           outputs = execute.execute_with_cancellation(\n",
            "\u001b[0;32m/usr/local/lib/python3.7/dist-packages/tensorflow/python/eager/execute.py\u001b[0m in \u001b[0;36mquick_execute\u001b[0;34m(op_name, num_outputs, inputs, attrs, ctx, name)\u001b[0m\n\u001b[1;32m     58\u001b[0m     \u001b[0mctx\u001b[0m\u001b[0;34m.\u001b[0m\u001b[0mensure_initialized\u001b[0m\u001b[0;34m(\u001b[0m\u001b[0;34m)\u001b[0m\u001b[0;34m\u001b[0m\u001b[0;34m\u001b[0m\u001b[0m\n\u001b[1;32m     59\u001b[0m     tensors = pywrap_tfe.TFE_Py_Execute(ctx._handle, device_name, op_name,\n\u001b[0;32m---> 60\u001b[0;31m                                         inputs, attrs, num_outputs)\n\u001b[0m\u001b[1;32m     61\u001b[0m   \u001b[0;32mexcept\u001b[0m \u001b[0mcore\u001b[0m\u001b[0;34m.\u001b[0m\u001b[0m_NotOkStatusException\u001b[0m \u001b[0;32mas\u001b[0m \u001b[0me\u001b[0m\u001b[0;34m:\u001b[0m\u001b[0;34m\u001b[0m\u001b[0;34m\u001b[0m\u001b[0m\n\u001b[1;32m     62\u001b[0m     \u001b[0;32mif\u001b[0m \u001b[0mname\u001b[0m \u001b[0;32mis\u001b[0m \u001b[0;32mnot\u001b[0m \u001b[0;32mNone\u001b[0m\u001b[0;34m:\u001b[0m\u001b[0;34m\u001b[0m\u001b[0;34m\u001b[0m\u001b[0m\n",
            "\u001b[0;31mKeyboardInterrupt\u001b[0m: "
          ]
        }
      ]
    },
    {
      "cell_type": "markdown",
      "metadata": {
        "id": "mU3Ce8M6I3rz"
      },
      "source": [
        "## Translate\n",
        "\n",
        "* The evaluate function is similar to the training loop, except we don't use *teacher forcing* here. The input to the decoder at each time step is its previous predictions along with the hidden state and the encoder output.\n",
        "* Stop predicting when the model predicts the *end token*.\n",
        "* And store the *attention weights for every time step*.\n",
        "\n",
        "Note: The encoder output is calculated only once for one input."
      ]
    },
    {
      "cell_type": "code",
      "metadata": {
        "id": "EbQpyYs13jF_"
      },
      "source": [
        "def evaluate(sentence):\n",
        "  attention_plot = np.zeros((max_length_targ, max_length_inp))\n",
        "\n",
        "  sentence = preprocess_sentence(sentence)\n",
        "\n",
        "  inputs = [inp_lang.word_index[i] for i in sentence.split(' ')]\n",
        "  inputs = tf.keras.preprocessing.sequence.pad_sequences([inputs],\n",
        "                                                         maxlen=max_length_inp,\n",
        "                                                         padding='post')\n",
        "  inputs = tf.convert_to_tensor(inputs)\n",
        "\n",
        "  result = ''\n",
        "\n",
        "  hidden = [tf.zeros((1, units))]\n",
        "  enc_out, enc_hidden = encoder(inputs, hidden)\n",
        "\n",
        "  dec_hidden = enc_hidden\n",
        "  dec_input = tf.expand_dims([targ_lang.word_index['<start>']], 0)\n",
        "\n",
        "  for t in range(max_length_targ):\n",
        "    predictions, dec_hidden, attention_weights = decoder(dec_input,\n",
        "                                                         dec_hidden,\n",
        "                                                         enc_out)\n",
        "\n",
        "    # storing the attention weights to plot later on\n",
        "    attention_weights = tf.reshape(attention_weights, (-1, ))\n",
        "    attention_plot[t] = attention_weights.numpy()\n",
        "\n",
        "    predicted_id = tf.argmax(predictions[0]).numpy()\n",
        "\n",
        "    result += targ_lang.index_word[predicted_id] + ' '\n",
        "\n",
        "    if targ_lang.index_word[predicted_id] == '<end>':\n",
        "      return result, sentence, attention_plot\n",
        "\n",
        "    # the predicted ID is fed back into the model\n",
        "    dec_input = tf.expand_dims([predicted_id], 0)\n",
        "\n",
        "  return result, sentence, attention_plot"
      ],
      "execution_count": 29,
      "outputs": []
    },
    {
      "cell_type": "code",
      "metadata": {
        "id": "Qjy26Fe8Bv5d"
      },
      "source": [
        "# function for plotting the attention weights\n",
        "def plot_attention(attention, sentence, predicted_sentence):\n",
        "  fig = plt.figure(figsize=(10,10))\n",
        "  ax = fig.add_subplot(1, 1, 1)\n",
        "  ax.matshow(attention, cmap='viridis')\n",
        "\n",
        "  fontdict = {'fontsize': 14}\n",
        "\n",
        "  ax.set_xticklabels([''] + sentence, fontdict=fontdict, rotation=90)\n",
        "  ax.set_yticklabels([''] + predicted_sentence, fontdict=fontdict)\n",
        "\n",
        "  ax.xaxis.set_major_locator(ticker.MultipleLocator(1))\n",
        "  ax.yaxis.set_major_locator(ticker.MultipleLocator(1))\n",
        "\n",
        "  plt.show()"
      ],
      "execution_count": 30,
      "outputs": []
    },
    {
      "cell_type": "code",
      "metadata": {
        "id": "sl9zUHzg3jGI"
      },
      "source": [
        "def translate(sentence):\n",
        "  result, sentence, attention_plot = evaluate(sentence)\n",
        "\n",
        "  print('Input: %s' % (sentence))\n",
        "  print('Predicted translation: {}'.format(result))\n",
        "\n",
        "  attention_plot = attention_plot[:len(result.split(' ')), :len(sentence.split(' '))]\n",
        "  plot_attention(attention_plot, sentence.split(' '), result.split(' '))"
      ],
      "execution_count": 31,
      "outputs": []
    },
    {
      "cell_type": "markdown",
      "metadata": {
        "id": "n250XbnjOaqP"
      },
      "source": [
        "## Restore the latest checkpoint and test"
      ]
    },
    {
      "cell_type": "code",
      "metadata": {
        "id": "UJpT9D5_OgP6",
        "colab": {
          "base_uri": "https://localhost:8080/"
        },
        "outputId": "77c16163-5ae9-4d6d-aef4-8e975915a97d"
      },
      "source": [
        "# restoring the latest checkpoint in checkpoint_dir\n",
        "checkpoint.restore(tf.train.latest_checkpoint(checkpoint_dir))"
      ],
      "execution_count": 32,
      "outputs": [
        {
          "output_type": "execute_result",
          "data": {
            "text/plain": [
              "<tensorflow.python.training.tracking.util.CheckpointLoadStatus at 0x7f71e178a810>"
            ]
          },
          "metadata": {},
          "execution_count": 32
        }
      ]
    },
    {
      "cell_type": "code",
      "metadata": {
        "id": "WrAM0FDomq3E",
        "colab": {
          "base_uri": "https://localhost:8080/",
          "height": 677
        },
        "outputId": "3a176457-a47b-4038-f514-d86ffce7c48a"
      },
      "source": [
        "translate('Здесь хорошо.')"
      ],
      "execution_count": 33,
      "outputs": [
        {
          "output_type": "stream",
          "name": "stdout",
          "text": [
            "Input: <start> здесь хорошо . <end>\n",
            "Predicted translation: it's working here . <end> \n"
          ]
        },
        {
          "output_type": "display_data",
          "data": {
            "image/png": "[encoded data removed]",
            "text/plain": [
              "<Figure size 720x720 with 1 Axes>"
            ]
          },
          "metadata": {
            "needs_background": "light"
          }
        }
      ]
    },
    {
      "cell_type": "code",
      "metadata": {
        "id": "5bhFfwcIMX5i",
        "colab": {
          "base_uri": "https://localhost:8080/",
          "height": 615
        },
        "outputId": "c0fd1398-23b6-4b07-db77-90e47d10175d"
      },
      "source": [
        "translate('Я не смогу поехать.')"
      ],
      "execution_count": 34,
      "outputs": [
        {
          "output_type": "stream",
          "name": "stdout",
          "text": [
            "Input: <start> я не смогу поехать . <end>\n",
            "Predicted translation: i can't go . <end> \n"
          ]
        },
        {
          "output_type": "display_data",
          "data": {
            "image/png": "[encoded data removed]",
            "text/plain": [
              "<Figure size 720x720 with 1 Axes>"
            ]
          },
          "metadata": {
            "needs_background": "light"
          }
        }
      ]
    },
    {
      "cell_type": "code",
      "metadata": {
        "id": "zSx2iM36EZQZ",
        "colab": {
          "base_uri": "https://localhost:8080/",
          "height": 677
        },
        "outputId": "395e464c-6223-4df8-efe7-ca948bc5eb25"
      },
      "source": [
        "translate(u'Вы еще дома?')"
      ],
      "execution_count": 35,
      "outputs": [
        {
          "output_type": "stream",
          "name": "stdout",
          "text": [
            "Input: <start> вы еще дома ? <end>\n",
            "Predicted translation: are you still at home ? <end> \n"
          ]
        },
        {
          "output_type": "display_data",
          "data": {
            "image/png": "[encoded data removed]",
            "text/plain": [
              "<Figure size 720x720 with 1 Axes>"
            ]
          },
          "metadata": {
            "needs_background": "light"
          }
        }
      ]
    },
    {
      "cell_type": "code",
      "metadata": {
        "id": "A3LLCx3ZE0Ls",
        "colab": {
          "base_uri": "https://localhost:8080/",
          "height": 677
        },
        "outputId": "628e3c8c-5572-48ff-bd32-aac778c8afd9"
      },
      "source": [
        "translate(u'Вы все еще дома?')"
      ],
      "execution_count": 36,
      "outputs": [
        {
          "output_type": "stream",
          "name": "stdout",
          "text": [
            "Input: <start> вы все еще дома ? <end>\n",
            "Predicted translation: are you still at home ? <end> \n"
          ]
        },
        {
          "output_type": "display_data",
          "data": {
            "image/png": "[encoded data removed]",
            "text/plain": [
              "<Figure size 720x720 with 1 Axes>"
            ]
          },
          "metadata": {
            "needs_background": "light"
          }
        }
      ]
    },
    {
      "cell_type": "code",
      "metadata": {
        "id": "DUQVLVqUE1YW",
        "colab": {
          "base_uri": "https://localhost:8080/",
          "height": 691
        },
        "outputId": "b5cc8942-96b9-4f5e-a820-839d83f0f60a"
      },
      "source": [
        "translate(u'Попробуй сделать это.')"
      ],
      "execution_count": 37,
      "outputs": [
        {
          "output_type": "stream",
          "name": "stdout",
          "text": [
            "Input: <start> попробуй сделать это . <end>\n",
            "Predicted translation: try to do that . <end> \n"
          ]
        },
        {
          "output_type": "display_data",
          "data": {
            "image/png": "[encoded data removed]",
            "text/plain": [
              "<Figure size 720x720 with 1 Axes>"
            ]
          },
          "metadata": {
            "needs_background": "light"
          }
        }
      ]
    },
    {
      "cell_type": "code",
      "metadata": {
        "id": "f09_hUFx9EJh",
        "colab": {
          "base_uri": "https://localhost:8080/",
          "height": 524
        },
        "outputId": "b5d17f1d-254d-4aac-f3f0-796f0704a0a9"
      },
      "source": [
        "translate(u'Я не люблю, когда идет снег.')"
      ],
      "execution_count": 38,
      "outputs": [
        {
          "output_type": "stream",
          "name": "stdout",
          "text": [
            "Input: <start> я не люблю , когда идет снег . <end>\n",
            "Predicted translation: i don't like honey . <end> \n"
          ]
        },
        {
          "output_type": "display_data",
          "data": {
            "image/png": "[encoded data removed]",
            "text/plain": [
              "<Figure size 720x720 with 1 Axes>"
            ]
          },
          "metadata": {
            "needs_background": "light"
          }
        }
      ]
    },
    {
      "cell_type": "code",
      "metadata": {
        "id": "e7c5p8rmkHQG",
        "colab": {
          "base_uri": "https://localhost:8080/",
          "height": 627
        },
        "outputId": "1594189e-6127-43dc-c3de-e96527aebd0b"
      },
      "source": [
        "translate(u'Я никогда такого не делаю.')"
      ],
      "execution_count": 39,
      "outputs": [
        {
          "output_type": "stream",
          "name": "stdout",
          "text": [
            "Input: <start> я никогда такого не делаю . <end>\n",
            "Predicted translation: i never do that . <end> \n"
          ]
        },
        {
          "output_type": "display_data",
          "data": {
            "image/png": "[encoded data removed]",
            "text/plain": [
              "<Figure size 720x720 with 1 Axes>"
            ]
          },
          "metadata": {
            "needs_background": "light"
          }
        }
      ]
    },
    {
      "cell_type": "code",
      "metadata": {
        "id": "jdXES85KkTVS"
      },
      "source": [
        ""
      ],
      "execution_count": 39,
      "outputs": []
    }
  ]
}